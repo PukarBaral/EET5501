{
 "cells": [
  {
   "cell_type": "markdown",
   "id": "b66e91c2",
   "metadata": {},
   "source": [
    "# Lecture 7: Model Evaluation and 'Types of data fitting', Hyperparameter tuning\n",
    "\n",
    "MTU Spring 2024\n",
    "\n",
    "Instructor: Abel Reyes"
   ]
  },
  {
   "cell_type": "markdown",
   "id": "60c4a2bb",
   "metadata": {},
   "source": [
    "### Announcements\n",
    "- Homework 1 grades posted on canvas!\n",
    "- Homework 2 is due tonight @midnight (submit on time). \n",
    "- Homework 3 available on canvas (due 02/07/24)\n",
    "- No Quiz this week!. "
   ]
  },
  {
   "cell_type": "markdown",
   "id": "c339d820",
   "metadata": {},
   "source": [
    "### Learning outcomes \n",
    "\n",
    "From this lecture, students are expected to be able to:\n",
    "\n",
    "- Explain why accuracy is not always the best metric in ML.\n",
    "- Explain components of a confusion matrix. \n",
    "- Define precision, recall, and f1-score and use them to evaluate different classifiers. \n",
    "- Broadly explain macro-average, weighted average.\n",
    "- Interpret and use precision-recall curves. \n",
    "- Explain average precision score.\n",
    "- Interpret and use ROC curves and ROC AUC using `scikit-learn`.  \n",
    "- Identify whether there is class imbalance and whether you need to deal with it.\n",
    "- Explain and use `class_weight` to deal with data imbalance.\n",
    "\n",
    "- Appropriately select a scoring metric given a regression problem.\n",
    "- Interpret and communicate the meanings of different scoring metrics on regression problems.\n",
    "    - MSE, RMSE, $R^2$, MAPE\n",
    "    \n",
    "- recognize overfitting and/or underfitting by looking at train and test scores;\n",
    "- explain why it is generally not possible to get a perfect test score (zero test error) on a supervised learning problem;\n",
    "- describe the fundamental tradeoff between training score and the train-test gap"
   ]
  },
  {
   "cell_type": "markdown",
   "id": "7ae88457",
   "metadata": {},
   "source": [
    "### Imports"
   ]
  },
  {
   "cell_type": "code",
   "execution_count": 75,
   "id": "66017dc6",
   "metadata": {},
   "outputs": [],
   "source": [
    "import os\n",
    "import sys\n",
    "\n",
    "sys.path.append(\"code/.\")\n",
    "\n",
    "import IPython\n",
    "import matplotlib.pyplot as plt\n",
    "#import mglearn\n",
    "import numpy as np\n",
    "import pandas as pd\n",
    "from IPython.display import HTML, display\n",
    "from plotting_functions import *\n",
    "from sklearn.dummy import DummyClassifier\n",
    "from sklearn.linear_model import LogisticRegression\n",
    "from sklearn.model_selection import cross_val_score, cross_validate, train_test_split\n",
    "from sklearn.pipeline import Pipeline, make_pipeline\n",
    "from sklearn.impute import SimpleImputer\n",
    "from sklearn.preprocessing import OneHotEncoder, OrdinalEncoder, StandardScaler\n",
    "from sklearn.dummy import DummyRegressor\n",
    "from sklearn.linear_model import LinearRegression\n",
    "from sklearn.preprocessing import StandardScaler\n",
    "from sklearn.metrics import make_scorer, mean_squared_error, r2_score\n",
    "\n",
    "\n",
    "from utils import *\n",
    "\n",
    "%matplotlib inline\n",
    "pd.set_option(\"display.max_colwidth\", 200)\n",
    "\n",
    "from IPython.display import Image"
   ]
  },
  {
   "cell_type": "code",
   "execution_count": 2,
   "id": "b7451d6c",
   "metadata": {},
   "outputs": [],
   "source": [
    "# Changing global matplotlib settings for confusion matrix.\n",
    "plt.rcParams[\"xtick.labelsize\"] = 18\n",
    "plt.rcParams[\"ytick.labelsize\"] = 18"
   ]
  },
  {
   "cell_type": "markdown",
   "id": "70fe8d43",
   "metadata": {},
   "source": [
    "## Evaluation metrics for binary classification: Motivation "
   ]
  },
  {
   "cell_type": "markdown",
   "id": "942ab633",
   "metadata": {},
   "source": [
    "### Dataset for demonstration \n",
    "\n",
    "- Let's classify fraudulent and non-fraudulent transactions using Kaggle's [Credit Card Fraud Detection](https://www.kaggle.com/mlg-ulb/creditcardfraud) data set."
   ]
  },
  {
   "cell_type": "code",
   "execution_count": 3,
   "id": "cdad076b",
   "metadata": {},
   "outputs": [
    {
     "data": {
      "text/html": [
       "<div>\n",
       "<style scoped>\n",
       "    .dataframe tbody tr th:only-of-type {\n",
       "        vertical-align: middle;\n",
       "    }\n",
       "\n",
       "    .dataframe tbody tr th {\n",
       "        vertical-align: top;\n",
       "    }\n",
       "\n",
       "    .dataframe thead th {\n",
       "        text-align: right;\n",
       "    }\n",
       "</style>\n",
       "<table border=\"1\" class=\"dataframe\">\n",
       "  <thead>\n",
       "    <tr style=\"text-align: right;\">\n",
       "      <th></th>\n",
       "      <th>Time</th>\n",
       "      <th>V1</th>\n",
       "      <th>V2</th>\n",
       "      <th>V3</th>\n",
       "      <th>V4</th>\n",
       "      <th>V5</th>\n",
       "      <th>V6</th>\n",
       "      <th>V7</th>\n",
       "      <th>V8</th>\n",
       "      <th>V9</th>\n",
       "      <th>...</th>\n",
       "      <th>V21</th>\n",
       "      <th>V22</th>\n",
       "      <th>V23</th>\n",
       "      <th>V24</th>\n",
       "      <th>V25</th>\n",
       "      <th>V26</th>\n",
       "      <th>V27</th>\n",
       "      <th>V28</th>\n",
       "      <th>Amount</th>\n",
       "      <th>Class</th>\n",
       "    </tr>\n",
       "  </thead>\n",
       "  <tbody>\n",
       "    <tr>\n",
       "      <th>64454</th>\n",
       "      <td>51150.0</td>\n",
       "      <td>-3.538816</td>\n",
       "      <td>3.481893</td>\n",
       "      <td>-1.827130</td>\n",
       "      <td>-0.573050</td>\n",
       "      <td>2.644106</td>\n",
       "      <td>-0.340988</td>\n",
       "      <td>2.102135</td>\n",
       "      <td>-2.939006</td>\n",
       "      <td>2.578654</td>\n",
       "      <td>...</td>\n",
       "      <td>0.530978</td>\n",
       "      <td>-0.860677</td>\n",
       "      <td>-0.201810</td>\n",
       "      <td>-1.719747</td>\n",
       "      <td>0.729143</td>\n",
       "      <td>-0.547993</td>\n",
       "      <td>-0.023636</td>\n",
       "      <td>-0.454966</td>\n",
       "      <td>1.00</td>\n",
       "      <td>0</td>\n",
       "    </tr>\n",
       "    <tr>\n",
       "      <th>37906</th>\n",
       "      <td>39163.0</td>\n",
       "      <td>-0.363913</td>\n",
       "      <td>0.853399</td>\n",
       "      <td>1.648195</td>\n",
       "      <td>1.118934</td>\n",
       "      <td>0.100882</td>\n",
       "      <td>0.423852</td>\n",
       "      <td>0.472790</td>\n",
       "      <td>-0.972440</td>\n",
       "      <td>0.033833</td>\n",
       "      <td>...</td>\n",
       "      <td>0.687055</td>\n",
       "      <td>-0.094586</td>\n",
       "      <td>0.121531</td>\n",
       "      <td>0.146830</td>\n",
       "      <td>-0.944092</td>\n",
       "      <td>-0.558564</td>\n",
       "      <td>-0.186814</td>\n",
       "      <td>-0.257103</td>\n",
       "      <td>18.49</td>\n",
       "      <td>0</td>\n",
       "    </tr>\n",
       "    <tr>\n",
       "      <th>79378</th>\n",
       "      <td>57994.0</td>\n",
       "      <td>1.193021</td>\n",
       "      <td>-0.136714</td>\n",
       "      <td>0.622612</td>\n",
       "      <td>0.780864</td>\n",
       "      <td>-0.823511</td>\n",
       "      <td>-0.706444</td>\n",
       "      <td>-0.206073</td>\n",
       "      <td>-0.016918</td>\n",
       "      <td>0.781531</td>\n",
       "      <td>...</td>\n",
       "      <td>-0.310405</td>\n",
       "      <td>-0.842028</td>\n",
       "      <td>0.085477</td>\n",
       "      <td>0.366005</td>\n",
       "      <td>0.254443</td>\n",
       "      <td>0.290002</td>\n",
       "      <td>-0.036764</td>\n",
       "      <td>0.015039</td>\n",
       "      <td>23.74</td>\n",
       "      <td>0</td>\n",
       "    </tr>\n",
       "    <tr>\n",
       "      <th>245686</th>\n",
       "      <td>152859.0</td>\n",
       "      <td>1.604032</td>\n",
       "      <td>-0.808208</td>\n",
       "      <td>-1.594982</td>\n",
       "      <td>0.200475</td>\n",
       "      <td>0.502985</td>\n",
       "      <td>0.832370</td>\n",
       "      <td>-0.034071</td>\n",
       "      <td>0.234040</td>\n",
       "      <td>0.550616</td>\n",
       "      <td>...</td>\n",
       "      <td>0.519029</td>\n",
       "      <td>1.429217</td>\n",
       "      <td>-0.139322</td>\n",
       "      <td>-1.293663</td>\n",
       "      <td>0.037785</td>\n",
       "      <td>0.061206</td>\n",
       "      <td>0.005387</td>\n",
       "      <td>-0.057296</td>\n",
       "      <td>156.52</td>\n",
       "      <td>0</td>\n",
       "    </tr>\n",
       "    <tr>\n",
       "      <th>60943</th>\n",
       "      <td>49575.0</td>\n",
       "      <td>-2.669614</td>\n",
       "      <td>-2.734385</td>\n",
       "      <td>0.662450</td>\n",
       "      <td>-0.059077</td>\n",
       "      <td>3.346850</td>\n",
       "      <td>-2.549682</td>\n",
       "      <td>-1.430571</td>\n",
       "      <td>-0.118450</td>\n",
       "      <td>0.469383</td>\n",
       "      <td>...</td>\n",
       "      <td>-0.228329</td>\n",
       "      <td>-0.370643</td>\n",
       "      <td>-0.211544</td>\n",
       "      <td>-0.300837</td>\n",
       "      <td>-1.174590</td>\n",
       "      <td>0.573818</td>\n",
       "      <td>0.388023</td>\n",
       "      <td>0.161782</td>\n",
       "      <td>57.50</td>\n",
       "      <td>0</td>\n",
       "    </tr>\n",
       "  </tbody>\n",
       "</table>\n",
       "<p>5 rows × 31 columns</p>\n",
       "</div>"
      ],
      "text/plain": [
       "            Time        V1        V2        V3        V4        V5        V6  \\\n",
       "64454    51150.0 -3.538816  3.481893 -1.827130 -0.573050  2.644106 -0.340988   \n",
       "37906    39163.0 -0.363913  0.853399  1.648195  1.118934  0.100882  0.423852   \n",
       "79378    57994.0  1.193021 -0.136714  0.622612  0.780864 -0.823511 -0.706444   \n",
       "245686  152859.0  1.604032 -0.808208 -1.594982  0.200475  0.502985  0.832370   \n",
       "60943    49575.0 -2.669614 -2.734385  0.662450 -0.059077  3.346850 -2.549682   \n",
       "\n",
       "              V7        V8        V9  ...       V21       V22       V23  \\\n",
       "64454   2.102135 -2.939006  2.578654  ...  0.530978 -0.860677 -0.201810   \n",
       "37906   0.472790 -0.972440  0.033833  ...  0.687055 -0.094586  0.121531   \n",
       "79378  -0.206073 -0.016918  0.781531  ... -0.310405 -0.842028  0.085477   \n",
       "245686 -0.034071  0.234040  0.550616  ...  0.519029  1.429217 -0.139322   \n",
       "60943  -1.430571 -0.118450  0.469383  ... -0.228329 -0.370643 -0.211544   \n",
       "\n",
       "             V24       V25       V26       V27       V28  Amount  Class  \n",
       "64454  -1.719747  0.729143 -0.547993 -0.023636 -0.454966    1.00      0  \n",
       "37906   0.146830 -0.944092 -0.558564 -0.186814 -0.257103   18.49      0  \n",
       "79378   0.366005  0.254443  0.290002 -0.036764  0.015039   23.74      0  \n",
       "245686 -1.293663  0.037785  0.061206  0.005387 -0.057296  156.52      0  \n",
       "60943  -0.300837 -1.174590  0.573818  0.388023  0.161782   57.50      0  \n",
       "\n",
       "[5 rows x 31 columns]"
      ]
     },
     "execution_count": 3,
     "metadata": {},
     "output_type": "execute_result"
    }
   ],
   "source": [
    "cc_df = pd.read_csv(\"data/creditcard.csv\", encoding=\"latin-1\")\n",
    "train_df, test_df = train_test_split(cc_df, test_size=0.3, random_state=111)\n",
    "train_df.head()"
   ]
  },
  {
   "cell_type": "code",
   "execution_count": null,
   "id": "02f9cab6",
   "metadata": {},
   "outputs": [],
   "source": []
  },
  {
   "cell_type": "code",
   "execution_count": 4,
   "id": "150ce45f",
   "metadata": {},
   "outputs": [
    {
     "data": {
      "text/plain": [
       "(199364, 31)"
      ]
     },
     "execution_count": 4,
     "metadata": {},
     "output_type": "execute_result"
    }
   ],
   "source": [
    "train_df.shape"
   ]
  },
  {
   "cell_type": "markdown",
   "id": "bde9b6f9",
   "metadata": {},
   "source": [
    "- Good size dataset \n",
    "- For confidentially reasons, it only provides transformed features with PCA, which is a popular dimensionality reduction technique. "
   ]
  },
  {
   "cell_type": "code",
   "execution_count": null,
   "id": "6ae97d31",
   "metadata": {},
   "outputs": [],
   "source": []
  },
  {
   "cell_type": "markdown",
   "id": "12337d3d",
   "metadata": {},
   "source": [
    "## EDA"
   ]
  },
  {
   "cell_type": "code",
   "execution_count": 5,
   "id": "11b50cbc",
   "metadata": {},
   "outputs": [
    {
     "name": "stdout",
     "output_type": "stream",
     "text": [
      "<class 'pandas.core.frame.DataFrame'>\n",
      "Int64Index: 199364 entries, 64454 to 129900\n",
      "Data columns (total 31 columns):\n",
      " #   Column  Non-Null Count   Dtype  \n",
      "---  ------  --------------   -----  \n",
      " 0   Time    199364 non-null  float64\n",
      " 1   V1      199364 non-null  float64\n",
      " 2   V2      199364 non-null  float64\n",
      " 3   V3      199364 non-null  float64\n",
      " 4   V4      199364 non-null  float64\n",
      " 5   V5      199364 non-null  float64\n",
      " 6   V6      199364 non-null  float64\n",
      " 7   V7      199364 non-null  float64\n",
      " 8   V8      199364 non-null  float64\n",
      " 9   V9      199364 non-null  float64\n",
      " 10  V10     199364 non-null  float64\n",
      " 11  V11     199364 non-null  float64\n",
      " 12  V12     199364 non-null  float64\n",
      " 13  V13     199364 non-null  float64\n",
      " 14  V14     199364 non-null  float64\n",
      " 15  V15     199364 non-null  float64\n",
      " 16  V16     199364 non-null  float64\n",
      " 17  V17     199364 non-null  float64\n",
      " 18  V18     199364 non-null  float64\n",
      " 19  V19     199364 non-null  float64\n",
      " 20  V20     199364 non-null  float64\n",
      " 21  V21     199364 non-null  float64\n",
      " 22  V22     199364 non-null  float64\n",
      " 23  V23     199364 non-null  float64\n",
      " 24  V24     199364 non-null  float64\n",
      " 25  V25     199364 non-null  float64\n",
      " 26  V26     199364 non-null  float64\n",
      " 27  V27     199364 non-null  float64\n",
      " 28  V28     199364 non-null  float64\n",
      " 29  Amount  199364 non-null  float64\n",
      " 30  Class   199364 non-null  int64  \n",
      "dtypes: float64(30), int64(1)\n",
      "memory usage: 48.7 MB\n"
     ]
    }
   ],
   "source": [
    "train_df.info()"
   ]
  },
  {
   "cell_type": "code",
   "execution_count": null,
   "id": "de38eae9",
   "metadata": {},
   "outputs": [],
   "source": []
  },
  {
   "cell_type": "code",
   "execution_count": 6,
   "id": "cd845139",
   "metadata": {},
   "outputs": [
    {
     "data": {
      "text/html": [
       "<div>\n",
       "<style scoped>\n",
       "    .dataframe tbody tr th:only-of-type {\n",
       "        vertical-align: middle;\n",
       "    }\n",
       "\n",
       "    .dataframe tbody tr th {\n",
       "        vertical-align: top;\n",
       "    }\n",
       "\n",
       "    .dataframe thead th {\n",
       "        text-align: right;\n",
       "    }\n",
       "</style>\n",
       "<table border=\"1\" class=\"dataframe\">\n",
       "  <thead>\n",
       "    <tr style=\"text-align: right;\">\n",
       "      <th></th>\n",
       "      <th>Time</th>\n",
       "      <th>V1</th>\n",
       "      <th>V2</th>\n",
       "      <th>V3</th>\n",
       "      <th>V4</th>\n",
       "      <th>V5</th>\n",
       "      <th>V6</th>\n",
       "      <th>V7</th>\n",
       "      <th>V8</th>\n",
       "      <th>V9</th>\n",
       "      <th>...</th>\n",
       "      <th>V21</th>\n",
       "      <th>V22</th>\n",
       "      <th>V23</th>\n",
       "      <th>V24</th>\n",
       "      <th>V25</th>\n",
       "      <th>V26</th>\n",
       "      <th>V27</th>\n",
       "      <th>V28</th>\n",
       "      <th>Amount</th>\n",
       "      <th>Class</th>\n",
       "    </tr>\n",
       "  </thead>\n",
       "  <tbody>\n",
       "    <tr>\n",
       "      <th>count</th>\n",
       "      <td>199364.000000</td>\n",
       "      <td>199364.000000</td>\n",
       "      <td>199364.000000</td>\n",
       "      <td>199364.000000</td>\n",
       "      <td>199364.000000</td>\n",
       "      <td>199364.000000</td>\n",
       "      <td>199364.000000</td>\n",
       "      <td>199364.000000</td>\n",
       "      <td>199364.000000</td>\n",
       "      <td>199364.000000</td>\n",
       "      <td>...</td>\n",
       "      <td>199364.000000</td>\n",
       "      <td>199364.000000</td>\n",
       "      <td>199364.000000</td>\n",
       "      <td>199364.000000</td>\n",
       "      <td>199364.000000</td>\n",
       "      <td>199364.000000</td>\n",
       "      <td>199364.000000</td>\n",
       "      <td>199364.000000</td>\n",
       "      <td>199364.000000</td>\n",
       "      <td>199364.000000</td>\n",
       "    </tr>\n",
       "    <tr>\n",
       "      <th>mean</th>\n",
       "      <td>94888.815669</td>\n",
       "      <td>0.000492</td>\n",
       "      <td>-0.000726</td>\n",
       "      <td>0.000927</td>\n",
       "      <td>0.000630</td>\n",
       "      <td>0.000036</td>\n",
       "      <td>0.000011</td>\n",
       "      <td>-0.001286</td>\n",
       "      <td>-0.002889</td>\n",
       "      <td>-0.000891</td>\n",
       "      <td>...</td>\n",
       "      <td>0.001205</td>\n",
       "      <td>0.000155</td>\n",
       "      <td>-0.000198</td>\n",
       "      <td>0.000113</td>\n",
       "      <td>0.000235</td>\n",
       "      <td>0.000312</td>\n",
       "      <td>-0.000366</td>\n",
       "      <td>0.000227</td>\n",
       "      <td>88.164679</td>\n",
       "      <td>0.001700</td>\n",
       "    </tr>\n",
       "    <tr>\n",
       "      <th>std</th>\n",
       "      <td>47491.435489</td>\n",
       "      <td>1.959870</td>\n",
       "      <td>1.645519</td>\n",
       "      <td>1.505335</td>\n",
       "      <td>1.413958</td>\n",
       "      <td>1.361718</td>\n",
       "      <td>1.327188</td>\n",
       "      <td>1.210001</td>\n",
       "      <td>1.214852</td>\n",
       "      <td>1.096927</td>\n",
       "      <td>...</td>\n",
       "      <td>0.748510</td>\n",
       "      <td>0.726634</td>\n",
       "      <td>0.628139</td>\n",
       "      <td>0.605060</td>\n",
       "      <td>0.520857</td>\n",
       "      <td>0.481960</td>\n",
       "      <td>0.401541</td>\n",
       "      <td>0.333139</td>\n",
       "      <td>238.925768</td>\n",
       "      <td>0.041201</td>\n",
       "    </tr>\n",
       "    <tr>\n",
       "      <th>min</th>\n",
       "      <td>0.000000</td>\n",
       "      <td>-56.407510</td>\n",
       "      <td>-72.715728</td>\n",
       "      <td>-31.813586</td>\n",
       "      <td>-5.683171</td>\n",
       "      <td>-42.147898</td>\n",
       "      <td>-26.160506</td>\n",
       "      <td>-43.557242</td>\n",
       "      <td>-73.216718</td>\n",
       "      <td>-13.320155</td>\n",
       "      <td>...</td>\n",
       "      <td>-34.830382</td>\n",
       "      <td>-8.887017</td>\n",
       "      <td>-44.807735</td>\n",
       "      <td>-2.824849</td>\n",
       "      <td>-10.295397</td>\n",
       "      <td>-2.241620</td>\n",
       "      <td>-22.565679</td>\n",
       "      <td>-11.710896</td>\n",
       "      <td>0.000000</td>\n",
       "      <td>0.000000</td>\n",
       "    </tr>\n",
       "    <tr>\n",
       "      <th>25%</th>\n",
       "      <td>54240.000000</td>\n",
       "      <td>-0.918124</td>\n",
       "      <td>-0.600193</td>\n",
       "      <td>-0.892476</td>\n",
       "      <td>-0.847178</td>\n",
       "      <td>-0.691241</td>\n",
       "      <td>-0.768512</td>\n",
       "      <td>-0.553979</td>\n",
       "      <td>-0.209746</td>\n",
       "      <td>-0.642965</td>\n",
       "      <td>...</td>\n",
       "      <td>-0.227836</td>\n",
       "      <td>-0.541795</td>\n",
       "      <td>-0.162330</td>\n",
       "      <td>-0.354604</td>\n",
       "      <td>-0.317761</td>\n",
       "      <td>-0.326730</td>\n",
       "      <td>-0.070929</td>\n",
       "      <td>-0.052819</td>\n",
       "      <td>5.640000</td>\n",
       "      <td>0.000000</td>\n",
       "    </tr>\n",
       "    <tr>\n",
       "      <th>50%</th>\n",
       "      <td>84772.500000</td>\n",
       "      <td>0.018854</td>\n",
       "      <td>0.065463</td>\n",
       "      <td>0.179080</td>\n",
       "      <td>-0.019531</td>\n",
       "      <td>-0.056703</td>\n",
       "      <td>-0.275290</td>\n",
       "      <td>0.040497</td>\n",
       "      <td>0.022039</td>\n",
       "      <td>-0.052607</td>\n",
       "      <td>...</td>\n",
       "      <td>-0.029146</td>\n",
       "      <td>0.007666</td>\n",
       "      <td>-0.011678</td>\n",
       "      <td>0.041031</td>\n",
       "      <td>0.016587</td>\n",
       "      <td>-0.052790</td>\n",
       "      <td>0.001239</td>\n",
       "      <td>0.011234</td>\n",
       "      <td>22.000000</td>\n",
       "      <td>0.000000</td>\n",
       "    </tr>\n",
       "    <tr>\n",
       "      <th>75%</th>\n",
       "      <td>139349.250000</td>\n",
       "      <td>1.315630</td>\n",
       "      <td>0.803617</td>\n",
       "      <td>1.028023</td>\n",
       "      <td>0.744201</td>\n",
       "      <td>0.610407</td>\n",
       "      <td>0.399827</td>\n",
       "      <td>0.570449</td>\n",
       "      <td>0.327408</td>\n",
       "      <td>0.597326</td>\n",
       "      <td>...</td>\n",
       "      <td>0.186899</td>\n",
       "      <td>0.529210</td>\n",
       "      <td>0.146809</td>\n",
       "      <td>0.439209</td>\n",
       "      <td>0.351366</td>\n",
       "      <td>0.242169</td>\n",
       "      <td>0.090453</td>\n",
       "      <td>0.078052</td>\n",
       "      <td>77.150000</td>\n",
       "      <td>0.000000</td>\n",
       "    </tr>\n",
       "    <tr>\n",
       "      <th>max</th>\n",
       "      <td>172792.000000</td>\n",
       "      <td>2.451888</td>\n",
       "      <td>22.057729</td>\n",
       "      <td>9.382558</td>\n",
       "      <td>16.491217</td>\n",
       "      <td>34.801666</td>\n",
       "      <td>23.917837</td>\n",
       "      <td>44.054461</td>\n",
       "      <td>19.587773</td>\n",
       "      <td>15.594995</td>\n",
       "      <td>...</td>\n",
       "      <td>27.202839</td>\n",
       "      <td>10.503090</td>\n",
       "      <td>22.083545</td>\n",
       "      <td>4.022866</td>\n",
       "      <td>6.070850</td>\n",
       "      <td>3.517346</td>\n",
       "      <td>12.152401</td>\n",
       "      <td>33.847808</td>\n",
       "      <td>11898.090000</td>\n",
       "      <td>1.000000</td>\n",
       "    </tr>\n",
       "  </tbody>\n",
       "</table>\n",
       "<p>8 rows × 31 columns</p>\n",
       "</div>"
      ],
      "text/plain": [
       "                Time             V1             V2             V3  \\\n",
       "count  199364.000000  199364.000000  199364.000000  199364.000000   \n",
       "mean    94888.815669       0.000492      -0.000726       0.000927   \n",
       "std     47491.435489       1.959870       1.645519       1.505335   \n",
       "min         0.000000     -56.407510     -72.715728     -31.813586   \n",
       "25%     54240.000000      -0.918124      -0.600193      -0.892476   \n",
       "50%     84772.500000       0.018854       0.065463       0.179080   \n",
       "75%    139349.250000       1.315630       0.803617       1.028023   \n",
       "max    172792.000000       2.451888      22.057729       9.382558   \n",
       "\n",
       "                  V4             V5             V6             V7  \\\n",
       "count  199364.000000  199364.000000  199364.000000  199364.000000   \n",
       "mean        0.000630       0.000036       0.000011      -0.001286   \n",
       "std         1.413958       1.361718       1.327188       1.210001   \n",
       "min        -5.683171     -42.147898     -26.160506     -43.557242   \n",
       "25%        -0.847178      -0.691241      -0.768512      -0.553979   \n",
       "50%        -0.019531      -0.056703      -0.275290       0.040497   \n",
       "75%         0.744201       0.610407       0.399827       0.570449   \n",
       "max        16.491217      34.801666      23.917837      44.054461   \n",
       "\n",
       "                  V8             V9  ...            V21            V22  \\\n",
       "count  199364.000000  199364.000000  ...  199364.000000  199364.000000   \n",
       "mean       -0.002889      -0.000891  ...       0.001205       0.000155   \n",
       "std         1.214852       1.096927  ...       0.748510       0.726634   \n",
       "min       -73.216718     -13.320155  ...     -34.830382      -8.887017   \n",
       "25%        -0.209746      -0.642965  ...      -0.227836      -0.541795   \n",
       "50%         0.022039      -0.052607  ...      -0.029146       0.007666   \n",
       "75%         0.327408       0.597326  ...       0.186899       0.529210   \n",
       "max        19.587773      15.594995  ...      27.202839      10.503090   \n",
       "\n",
       "                 V23            V24            V25            V26  \\\n",
       "count  199364.000000  199364.000000  199364.000000  199364.000000   \n",
       "mean       -0.000198       0.000113       0.000235       0.000312   \n",
       "std         0.628139       0.605060       0.520857       0.481960   \n",
       "min       -44.807735      -2.824849     -10.295397      -2.241620   \n",
       "25%        -0.162330      -0.354604      -0.317761      -0.326730   \n",
       "50%        -0.011678       0.041031       0.016587      -0.052790   \n",
       "75%         0.146809       0.439209       0.351366       0.242169   \n",
       "max        22.083545       4.022866       6.070850       3.517346   \n",
       "\n",
       "                 V27            V28         Amount          Class  \n",
       "count  199364.000000  199364.000000  199364.000000  199364.000000  \n",
       "mean       -0.000366       0.000227      88.164679       0.001700  \n",
       "std         0.401541       0.333139     238.925768       0.041201  \n",
       "min       -22.565679     -11.710896       0.000000       0.000000  \n",
       "25%        -0.070929      -0.052819       5.640000       0.000000  \n",
       "50%         0.001239       0.011234      22.000000       0.000000  \n",
       "75%         0.090453       0.078052      77.150000       0.000000  \n",
       "max        12.152401      33.847808   11898.090000       1.000000  \n",
       "\n",
       "[8 rows x 31 columns]"
      ]
     },
     "execution_count": 6,
     "metadata": {},
     "output_type": "execute_result"
    }
   ],
   "source": [
    "train_df.describe(include=\"all\")"
   ]
  },
  {
   "cell_type": "code",
   "execution_count": null,
   "id": "ad7365e2",
   "metadata": {},
   "outputs": [],
   "source": []
  },
  {
   "cell_type": "markdown",
   "id": "486f1244",
   "metadata": {},
   "source": [
    "- We do not have categorical features. All features are numeric. \n",
    "- We have to be careful about the `Time` and `Amount` features. \n",
    "- We could scale `Amount`. \n",
    "- Do we want to scale time?\n",
    "    - In this lecture, we'll just drop the Time feature. \n",
    "    - We'll learn about time series briefly later in the course. "
   ]
  },
  {
   "cell_type": "markdown",
   "id": "0f2b2413",
   "metadata": {},
   "source": [
    "Let's separate `X` and `y` for train and test splits."
   ]
  },
  {
   "cell_type": "code",
   "execution_count": 7,
   "id": "0ea33585",
   "metadata": {},
   "outputs": [],
   "source": [
    "X_train_big, y_train_big = train_df.drop(columns=[\"Class\", \"Time\"]), train_df[\"Class\"]\n",
    "X_test, y_test = test_df.drop(columns=[\"Class\", \"Time\"]), test_df[\"Class\"]"
   ]
  },
  {
   "cell_type": "code",
   "execution_count": null,
   "id": "7c3196af",
   "metadata": {},
   "outputs": [],
   "source": []
  },
  {
   "cell_type": "markdown",
   "id": "80ce6795",
   "metadata": {},
   "source": [
    "- It's easier to demonstrate evaluation metrics using an explicit validation set instead of using cross-validation. \n",
    "- So let's create a validation set. \n",
    "- Our data is large enough so it shouldn't be a problem. "
   ]
  },
  {
   "cell_type": "code",
   "execution_count": 8,
   "id": "0d5e5b28",
   "metadata": {},
   "outputs": [],
   "source": [
    "X_train, X_valid, y_train, y_valid = train_test_split(\n",
    "    X_train_big, y_train_big, test_size=0.3, random_state=123\n",
    ")"
   ]
  },
  {
   "cell_type": "code",
   "execution_count": null,
   "id": "11fc1bc3",
   "metadata": {},
   "outputs": [],
   "source": []
  },
  {
   "cell_type": "markdown",
   "id": "11fa2be1",
   "metadata": {},
   "source": [
    "### Baseline"
   ]
  },
  {
   "cell_type": "code",
   "execution_count": null,
   "id": "05354621",
   "metadata": {},
   "outputs": [],
   "source": []
  },
  {
   "cell_type": "code",
   "execution_count": 9,
   "id": "61da808d",
   "metadata": {},
   "outputs": [
    {
     "data": {
      "text/plain": [
       "fit_time       0.015800\n",
       "score_time     0.001726\n",
       "test_score     0.998302\n",
       "train_score    0.998302\n",
       "dtype: float64"
      ]
     },
     "execution_count": 9,
     "metadata": {},
     "output_type": "execute_result"
    }
   ],
   "source": [
    "dummy = DummyClassifier()\n",
    "pd.DataFrame(cross_validate(dummy, X_train, y_train, return_train_score=True)).mean()"
   ]
  },
  {
   "cell_type": "code",
   "execution_count": null,
   "id": "900e2e9b",
   "metadata": {},
   "outputs": [],
   "source": []
  },
  {
   "cell_type": "markdown",
   "id": "2fdf85aa",
   "metadata": {},
   "source": [
    "### Observations \n",
    "\n",
    "- `DummyClassifier` is getting 0.998 cross-validation accuracy!! \n",
    "- Should we be happy with this accuracy and deploy this `DummyClassifier` model for fraud detection? "
   ]
  },
  {
   "cell_type": "code",
   "execution_count": null,
   "id": "52d87e83",
   "metadata": {},
   "outputs": [],
   "source": []
  },
  {
   "cell_type": "markdown",
   "id": "974bb633",
   "metadata": {},
   "source": [
    "What's the class distribution? "
   ]
  },
  {
   "cell_type": "code",
   "execution_count": 10,
   "id": "0feb16e3",
   "metadata": {},
   "outputs": [
    {
     "data": {
      "text/plain": [
       "0    0.9983\n",
       "1    0.0017\n",
       "Name: Class, dtype: float64"
      ]
     },
     "execution_count": 10,
     "metadata": {},
     "output_type": "execute_result"
    }
   ],
   "source": [
    "train_df[\"Class\"].value_counts(normalize=True)"
   ]
  },
  {
   "cell_type": "code",
   "execution_count": null,
   "id": "ca311808",
   "metadata": {},
   "outputs": [],
   "source": []
  },
  {
   "cell_type": "markdown",
   "id": "e030814e",
   "metadata": {},
   "source": [
    "- We have class imbalance. \n",
    "- We have MANY non-fraud transactions and only a handful of fraud transactions. \n",
    "- So in the training set, `most_frequent` strategy is labeling 199,025 (99.83%) instances correctly and only 339 (0.17%) instances incorrectly. \n",
    "- Is this what we want? \n",
    "- The \"fraud\" class is the important class that we want to spot. "
   ]
  },
  {
   "cell_type": "code",
   "execution_count": null,
   "id": "68496918",
   "metadata": {},
   "outputs": [],
   "source": []
  },
  {
   "cell_type": "markdown",
   "id": "aa1c15b5",
   "metadata": {},
   "source": [
    "Let's scale the features and try `LogisticRegression`.   "
   ]
  },
  {
   "cell_type": "code",
   "execution_count": 11,
   "id": "5096e8f6",
   "metadata": {},
   "outputs": [
    {
     "data": {
      "text/plain": [
       "fit_time       0.383036\n",
       "score_time     0.008197\n",
       "test_score     0.999176\n",
       "train_score    0.999235\n",
       "dtype: float64"
      ]
     },
     "execution_count": 11,
     "metadata": {},
     "output_type": "execute_result"
    }
   ],
   "source": [
    "pipe = make_pipeline(StandardScaler(), LogisticRegression())\n",
    "pd.DataFrame(cross_validate(pipe, X_train, y_train, return_train_score=True)).mean()"
   ]
  },
  {
   "cell_type": "code",
   "execution_count": null,
   "id": "d01809a2",
   "metadata": {},
   "outputs": [],
   "source": []
  },
  {
   "cell_type": "markdown",
   "id": "76e3c442",
   "metadata": {},
   "source": [
    "- We are getting a slightly better score with logistic regression.  \n",
    "- What score should be considered an acceptable score here? \n",
    "- Are we actually spotting any \"fraud\" transactions? "
   ]
  },
  {
   "cell_type": "code",
   "execution_count": null,
   "id": "c8064b79",
   "metadata": {},
   "outputs": [],
   "source": []
  },
  {
   "cell_type": "markdown",
   "id": "ac8b4425",
   "metadata": {},
   "source": [
    "- `.score` by default returns accuracy which is \n",
    "$$\\frac{\\text{correct predictions}}{\\text{total examples}}$$\n",
    "- Is accuracy a good metric here? \n",
    "- Is there anything more informative than accuracy that we can use here? \n",
    "\n",
    "Let's dig a little deeper."
   ]
  },
  {
   "cell_type": "code",
   "execution_count": null,
   "id": "df5a5ec9",
   "metadata": {},
   "outputs": [],
   "source": []
  },
  {
   "cell_type": "markdown",
   "id": "1d58b0a5",
   "metadata": {},
   "source": [
    "## Confusion matrix"
   ]
  },
  {
   "cell_type": "code",
   "execution_count": null,
   "id": "2a9e47a6",
   "metadata": {},
   "outputs": [],
   "source": []
  },
  {
   "cell_type": "markdown",
   "id": "f35bde2e",
   "metadata": {},
   "source": [
    "One way to get a better understanding of the errors is by looking at \n",
    "- false positives (type I errors), where the model incorrectly spots examples as fraud\n",
    "- false negatives (type II errors), where it's missing to spot fraud examples "
   ]
  },
  {
   "cell_type": "code",
   "execution_count": null,
   "id": "86c0f253",
   "metadata": {},
   "outputs": [],
   "source": []
  },
  {
   "cell_type": "code",
   "execution_count": 12,
   "id": "54d41faa",
   "metadata": {},
   "outputs": [
    {
     "data": {
      "image/png": "[encoded data removed]",
      "text/plain": [
       "<Figure size 640x480 with 1 Axes>"
      ]
     },
     "metadata": {},
     "output_type": "display_data"
    }
   ],
   "source": [
    "from sklearn.metrics import ConfusionMatrixDisplay\n",
    "\n",
    "pipe.fit(X_train, y_train)\n",
    "disp = ConfusionMatrixDisplay.from_estimator(\n",
    "    pipe,\n",
    "    X_valid,\n",
    "    y_valid,\n",
    "    display_labels=[\"Non fraud\", \"fraud\"],\n",
    "    values_format=\"d\",\n",
    "    cmap=plt.cm.Blues,\n",
    "    colorbar=False,\n",
    ");"
   ]
  },
  {
   "cell_type": "code",
   "execution_count": null,
   "id": "c9281494",
   "metadata": {},
   "outputs": [],
   "source": []
  },
  {
   "cell_type": "code",
   "execution_count": 14,
   "id": "35617443",
   "metadata": {},
   "outputs": [
    {
     "data": {
      "image/png": "[encoded data removed]",
      "text/plain": [
       "<Figure size 700x700 with 1 Axes>"
      ]
     },
     "metadata": {},
     "output_type": "display_data"
    }
   ],
   "source": [
    "from sklearn.metrics import confusion_matrix\n",
    "\n",
    "predictions = pipe.predict(X_valid)\n",
    "TN, FP, FN, TP = confusion_matrix(y_valid, predictions).ravel()\n",
    "plot_confusion_matrix_ex(TN, FP, FN, TP)"
   ]
  },
  {
   "attachments": {
    "image.png": {
     "image/png": "[encoded data removed]"
    }
   },
   "cell_type": "markdown",
   "id": "9f8a92db",
   "metadata": {},
   "source": [
    "![image.png](attachment:image.png)"
   ]
  },
  {
   "cell_type": "markdown",
   "id": "13a50791",
   "metadata": {},
   "source": [
    "- Perfect prediction has all values down the diagonal\n",
    "- Off diagonal entries can often tell us about what is being mis-predicted"
   ]
  },
  {
   "cell_type": "code",
   "execution_count": null,
   "id": "83e86dfc",
   "metadata": {},
   "outputs": [],
   "source": []
  },
  {
   "cell_type": "markdown",
   "id": "2d5edbd1",
   "metadata": {},
   "source": [
    "### What is \"positive\" and \"negative\"?\n",
    "\n",
    "- Two kinds of binary classification problems \n",
    "    - Distinguishing between two classes\n",
    "    - Spotting a class (spot fraud transaction, spot spam, spot disease)\n",
    "- In case of spotting problems, the thing that we are interested in spotting is considered \"positive\". \n",
    "- Above we wanted to spot fraudulent transactions and so they are \"positive\". "
   ]
  },
  {
   "cell_type": "code",
   "execution_count": null,
   "id": "5bc97130",
   "metadata": {},
   "outputs": [],
   "source": []
  },
  {
   "cell_type": "markdown",
   "id": "de16d34d",
   "metadata": {},
   "source": [
    "You can get a numpy array of confusion matrix as follows: "
   ]
  },
  {
   "cell_type": "code",
   "execution_count": 15,
   "id": "e2b6c6cc",
   "metadata": {},
   "outputs": [
    {
     "name": "stdout",
     "output_type": "stream",
     "text": [
      "Confusion matrix for fraud data set\n",
      "[[59700     8]\n",
      " [   38    64]]\n"
     ]
    }
   ],
   "source": [
    "from sklearn.metrics import confusion_matrix\n",
    "\n",
    "predictions = pipe.predict(X_valid)\n",
    "TN, FP, FN, TP = confusion_matrix(y_valid, predictions).ravel()\n",
    "print(\"Confusion matrix for fraud data set\")\n",
    "print(disp.confusion_matrix)"
   ]
  },
  {
   "cell_type": "code",
   "execution_count": null,
   "id": "9299d483",
   "metadata": {},
   "outputs": [],
   "source": []
  },
  {
   "cell_type": "markdown",
   "id": "0e80a29e",
   "metadata": {},
   "source": [
    "### Confusion matrix with cross-validation "
   ]
  },
  {
   "cell_type": "markdown",
   "id": "7828aef4",
   "metadata": {},
   "source": [
    "- You can also calculate confusion matrix with cross-validation using the `cross_val_predict` method.  \n",
    "- But then you cannot conveniently use `plot_confusion_matrix`. "
   ]
  },
  {
   "cell_type": "code",
   "execution_count": 16,
   "id": "b9686ff6",
   "metadata": {},
   "outputs": [
    {
     "data": {
      "text/plain": [
       "array([[139296,     21],\n",
       "       [    94,    143]], dtype=int64)"
      ]
     },
     "execution_count": 16,
     "metadata": {},
     "output_type": "execute_result"
    }
   ],
   "source": [
    "from sklearn.model_selection import cross_val_predict\n",
    "\n",
    "confusion_matrix(y_train, cross_val_predict(pipe, X_train, y_train))"
   ]
  },
  {
   "cell_type": "code",
   "execution_count": null,
   "id": "fb50f441",
   "metadata": {},
   "outputs": [],
   "source": []
  },
  {
   "cell_type": "markdown",
   "id": "035196f1",
   "metadata": {},
   "source": [
    "## Precision, recall, f1 score "
   ]
  },
  {
   "cell_type": "markdown",
   "id": "a006f953",
   "metadata": {},
   "source": [
    "- We have been using `.score` to assess our models, which returns accuracy by default. \n",
    "- Accuracy is misleading when we have class imbalance.\n",
    "- We need other metrics to assess our models."
   ]
  },
  {
   "cell_type": "markdown",
   "id": "f3ce852d",
   "metadata": {},
   "source": [
    "- We'll discuss three commonly used metrics which are based on confusion matrix: \n",
    "    - recall\n",
    "    - precision\n",
    "    - f1 score \n",
    "- Note that these metrics will only help us assessing our model.  \n",
    "- Later we'll talk about a few ways to address class imbalance problem. "
   ]
  },
  {
   "cell_type": "code",
   "execution_count": null,
   "id": "8e54d67d",
   "metadata": {},
   "outputs": [],
   "source": []
  },
  {
   "cell_type": "code",
   "execution_count": 17,
   "id": "d1ca799c",
   "metadata": {},
   "outputs": [
    {
     "name": "stdout",
     "output_type": "stream",
     "text": [
      "[[59700     8]\n",
      " [   38    64]]\n"
     ]
    }
   ],
   "source": [
    "from sklearn.metrics import confusion_matrix\n",
    "\n",
    "pipe_lr = make_pipeline(StandardScaler(), LogisticRegression())\n",
    "pipe_lr.fit(X_train, y_train)\n",
    "predictions = pipe_lr.predict(X_valid)\n",
    "TN, FP, FN, TP = confusion_matrix(y_valid, predictions).ravel()\n",
    "print(disp.confusion_matrix)"
   ]
  },
  {
   "cell_type": "code",
   "execution_count": null,
   "id": "e3df9e41",
   "metadata": {},
   "outputs": [],
   "source": []
  },
  {
   "cell_type": "markdown",
   "id": "dded4d8d",
   "metadata": {},
   "source": [
    "### Recall \n",
    "\n",
    "Among all positive examples, how many did you identify?\n",
    "$$ recall = \\frac{TP}{TP+FN} = \\frac{TP}{\\#positives} $$"
   ]
  },
  {
   "cell_type": "code",
   "execution_count": 18,
   "id": "15c1ee30",
   "metadata": {},
   "outputs": [
    {
     "data": {
      "image/png": "[encoded data removed]",
      "text/plain": [
       "<Figure size 640x480 with 2 Axes>"
      ]
     },
     "metadata": {},
     "output_type": "display_data"
    }
   ],
   "source": [
    "ConfusionMatrixDisplay.from_estimator(\n",
    "    pipe,\n",
    "    X_valid,\n",
    "    y_valid,\n",
    "    display_labels=[\"Non fraud\", \"fraud\"],\n",
    "    values_format=\"d\",\n",
    "    cmap=plt.cm.Blues,\n",
    ");"
   ]
  },
  {
   "cell_type": "code",
   "execution_count": 19,
   "id": "c77ebcb0",
   "metadata": {},
   "outputs": [
    {
     "name": "stdout",
     "output_type": "stream",
     "text": [
      "TP = 64.0000, FN = 38.0000\n",
      "Recall: 0.6275\n"
     ]
    }
   ],
   "source": [
    "print(\"TP = %0.4f, FN = %0.4f\" % (TP, FN))\n",
    "recall = TP / (TP + FN)\n",
    "print(\"Recall: %0.4f\" % (recall))"
   ]
  },
  {
   "cell_type": "code",
   "execution_count": null,
   "id": "e809069c",
   "metadata": {},
   "outputs": [],
   "source": []
  },
  {
   "cell_type": "markdown",
   "id": "4cee0c3d",
   "metadata": {},
   "source": [
    "### Precision \n",
    "\n",
    "Among the positive examples you identified, how many were actually positive?\n",
    "\n",
    "$$ precision = \\frac{TP}{TP+FP}$$"
   ]
  },
  {
   "cell_type": "code",
   "execution_count": 20,
   "id": "5959565f",
   "metadata": {},
   "outputs": [
    {
     "data": {
      "image/png": "[encoded data removed]",
      "text/plain": [
       "<Figure size 640x480 with 2 Axes>"
      ]
     },
     "metadata": {},
     "output_type": "display_data"
    }
   ],
   "source": [
    "ConfusionMatrixDisplay.from_estimator(\n",
    "    pipe,\n",
    "    X_valid,\n",
    "    y_valid,\n",
    "    display_labels=[\"Non fraud\", \"fraud\"],\n",
    "    values_format=\"d\",\n",
    "    cmap=plt.cm.Blues,\n",
    ");"
   ]
  },
  {
   "cell_type": "code",
   "execution_count": 21,
   "id": "323abc5d",
   "metadata": {},
   "outputs": [
    {
     "name": "stdout",
     "output_type": "stream",
     "text": [
      "TP = 64.0000, FP = 8.0000\n",
      "Precision: 0.8889\n"
     ]
    }
   ],
   "source": [
    "print(\"TP = %0.4f, FP = %0.4f\" % (TP, FP))\n",
    "precision = TP / (TP + FP)\n",
    "print(\"Precision: %0.4f\" % (precision))"
   ]
  },
  {
   "cell_type": "code",
   "execution_count": null,
   "id": "4df930c2",
   "metadata": {},
   "outputs": [],
   "source": []
  },
  {
   "cell_type": "markdown",
   "id": "e812ab14",
   "metadata": {},
   "source": [
    "### F1-score\n",
    "\n",
    "- F1-score combines precision and recall to give one score, which could be used in hyperparameter optimization, for instance. \n",
    "- F1-score is a harmonic mean of precision and recall. \n",
    "\n",
    "\n",
    "$$ f1 = 2 \\times \\frac{ precision \\times recall}{precision + recall}$$\n"
   ]
  },
  {
   "cell_type": "code",
   "execution_count": 22,
   "id": "ab4104db",
   "metadata": {},
   "outputs": [
    {
     "name": "stdout",
     "output_type": "stream",
     "text": [
      "precision: 0.8889\n",
      "recall: 0.6275\n",
      "f1: 0.7356\n"
     ]
    }
   ],
   "source": [
    "print(\"precision: %0.4f\" % (precision))\n",
    "print(\"recall: %0.4f\" % (recall))\n",
    "f1_score = (2 * precision * recall) / (precision + recall)\n",
    "print(\"f1: %0.4f\" % (f1_score))"
   ]
  },
  {
   "cell_type": "code",
   "execution_count": null,
   "id": "242b475f",
   "metadata": {},
   "outputs": [],
   "source": []
  },
  {
   "cell_type": "markdown",
   "id": "86e5e14c",
   "metadata": {},
   "source": [
    "Let's look at all metrics at once on our dataset."
   ]
  },
  {
   "cell_type": "code",
   "execution_count": 23,
   "id": "c428b216",
   "metadata": {},
   "outputs": [
    {
     "data": {
      "text/html": [
       "<div>\n",
       "<style scoped>\n",
       "    .dataframe tbody tr th:only-of-type {\n",
       "        vertical-align: middle;\n",
       "    }\n",
       "\n",
       "    .dataframe tbody tr th {\n",
       "        vertical-align: top;\n",
       "    }\n",
       "\n",
       "    .dataframe thead th {\n",
       "        text-align: right;\n",
       "    }\n",
       "</style>\n",
       "<table border=\"1\" class=\"dataframe\">\n",
       "  <thead>\n",
       "    <tr style=\"text-align: right;\">\n",
       "      <th></th>\n",
       "      <th>calculation</th>\n",
       "      <th>accuracy</th>\n",
       "      <th>error</th>\n",
       "      <th>precision</th>\n",
       "      <th>recall</th>\n",
       "      <th>f1 score</th>\n",
       "    </tr>\n",
       "  </thead>\n",
       "  <tbody>\n",
       "    <tr>\n",
       "      <th>0</th>\n",
       "      <td>manual</td>\n",
       "      <td>0.999231</td>\n",
       "      <td>0.000769</td>\n",
       "      <td>0.888889</td>\n",
       "      <td>0.627451</td>\n",
       "      <td>0.735632</td>\n",
       "    </tr>\n",
       "  </tbody>\n",
       "</table>\n",
       "</div>"
      ],
      "text/plain": [
       "  calculation  accuracy     error  precision    recall  f1 score\n",
       "0      manual  0.999231  0.000769   0.888889  0.627451  0.735632"
      ]
     },
     "execution_count": 23,
     "metadata": {},
     "output_type": "execute_result"
    }
   ],
   "source": [
    "## Calculate evaluation metrics by ourselves\n",
    "data = {\n",
    "    \"calculation\": [],\n",
    "    \"accuracy\": [],\n",
    "    \"error\": [],\n",
    "    \"precision\": [],\n",
    "    \"recall\": [],\n",
    "    \"f1 score\": [],\n",
    "}\n",
    "data[\"calculation\"].append(\"manual\")\n",
    "data[\"accuracy\"].append((TP + TN) / (TN + FP + FN + TP))\n",
    "data[\"error\"].append((FP + FN) / (TN + FP + FN + TP))\n",
    "data[\"precision\"].append(precision)  # TP / (TP + FP)\n",
    "data[\"recall\"].append(recall)  # TP / (TP + FN)\n",
    "data[\"f1 score\"].append(f1_score)  # (2 * precision * recall) / (precision + recall)\n",
    "df = pd.DataFrame(data)\n",
    "df"
   ]
  },
  {
   "cell_type": "code",
   "execution_count": null,
   "id": "531ec952",
   "metadata": {},
   "outputs": [],
   "source": []
  },
  {
   "cell_type": "markdown",
   "id": "cf2c0d86",
   "metadata": {},
   "source": [
    "- `scikit-learn` has functions for [these metrics](https://scikit-learn.org/stable/modules/classes.html#module-sklearn.metrics)."
   ]
  },
  {
   "cell_type": "code",
   "execution_count": 24,
   "id": "3a29167c",
   "metadata": {},
   "outputs": [
    {
     "data": {
      "text/html": [
       "<div>\n",
       "<style scoped>\n",
       "    .dataframe tbody tr th:only-of-type {\n",
       "        vertical-align: middle;\n",
       "    }\n",
       "\n",
       "    .dataframe tbody tr th {\n",
       "        vertical-align: top;\n",
       "    }\n",
       "\n",
       "    .dataframe thead th {\n",
       "        text-align: right;\n",
       "    }\n",
       "</style>\n",
       "<table border=\"1\" class=\"dataframe\">\n",
       "  <thead>\n",
       "    <tr style=\"text-align: right;\">\n",
       "      <th></th>\n",
       "      <th>accuracy</th>\n",
       "      <th>error</th>\n",
       "      <th>precision</th>\n",
       "      <th>recall</th>\n",
       "      <th>f1 score</th>\n",
       "    </tr>\n",
       "    <tr>\n",
       "      <th>calculation</th>\n",
       "      <th></th>\n",
       "      <th></th>\n",
       "      <th></th>\n",
       "      <th></th>\n",
       "      <th></th>\n",
       "    </tr>\n",
       "  </thead>\n",
       "  <tbody>\n",
       "    <tr>\n",
       "      <th>manual</th>\n",
       "      <td>0.999231</td>\n",
       "      <td>0.000769</td>\n",
       "      <td>0.888889</td>\n",
       "      <td>0.627451</td>\n",
       "      <td>0.735632</td>\n",
       "    </tr>\n",
       "    <tr>\n",
       "      <th>sklearn</th>\n",
       "      <td>0.999231</td>\n",
       "      <td>0.000769</td>\n",
       "      <td>0.888889</td>\n",
       "      <td>0.627451</td>\n",
       "      <td>0.735632</td>\n",
       "    </tr>\n",
       "  </tbody>\n",
       "</table>\n",
       "</div>"
      ],
      "text/plain": [
       "             accuracy     error  precision    recall  f1 score\n",
       "calculation                                                   \n",
       "manual       0.999231  0.000769   0.888889  0.627451  0.735632\n",
       "sklearn      0.999231  0.000769   0.888889  0.627451  0.735632"
      ]
     },
     "execution_count": 24,
     "metadata": {},
     "output_type": "execute_result"
    }
   ],
   "source": [
    "from sklearn.metrics import accuracy_score, f1_score, precision_score, recall_score\n",
    "\n",
    "data[\"accuracy\"].append(accuracy_score(y_valid, pipe_lr.predict(X_valid)))\n",
    "data[\"error\"].append(1 - accuracy_score(y_valid, pipe_lr.predict(X_valid)))\n",
    "data[\"precision\"].append(\n",
    "    precision_score(y_valid, pipe_lr.predict(X_valid), zero_division=1)\n",
    ")\n",
    "data[\"recall\"].append(recall_score(y_valid, pipe_lr.predict(X_valid)))\n",
    "data[\"f1 score\"].append(f1_score(y_valid, pipe_lr.predict(X_valid)))\n",
    "data[\"calculation\"].append(\"sklearn\")\n",
    "df = pd.DataFrame(data)\n",
    "df.set_index([\"calculation\"])"
   ]
  },
  {
   "cell_type": "code",
   "execution_count": null,
   "id": "ad1edd4e",
   "metadata": {},
   "outputs": [],
   "source": []
  },
  {
   "cell_type": "markdown",
   "id": "cc90b062",
   "metadata": {},
   "source": [
    "### Classification report "
   ]
  },
  {
   "cell_type": "markdown",
   "id": "44ab3c2c",
   "metadata": {},
   "source": [
    "- There is a convenient function called `classification_report` in `sklearn` which gives this info. "
   ]
  },
  {
   "cell_type": "code",
   "execution_count": 25,
   "id": "fa453ff3",
   "metadata": {},
   "outputs": [
    {
     "data": {
      "text/plain": [
       "array([0, 1], dtype=int64)"
      ]
     },
     "execution_count": 25,
     "metadata": {},
     "output_type": "execute_result"
    }
   ],
   "source": [
    "pipe_lr.classes_"
   ]
  },
  {
   "cell_type": "code",
   "execution_count": 26,
   "id": "4cc8ab42",
   "metadata": {},
   "outputs": [
    {
     "name": "stdout",
     "output_type": "stream",
     "text": [
      "              precision    recall  f1-score   support\n",
      "\n",
      "   non-fraud       1.00      1.00      1.00     59708\n",
      "       fraud       0.89      0.63      0.74       102\n",
      "\n",
      "    accuracy                           1.00     59810\n",
      "   macro avg       0.94      0.81      0.87     59810\n",
      "weighted avg       1.00      1.00      1.00     59810\n",
      "\n"
     ]
    }
   ],
   "source": [
    "from sklearn.metrics import classification_report\n",
    "\n",
    "print(\n",
    "    classification_report(\n",
    "        y_valid, pipe_lr.predict(X_valid), target_names=[\"non-fraud\", \"fraud\"]\n",
    "    )\n",
    ")"
   ]
  },
  {
   "cell_type": "code",
   "execution_count": null,
   "id": "56c3f849",
   "metadata": {},
   "outputs": [],
   "source": []
  },
  {
   "cell_type": "markdown",
   "id": "c066bd92",
   "metadata": {},
   "source": [
    "### Macro average\n",
    "\n",
    "- You give equal importance to all classes and average over all classes.  \n",
    "- For instance, in the example above, recall for non-fraud is 1.0 and fraud is 0.63, and so macro average is 0.81. \n",
    "- More relevant in case of multi-class problems.    "
   ]
  },
  {
   "cell_type": "code",
   "execution_count": null,
   "id": "f501f290",
   "metadata": {},
   "outputs": [],
   "source": []
  },
  {
   "cell_type": "markdown",
   "id": "f505ee7c",
   "metadata": {},
   "source": [
    "### Weighted average\n",
    "\n",
    "- Weighted by the number of samples in each class. \n",
    "- Divide by the total number of samples. \n",
    "\n",
    "Which one is relevant when depends upon whether you think each class should have the same weight or each sample should have the same weight. "
   ]
  },
  {
   "cell_type": "code",
   "execution_count": null,
   "id": "2e542127",
   "metadata": {},
   "outputs": [],
   "source": []
  },
  {
   "cell_type": "markdown",
   "id": "5d3de234",
   "metadata": {},
   "source": [
    "### Example\n"
   ]
  },
  {
   "cell_type": "code",
   "execution_count": 27,
   "id": "7b40092b",
   "metadata": {},
   "outputs": [
    {
     "name": "stdout",
     "output_type": "stream",
     "text": [
      "              precision    recall  f1-score   support\n",
      "\n",
      "     class 0       0.75      1.00      0.86         3\n",
      "     class 1       1.00      0.50      0.67         2\n",
      "\n",
      "    accuracy                           0.80         5\n",
      "   macro avg       0.88      0.75      0.76         5\n",
      "weighted avg       0.85      0.80      0.78         5\n",
      "\n"
     ]
    }
   ],
   "source": [
    "from sklearn.metrics import classification_report\n",
    "y_true = [0, 1, 0, 1, 0]\n",
    "y_pred = [0, 0, 0, 1, 0]\n",
    "target_names = ['class 0', 'class 1']\n",
    "print(classification_report(y_true, y_pred, target_names=target_names))"
   ]
  },
  {
   "cell_type": "markdown",
   "id": "c7761c56",
   "metadata": {},
   "source": [
    "- weighted average is weighted by the proportion of examples in a particular class. So for the toy example above:\n",
    "- weighted_average precision: 3/5 * 0.75 + 2/5 * 1.00 = 0.85\n",
    "- weighted_average recall: 3/5 * 1.00 + 2/5 * 0.5 = 0.80\n",
    "- weighted_average f1-score: 3/5 * 0.86 + 2/5 * 0.67 = 0.78"
   ]
  },
  {
   "cell_type": "markdown",
   "id": "6d4fb495",
   "metadata": {},
   "source": [
    "- macro average gives equal weight to both classes. So for the toy example above:\n",
    "- macro average precision: 0.5 * 0.75 + 0.5 * 1.00 =0. 875\n",
    "- macro average recall: 0.5 * 1.00 + 0.5 * 0.5 =0. 75\n",
    "- macro average f1-score: 0.5 * 0.75 + 0.5 * 1.00 =0.765"
   ]
  },
  {
   "cell_type": "code",
   "execution_count": null,
   "id": "6fd84599",
   "metadata": {},
   "outputs": [],
   "source": []
  },
  {
   "cell_type": "markdown",
   "id": "19174f93",
   "metadata": {},
   "source": [
    "## Insights:"
   ]
  },
  {
   "cell_type": "markdown",
   "id": "53fe037e",
   "metadata": {},
   "source": [
    "- Accuracy is misleading when you have class imbalance. \n",
    "- A confusion matrix provides a way to break down errors made by our model. \n",
    "- We looked at three metrics based on confusion matrix: \n",
    "    - precision, recall, f1-score. "
   ]
  },
  {
   "cell_type": "markdown",
   "id": "1dd0351a",
   "metadata": {},
   "source": [
    "- Note that what you consider \"positive\" (fraud in our case) is important when calculating precision, recall, and f1-score. \n",
    "- If you flip what is considered positive or negative, we'll end up with different TP, FP, TN, FN, and hence different precision, recall, and f1-scores. "
   ]
  },
  {
   "cell_type": "code",
   "execution_count": null,
   "id": "9d5e32d1",
   "metadata": {},
   "outputs": [],
   "source": []
  },
  {
   "cell_type": "markdown",
   "id": "ba99fdd0",
   "metadata": {},
   "source": [
    "### Cross validation with different metrics\n",
    "\n",
    "- We can pass different evaluation metrics with `scoring` argument of `cross_validate`."
   ]
  },
  {
   "cell_type": "code",
   "execution_count": 28,
   "id": "9fc2a8e5",
   "metadata": {},
   "outputs": [
    {
     "data": {
      "text/html": [
       "<div>\n",
       "<style scoped>\n",
       "    .dataframe tbody tr th:only-of-type {\n",
       "        vertical-align: middle;\n",
       "    }\n",
       "\n",
       "    .dataframe tbody tr th {\n",
       "        vertical-align: top;\n",
       "    }\n",
       "\n",
       "    .dataframe thead th {\n",
       "        text-align: right;\n",
       "    }\n",
       "</style>\n",
       "<table border=\"1\" class=\"dataframe\">\n",
       "  <thead>\n",
       "    <tr style=\"text-align: right;\">\n",
       "      <th></th>\n",
       "      <th>fit_time</th>\n",
       "      <th>score_time</th>\n",
       "      <th>test_accuracy</th>\n",
       "      <th>train_accuracy</th>\n",
       "      <th>test_f1</th>\n",
       "      <th>train_f1</th>\n",
       "      <th>test_recall</th>\n",
       "      <th>train_recall</th>\n",
       "      <th>test_precision</th>\n",
       "      <th>train_precision</th>\n",
       "    </tr>\n",
       "  </thead>\n",
       "  <tbody>\n",
       "    <tr>\n",
       "      <th>0</th>\n",
       "      <td>0.556995</td>\n",
       "      <td>0.039999</td>\n",
       "      <td>0.999097</td>\n",
       "      <td>0.999360</td>\n",
       "      <td>0.694915</td>\n",
       "      <td>0.782979</td>\n",
       "      <td>0.602941</td>\n",
       "      <td>0.678967</td>\n",
       "      <td>0.820000</td>\n",
       "      <td>0.924623</td>\n",
       "    </tr>\n",
       "    <tr>\n",
       "      <th>1</th>\n",
       "      <td>0.556001</td>\n",
       "      <td>0.031000</td>\n",
       "      <td>0.999223</td>\n",
       "      <td>0.999317</td>\n",
       "      <td>0.739496</td>\n",
       "      <td>0.766595</td>\n",
       "      <td>0.647059</td>\n",
       "      <td>0.660517</td>\n",
       "      <td>0.862745</td>\n",
       "      <td>0.913265</td>\n",
       "    </tr>\n",
       "    <tr>\n",
       "      <th>2</th>\n",
       "      <td>0.556000</td>\n",
       "      <td>0.031999</td>\n",
       "      <td>0.999273</td>\n",
       "      <td>0.999216</td>\n",
       "      <td>0.743363</td>\n",
       "      <td>0.726477</td>\n",
       "      <td>0.617647</td>\n",
       "      <td>0.612546</td>\n",
       "      <td>0.933333</td>\n",
       "      <td>0.892473</td>\n",
       "    </tr>\n",
       "    <tr>\n",
       "      <th>3</th>\n",
       "      <td>0.547998</td>\n",
       "      <td>0.041000</td>\n",
       "      <td>0.999172</td>\n",
       "      <td>0.999254</td>\n",
       "      <td>0.697248</td>\n",
       "      <td>0.742981</td>\n",
       "      <td>0.558824</td>\n",
       "      <td>0.634686</td>\n",
       "      <td>0.926829</td>\n",
       "      <td>0.895833</td>\n",
       "    </tr>\n",
       "    <tr>\n",
       "      <th>4</th>\n",
       "      <td>0.549001</td>\n",
       "      <td>0.037000</td>\n",
       "      <td>0.999147</td>\n",
       "      <td>0.999216</td>\n",
       "      <td>0.696429</td>\n",
       "      <td>0.728850</td>\n",
       "      <td>0.582090</td>\n",
       "      <td>0.617647</td>\n",
       "      <td>0.866667</td>\n",
       "      <td>0.888889</td>\n",
       "    </tr>\n",
       "  </tbody>\n",
       "</table>\n",
       "</div>"
      ],
      "text/plain": [
       "   fit_time  score_time  test_accuracy  train_accuracy   test_f1  train_f1  \\\n",
       "0  0.556995    0.039999       0.999097        0.999360  0.694915  0.782979   \n",
       "1  0.556001    0.031000       0.999223        0.999317  0.739496  0.766595   \n",
       "2  0.556000    0.031999       0.999273        0.999216  0.743363  0.726477   \n",
       "3  0.547998    0.041000       0.999172        0.999254  0.697248  0.742981   \n",
       "4  0.549001    0.037000       0.999147        0.999216  0.696429  0.728850   \n",
       "\n",
       "   test_recall  train_recall  test_precision  train_precision  \n",
       "0     0.602941      0.678967        0.820000         0.924623  \n",
       "1     0.647059      0.660517        0.862745         0.913265  \n",
       "2     0.617647      0.612546        0.933333         0.892473  \n",
       "3     0.558824      0.634686        0.926829         0.895833  \n",
       "4     0.582090      0.617647        0.866667         0.888889  "
      ]
     },
     "execution_count": 28,
     "metadata": {},
     "output_type": "execute_result"
    }
   ],
   "source": [
    "scoring = [\n",
    "    \"accuracy\",\n",
    "    \"f1\",\n",
    "    \"recall\",\n",
    "    \"precision\",\n",
    "]  # scoring can be a string, a list, or a dictionary\n",
    "pipe = make_pipeline(StandardScaler(), LogisticRegression())\n",
    "scores = cross_validate(\n",
    "    pipe, X_train_big, y_train_big, return_train_score=True, scoring=scoring\n",
    ")\n",
    "pd.DataFrame(scores)"
   ]
  },
  {
   "cell_type": "code",
   "execution_count": null,
   "id": "97884084",
   "metadata": {},
   "outputs": [],
   "source": []
  },
  {
   "cell_type": "markdown",
   "id": "1b9883f3",
   "metadata": {},
   "source": [
    "**Select all of the following statements which are TRUE.**\n",
    "\n",
    "- (A) In medical diagnosis, false positives are likely to be more damaging than false negatives (assume \"positive\" means the person has a disease, \"negative\" means they don't).\n",
    "- (B) In spam classification, false positives are more damaging than false negatives (assume \"positive\" means the email is spam, \"negative\" means it's not).\n",
    "- (C) If method A gets a higher accuracy than method B, that means its precision is also higher.\n",
    "- (D) If method A gets a higher accuracy than method B, that means its recall is also higher."
   ]
  },
  {
   "cell_type": "markdown",
   "id": "85581d63",
   "metadata": {},
   "source": [
    "Method A - higher accuracy but lower precision\n",
    "\n",
    "| Negative | Positive\n",
    "| -------- |:-------------:|\n",
    "| 90      | 5|\n",
    "| 5      | 0|\n",
    "\n",
    "Method B - lower accuracy but higher precision\n",
    "\n",
    "| Negative | Positive\n",
    "| -------- |:-------------:|\n",
    "| 80      | 15|\n",
    "| 0      | 5|\n",
    "\n"
   ]
  },
  {
   "cell_type": "code",
   "execution_count": null,
   "id": "3266e4f7",
   "metadata": {},
   "outputs": [],
   "source": []
  },
  {
   "cell_type": "markdown",
   "id": "cb301556",
   "metadata": {},
   "source": [
    "## Regression score functions"
   ]
  },
  {
   "cell_type": "markdown",
   "id": "b7d75574",
   "metadata": {},
   "source": [
    "- We aren't doing classification anymore, so we can't just check for equality:"
   ]
  },
  {
   "cell_type": "code",
   "execution_count": null,
   "id": "281b19f7",
   "metadata": {},
   "outputs": [],
   "source": []
  },
  {
   "cell_type": "code",
   "execution_count": null,
   "id": "5550d30f",
   "metadata": {},
   "outputs": [],
   "source": []
  },
  {
   "cell_type": "markdown",
   "id": "49798030",
   "metadata": {},
   "source": [
    "## Dataset\n",
    "\n",
    "In this lecture, we'll be using [Kaggle House Prices dataset](https://www.kaggle.com/c/home-data-for-ml-course/). As usual, to run this notebook you'll need to download the data. For this dataset, train and test have already been separated. We'll be working with the train portion in this lecture. "
   ]
  },
  {
   "cell_type": "code",
   "execution_count": 29,
   "id": "d3f48160",
   "metadata": {},
   "outputs": [
    {
     "data": {
      "text/html": [
       "<div>\n",
       "<style scoped>\n",
       "    .dataframe tbody tr th:only-of-type {\n",
       "        vertical-align: middle;\n",
       "    }\n",
       "\n",
       "    .dataframe tbody tr th {\n",
       "        vertical-align: top;\n",
       "    }\n",
       "\n",
       "    .dataframe thead th {\n",
       "        text-align: right;\n",
       "    }\n",
       "</style>\n",
       "<table border=\"1\" class=\"dataframe\">\n",
       "  <thead>\n",
       "    <tr style=\"text-align: right;\">\n",
       "      <th></th>\n",
       "      <th>Id</th>\n",
       "      <th>MSSubClass</th>\n",
       "      <th>MSZoning</th>\n",
       "      <th>LotFrontage</th>\n",
       "      <th>LotArea</th>\n",
       "      <th>Street</th>\n",
       "      <th>Alley</th>\n",
       "      <th>LotShape</th>\n",
       "      <th>LandContour</th>\n",
       "      <th>Utilities</th>\n",
       "      <th>...</th>\n",
       "      <th>PoolArea</th>\n",
       "      <th>PoolQC</th>\n",
       "      <th>Fence</th>\n",
       "      <th>MiscFeature</th>\n",
       "      <th>MiscVal</th>\n",
       "      <th>MoSold</th>\n",
       "      <th>YrSold</th>\n",
       "      <th>SaleType</th>\n",
       "      <th>SaleCondition</th>\n",
       "      <th>SalePrice</th>\n",
       "    </tr>\n",
       "  </thead>\n",
       "  <tbody>\n",
       "    <tr>\n",
       "      <th>302</th>\n",
       "      <td>303</td>\n",
       "      <td>20</td>\n",
       "      <td>RL</td>\n",
       "      <td>118.0</td>\n",
       "      <td>13704</td>\n",
       "      <td>Pave</td>\n",
       "      <td>NaN</td>\n",
       "      <td>IR1</td>\n",
       "      <td>Lvl</td>\n",
       "      <td>AllPub</td>\n",
       "      <td>...</td>\n",
       "      <td>0</td>\n",
       "      <td>NaN</td>\n",
       "      <td>NaN</td>\n",
       "      <td>NaN</td>\n",
       "      <td>0</td>\n",
       "      <td>1</td>\n",
       "      <td>2006</td>\n",
       "      <td>WD</td>\n",
       "      <td>Normal</td>\n",
       "      <td>205000</td>\n",
       "    </tr>\n",
       "    <tr>\n",
       "      <th>767</th>\n",
       "      <td>768</td>\n",
       "      <td>50</td>\n",
       "      <td>RL</td>\n",
       "      <td>75.0</td>\n",
       "      <td>12508</td>\n",
       "      <td>Pave</td>\n",
       "      <td>NaN</td>\n",
       "      <td>IR1</td>\n",
       "      <td>Lvl</td>\n",
       "      <td>AllPub</td>\n",
       "      <td>...</td>\n",
       "      <td>0</td>\n",
       "      <td>NaN</td>\n",
       "      <td>NaN</td>\n",
       "      <td>Shed</td>\n",
       "      <td>1300</td>\n",
       "      <td>7</td>\n",
       "      <td>2008</td>\n",
       "      <td>WD</td>\n",
       "      <td>Normal</td>\n",
       "      <td>160000</td>\n",
       "    </tr>\n",
       "    <tr>\n",
       "      <th>429</th>\n",
       "      <td>430</td>\n",
       "      <td>20</td>\n",
       "      <td>RL</td>\n",
       "      <td>130.0</td>\n",
       "      <td>11457</td>\n",
       "      <td>Pave</td>\n",
       "      <td>NaN</td>\n",
       "      <td>IR1</td>\n",
       "      <td>Lvl</td>\n",
       "      <td>AllPub</td>\n",
       "      <td>...</td>\n",
       "      <td>0</td>\n",
       "      <td>NaN</td>\n",
       "      <td>NaN</td>\n",
       "      <td>NaN</td>\n",
       "      <td>0</td>\n",
       "      <td>3</td>\n",
       "      <td>2009</td>\n",
       "      <td>WD</td>\n",
       "      <td>Normal</td>\n",
       "      <td>175000</td>\n",
       "    </tr>\n",
       "    <tr>\n",
       "      <th>1139</th>\n",
       "      <td>1140</td>\n",
       "      <td>30</td>\n",
       "      <td>RL</td>\n",
       "      <td>98.0</td>\n",
       "      <td>8731</td>\n",
       "      <td>Pave</td>\n",
       "      <td>NaN</td>\n",
       "      <td>IR1</td>\n",
       "      <td>Lvl</td>\n",
       "      <td>AllPub</td>\n",
       "      <td>...</td>\n",
       "      <td>0</td>\n",
       "      <td>NaN</td>\n",
       "      <td>NaN</td>\n",
       "      <td>NaN</td>\n",
       "      <td>0</td>\n",
       "      <td>5</td>\n",
       "      <td>2007</td>\n",
       "      <td>WD</td>\n",
       "      <td>Normal</td>\n",
       "      <td>144000</td>\n",
       "    </tr>\n",
       "    <tr>\n",
       "      <th>558</th>\n",
       "      <td>559</td>\n",
       "      <td>60</td>\n",
       "      <td>RL</td>\n",
       "      <td>57.0</td>\n",
       "      <td>21872</td>\n",
       "      <td>Pave</td>\n",
       "      <td>NaN</td>\n",
       "      <td>IR2</td>\n",
       "      <td>HLS</td>\n",
       "      <td>AllPub</td>\n",
       "      <td>...</td>\n",
       "      <td>0</td>\n",
       "      <td>NaN</td>\n",
       "      <td>NaN</td>\n",
       "      <td>NaN</td>\n",
       "      <td>0</td>\n",
       "      <td>8</td>\n",
       "      <td>2008</td>\n",
       "      <td>WD</td>\n",
       "      <td>Normal</td>\n",
       "      <td>175000</td>\n",
       "    </tr>\n",
       "  </tbody>\n",
       "</table>\n",
       "<p>5 rows × 81 columns</p>\n",
       "</div>"
      ],
      "text/plain": [
       "        Id  MSSubClass MSZoning  LotFrontage  LotArea Street Alley LotShape  \\\n",
       "302    303          20       RL        118.0    13704   Pave   NaN      IR1   \n",
       "767    768          50       RL         75.0    12508   Pave   NaN      IR1   \n",
       "429    430          20       RL        130.0    11457   Pave   NaN      IR1   \n",
       "1139  1140          30       RL         98.0     8731   Pave   NaN      IR1   \n",
       "558    559          60       RL         57.0    21872   Pave   NaN      IR2   \n",
       "\n",
       "     LandContour Utilities  ... PoolArea PoolQC Fence MiscFeature MiscVal  \\\n",
       "302          Lvl    AllPub  ...        0    NaN   NaN         NaN       0   \n",
       "767          Lvl    AllPub  ...        0    NaN   NaN        Shed    1300   \n",
       "429          Lvl    AllPub  ...        0    NaN   NaN         NaN       0   \n",
       "1139         Lvl    AllPub  ...        0    NaN   NaN         NaN       0   \n",
       "558          HLS    AllPub  ...        0    NaN   NaN         NaN       0   \n",
       "\n",
       "     MoSold YrSold  SaleType  SaleCondition  SalePrice  \n",
       "302       1   2006        WD         Normal     205000  \n",
       "767       7   2008        WD         Normal     160000  \n",
       "429       3   2009        WD         Normal     175000  \n",
       "1139      5   2007        WD         Normal     144000  \n",
       "558       8   2008        WD         Normal     175000  \n",
       "\n",
       "[5 rows x 81 columns]"
      ]
     },
     "execution_count": 29,
     "metadata": {},
     "output_type": "execute_result"
    }
   ],
   "source": [
    "df = pd.read_csv(\"data/housing-kaggle/train.csv\")\n",
    "train_df, test_df = train_test_split(df, test_size=0.10, random_state=123)\n",
    "train_df.head()"
   ]
  },
  {
   "cell_type": "markdown",
   "id": "48727a43",
   "metadata": {},
   "source": [
    "- The supervised machine learning problem is predicting housing price given features associated with properties. \n",
    "- Here, the target is `SalePrice`, which is continuous. So it's a **regression problem** (as opposed to classification)."
   ]
  },
  {
   "cell_type": "code",
   "execution_count": 30,
   "id": "07272d4e",
   "metadata": {},
   "outputs": [
    {
     "data": {
      "text/plain": [
       "(1314, 81)"
      ]
     },
     "execution_count": 30,
     "metadata": {},
     "output_type": "execute_result"
    }
   ],
   "source": [
    "train_df.shape"
   ]
  },
  {
   "cell_type": "code",
   "execution_count": null,
   "id": "99e09387",
   "metadata": {},
   "outputs": [],
   "source": []
  },
  {
   "cell_type": "markdown",
   "id": "0ef1373e",
   "metadata": {},
   "source": [
    "### Let's separate `X` and `y`"
   ]
  },
  {
   "cell_type": "code",
   "execution_count": 31,
   "id": "8bc968bc",
   "metadata": {},
   "outputs": [],
   "source": [
    "X_train = train_df.drop(columns=[\"SalePrice\"])\n",
    "y_train = train_df[\"SalePrice\"]\n",
    "\n",
    "X_test = test_df.drop(columns=[\"SalePrice\"])\n",
    "y_test = test_df[\"SalePrice\"]"
   ]
  },
  {
   "cell_type": "markdown",
   "id": "532408e5",
   "metadata": {},
   "source": [
    "### EDA\n"
   ]
  },
  {
   "cell_type": "code",
   "execution_count": 32,
   "id": "198f937a",
   "metadata": {},
   "outputs": [
    {
     "data": {
      "text/html": [
       "<div>\n",
       "<style scoped>\n",
       "    .dataframe tbody tr th:only-of-type {\n",
       "        vertical-align: middle;\n",
       "    }\n",
       "\n",
       "    .dataframe tbody tr th {\n",
       "        vertical-align: top;\n",
       "    }\n",
       "\n",
       "    .dataframe thead th {\n",
       "        text-align: right;\n",
       "    }\n",
       "</style>\n",
       "<table border=\"1\" class=\"dataframe\">\n",
       "  <thead>\n",
       "    <tr style=\"text-align: right;\">\n",
       "      <th></th>\n",
       "      <th>Id</th>\n",
       "      <th>MSSubClass</th>\n",
       "      <th>LotFrontage</th>\n",
       "      <th>LotArea</th>\n",
       "      <th>OverallQual</th>\n",
       "      <th>OverallCond</th>\n",
       "      <th>YearBuilt</th>\n",
       "      <th>YearRemodAdd</th>\n",
       "      <th>MasVnrArea</th>\n",
       "      <th>BsmtFinSF1</th>\n",
       "      <th>...</th>\n",
       "      <th>WoodDeckSF</th>\n",
       "      <th>OpenPorchSF</th>\n",
       "      <th>EnclosedPorch</th>\n",
       "      <th>3SsnPorch</th>\n",
       "      <th>ScreenPorch</th>\n",
       "      <th>PoolArea</th>\n",
       "      <th>MiscVal</th>\n",
       "      <th>MoSold</th>\n",
       "      <th>YrSold</th>\n",
       "      <th>SalePrice</th>\n",
       "    </tr>\n",
       "  </thead>\n",
       "  <tbody>\n",
       "    <tr>\n",
       "      <th>count</th>\n",
       "      <td>1314.000000</td>\n",
       "      <td>1314.000000</td>\n",
       "      <td>1089.000000</td>\n",
       "      <td>1314.000000</td>\n",
       "      <td>1314.000000</td>\n",
       "      <td>1314.000000</td>\n",
       "      <td>1314.000000</td>\n",
       "      <td>1314.000000</td>\n",
       "      <td>1307.000000</td>\n",
       "      <td>1314.000000</td>\n",
       "      <td>...</td>\n",
       "      <td>1314.000000</td>\n",
       "      <td>1314.000000</td>\n",
       "      <td>1314.000000</td>\n",
       "      <td>1314.000000</td>\n",
       "      <td>1314.000000</td>\n",
       "      <td>1314.000000</td>\n",
       "      <td>1314.000000</td>\n",
       "      <td>1314.000000</td>\n",
       "      <td>1314.000000</td>\n",
       "      <td>1314.000000</td>\n",
       "    </tr>\n",
       "    <tr>\n",
       "      <th>mean</th>\n",
       "      <td>734.182648</td>\n",
       "      <td>56.472603</td>\n",
       "      <td>69.641873</td>\n",
       "      <td>10273.261035</td>\n",
       "      <td>6.076104</td>\n",
       "      <td>5.570015</td>\n",
       "      <td>1970.995434</td>\n",
       "      <td>1984.659056</td>\n",
       "      <td>102.514155</td>\n",
       "      <td>441.425419</td>\n",
       "      <td>...</td>\n",
       "      <td>94.281583</td>\n",
       "      <td>45.765601</td>\n",
       "      <td>21.726788</td>\n",
       "      <td>3.624049</td>\n",
       "      <td>13.987062</td>\n",
       "      <td>3.065449</td>\n",
       "      <td>46.951294</td>\n",
       "      <td>6.302131</td>\n",
       "      <td>2007.840183</td>\n",
       "      <td>179802.147641</td>\n",
       "    </tr>\n",
       "    <tr>\n",
       "      <th>std</th>\n",
       "      <td>422.224662</td>\n",
       "      <td>42.036646</td>\n",
       "      <td>23.031794</td>\n",
       "      <td>8997.895541</td>\n",
       "      <td>1.392612</td>\n",
       "      <td>1.112848</td>\n",
       "      <td>30.198127</td>\n",
       "      <td>20.639754</td>\n",
       "      <td>178.301563</td>\n",
       "      <td>459.276687</td>\n",
       "      <td>...</td>\n",
       "      <td>125.436492</td>\n",
       "      <td>65.757545</td>\n",
       "      <td>60.766423</td>\n",
       "      <td>30.320430</td>\n",
       "      <td>53.854129</td>\n",
       "      <td>42.341109</td>\n",
       "      <td>522.283421</td>\n",
       "      <td>2.698206</td>\n",
       "      <td>1.332824</td>\n",
       "      <td>79041.260572</td>\n",
       "    </tr>\n",
       "    <tr>\n",
       "      <th>min</th>\n",
       "      <td>1.000000</td>\n",
       "      <td>20.000000</td>\n",
       "      <td>21.000000</td>\n",
       "      <td>1300.000000</td>\n",
       "      <td>1.000000</td>\n",
       "      <td>1.000000</td>\n",
       "      <td>1872.000000</td>\n",
       "      <td>1950.000000</td>\n",
       "      <td>0.000000</td>\n",
       "      <td>0.000000</td>\n",
       "      <td>...</td>\n",
       "      <td>0.000000</td>\n",
       "      <td>0.000000</td>\n",
       "      <td>0.000000</td>\n",
       "      <td>0.000000</td>\n",
       "      <td>0.000000</td>\n",
       "      <td>0.000000</td>\n",
       "      <td>0.000000</td>\n",
       "      <td>1.000000</td>\n",
       "      <td>2006.000000</td>\n",
       "      <td>34900.000000</td>\n",
       "    </tr>\n",
       "    <tr>\n",
       "      <th>25%</th>\n",
       "      <td>369.250000</td>\n",
       "      <td>20.000000</td>\n",
       "      <td>59.000000</td>\n",
       "      <td>7500.000000</td>\n",
       "      <td>5.000000</td>\n",
       "      <td>5.000000</td>\n",
       "      <td>1953.000000</td>\n",
       "      <td>1966.250000</td>\n",
       "      <td>0.000000</td>\n",
       "      <td>0.000000</td>\n",
       "      <td>...</td>\n",
       "      <td>0.000000</td>\n",
       "      <td>0.000000</td>\n",
       "      <td>0.000000</td>\n",
       "      <td>0.000000</td>\n",
       "      <td>0.000000</td>\n",
       "      <td>0.000000</td>\n",
       "      <td>0.000000</td>\n",
       "      <td>5.000000</td>\n",
       "      <td>2007.000000</td>\n",
       "      <td>129600.000000</td>\n",
       "    </tr>\n",
       "    <tr>\n",
       "      <th>50%</th>\n",
       "      <td>735.500000</td>\n",
       "      <td>50.000000</td>\n",
       "      <td>69.000000</td>\n",
       "      <td>9391.000000</td>\n",
       "      <td>6.000000</td>\n",
       "      <td>5.000000</td>\n",
       "      <td>1972.000000</td>\n",
       "      <td>1993.000000</td>\n",
       "      <td>0.000000</td>\n",
       "      <td>376.000000</td>\n",
       "      <td>...</td>\n",
       "      <td>0.000000</td>\n",
       "      <td>24.000000</td>\n",
       "      <td>0.000000</td>\n",
       "      <td>0.000000</td>\n",
       "      <td>0.000000</td>\n",
       "      <td>0.000000</td>\n",
       "      <td>0.000000</td>\n",
       "      <td>6.000000</td>\n",
       "      <td>2008.000000</td>\n",
       "      <td>162000.000000</td>\n",
       "    </tr>\n",
       "    <tr>\n",
       "      <th>75%</th>\n",
       "      <td>1099.750000</td>\n",
       "      <td>70.000000</td>\n",
       "      <td>80.000000</td>\n",
       "      <td>11509.000000</td>\n",
       "      <td>7.000000</td>\n",
       "      <td>6.000000</td>\n",
       "      <td>2000.000000</td>\n",
       "      <td>2004.000000</td>\n",
       "      <td>165.500000</td>\n",
       "      <td>704.750000</td>\n",
       "      <td>...</td>\n",
       "      <td>168.000000</td>\n",
       "      <td>66.750000</td>\n",
       "      <td>0.000000</td>\n",
       "      <td>0.000000</td>\n",
       "      <td>0.000000</td>\n",
       "      <td>0.000000</td>\n",
       "      <td>0.000000</td>\n",
       "      <td>8.000000</td>\n",
       "      <td>2009.000000</td>\n",
       "      <td>212975.000000</td>\n",
       "    </tr>\n",
       "    <tr>\n",
       "      <th>max</th>\n",
       "      <td>1460.000000</td>\n",
       "      <td>190.000000</td>\n",
       "      <td>313.000000</td>\n",
       "      <td>215245.000000</td>\n",
       "      <td>10.000000</td>\n",
       "      <td>9.000000</td>\n",
       "      <td>2010.000000</td>\n",
       "      <td>2010.000000</td>\n",
       "      <td>1378.000000</td>\n",
       "      <td>5644.000000</td>\n",
       "      <td>...</td>\n",
       "      <td>857.000000</td>\n",
       "      <td>547.000000</td>\n",
       "      <td>552.000000</td>\n",
       "      <td>508.000000</td>\n",
       "      <td>480.000000</td>\n",
       "      <td>738.000000</td>\n",
       "      <td>15500.000000</td>\n",
       "      <td>12.000000</td>\n",
       "      <td>2010.000000</td>\n",
       "      <td>755000.000000</td>\n",
       "    </tr>\n",
       "  </tbody>\n",
       "</table>\n",
       "<p>8 rows × 38 columns</p>\n",
       "</div>"
      ],
      "text/plain": [
       "                Id   MSSubClass  LotFrontage        LotArea  OverallQual  \\\n",
       "count  1314.000000  1314.000000  1089.000000    1314.000000  1314.000000   \n",
       "mean    734.182648    56.472603    69.641873   10273.261035     6.076104   \n",
       "std     422.224662    42.036646    23.031794    8997.895541     1.392612   \n",
       "min       1.000000    20.000000    21.000000    1300.000000     1.000000   \n",
       "25%     369.250000    20.000000    59.000000    7500.000000     5.000000   \n",
       "50%     735.500000    50.000000    69.000000    9391.000000     6.000000   \n",
       "75%    1099.750000    70.000000    80.000000   11509.000000     7.000000   \n",
       "max    1460.000000   190.000000   313.000000  215245.000000    10.000000   \n",
       "\n",
       "       OverallCond    YearBuilt  YearRemodAdd   MasVnrArea   BsmtFinSF1  ...  \\\n",
       "count  1314.000000  1314.000000   1314.000000  1307.000000  1314.000000  ...   \n",
       "mean      5.570015  1970.995434   1984.659056   102.514155   441.425419  ...   \n",
       "std       1.112848    30.198127     20.639754   178.301563   459.276687  ...   \n",
       "min       1.000000  1872.000000   1950.000000     0.000000     0.000000  ...   \n",
       "25%       5.000000  1953.000000   1966.250000     0.000000     0.000000  ...   \n",
       "50%       5.000000  1972.000000   1993.000000     0.000000   376.000000  ...   \n",
       "75%       6.000000  2000.000000   2004.000000   165.500000   704.750000  ...   \n",
       "max       9.000000  2010.000000   2010.000000  1378.000000  5644.000000  ...   \n",
       "\n",
       "        WoodDeckSF  OpenPorchSF  EnclosedPorch    3SsnPorch  ScreenPorch  \\\n",
       "count  1314.000000  1314.000000    1314.000000  1314.000000  1314.000000   \n",
       "mean     94.281583    45.765601      21.726788     3.624049    13.987062   \n",
       "std     125.436492    65.757545      60.766423    30.320430    53.854129   \n",
       "min       0.000000     0.000000       0.000000     0.000000     0.000000   \n",
       "25%       0.000000     0.000000       0.000000     0.000000     0.000000   \n",
       "50%       0.000000    24.000000       0.000000     0.000000     0.000000   \n",
       "75%     168.000000    66.750000       0.000000     0.000000     0.000000   \n",
       "max     857.000000   547.000000     552.000000   508.000000   480.000000   \n",
       "\n",
       "          PoolArea       MiscVal       MoSold       YrSold      SalePrice  \n",
       "count  1314.000000   1314.000000  1314.000000  1314.000000    1314.000000  \n",
       "mean      3.065449     46.951294     6.302131  2007.840183  179802.147641  \n",
       "std      42.341109    522.283421     2.698206     1.332824   79041.260572  \n",
       "min       0.000000      0.000000     1.000000  2006.000000   34900.000000  \n",
       "25%       0.000000      0.000000     5.000000  2007.000000  129600.000000  \n",
       "50%       0.000000      0.000000     6.000000  2008.000000  162000.000000  \n",
       "75%       0.000000      0.000000     8.000000  2009.000000  212975.000000  \n",
       "max     738.000000  15500.000000    12.000000  2010.000000  755000.000000  \n",
       "\n",
       "[8 rows x 38 columns]"
      ]
     },
     "execution_count": 32,
     "metadata": {},
     "output_type": "execute_result"
    }
   ],
   "source": [
    "train_df.describe()"
   ]
  },
  {
   "cell_type": "code",
   "execution_count": 33,
   "id": "b11cb28f",
   "metadata": {},
   "outputs": [
    {
     "name": "stdout",
     "output_type": "stream",
     "text": [
      "<class 'pandas.core.frame.DataFrame'>\n",
      "Int64Index: 1314 entries, 302 to 1389\n",
      "Data columns (total 81 columns):\n",
      " #   Column         Non-Null Count  Dtype  \n",
      "---  ------         --------------  -----  \n",
      " 0   Id             1314 non-null   int64  \n",
      " 1   MSSubClass     1314 non-null   int64  \n",
      " 2   MSZoning       1314 non-null   object \n",
      " 3   LotFrontage    1089 non-null   float64\n",
      " 4   LotArea        1314 non-null   int64  \n",
      " 5   Street         1314 non-null   object \n",
      " 6   Alley          81 non-null     object \n",
      " 7   LotShape       1314 non-null   object \n",
      " 8   LandContour    1314 non-null   object \n",
      " 9   Utilities      1314 non-null   object \n",
      " 10  LotConfig      1314 non-null   object \n",
      " 11  LandSlope      1314 non-null   object \n",
      " 12  Neighborhood   1314 non-null   object \n",
      " 13  Condition1     1314 non-null   object \n",
      " 14  Condition2     1314 non-null   object \n",
      " 15  BldgType       1314 non-null   object \n",
      " 16  HouseStyle     1314 non-null   object \n",
      " 17  OverallQual    1314 non-null   int64  \n",
      " 18  OverallCond    1314 non-null   int64  \n",
      " 19  YearBuilt      1314 non-null   int64  \n",
      " 20  YearRemodAdd   1314 non-null   int64  \n",
      " 21  RoofStyle      1314 non-null   object \n",
      " 22  RoofMatl       1314 non-null   object \n",
      " 23  Exterior1st    1314 non-null   object \n",
      " 24  Exterior2nd    1314 non-null   object \n",
      " 25  MasVnrType     1307 non-null   object \n",
      " 26  MasVnrArea     1307 non-null   float64\n",
      " 27  ExterQual      1314 non-null   object \n",
      " 28  ExterCond      1314 non-null   object \n",
      " 29  Foundation     1314 non-null   object \n",
      " 30  BsmtQual       1280 non-null   object \n",
      " 31  BsmtCond       1280 non-null   object \n",
      " 32  BsmtExposure   1279 non-null   object \n",
      " 33  BsmtFinType1   1280 non-null   object \n",
      " 34  BsmtFinSF1     1314 non-null   int64  \n",
      " 35  BsmtFinType2   1280 non-null   object \n",
      " 36  BsmtFinSF2     1314 non-null   int64  \n",
      " 37  BsmtUnfSF      1314 non-null   int64  \n",
      " 38  TotalBsmtSF    1314 non-null   int64  \n",
      " 39  Heating        1314 non-null   object \n",
      " 40  HeatingQC      1314 non-null   object \n",
      " 41  CentralAir     1314 non-null   object \n",
      " 42  Electrical     1313 non-null   object \n",
      " 43  1stFlrSF       1314 non-null   int64  \n",
      " 44  2ndFlrSF       1314 non-null   int64  \n",
      " 45  LowQualFinSF   1314 non-null   int64  \n",
      " 46  GrLivArea      1314 non-null   int64  \n",
      " 47  BsmtFullBath   1314 non-null   int64  \n",
      " 48  BsmtHalfBath   1314 non-null   int64  \n",
      " 49  FullBath       1314 non-null   int64  \n",
      " 50  HalfBath       1314 non-null   int64  \n",
      " 51  BedroomAbvGr   1314 non-null   int64  \n",
      " 52  KitchenAbvGr   1314 non-null   int64  \n",
      " 53  KitchenQual    1314 non-null   object \n",
      " 54  TotRmsAbvGrd   1314 non-null   int64  \n",
      " 55  Functional     1314 non-null   object \n",
      " 56  Fireplaces     1314 non-null   int64  \n",
      " 57  FireplaceQu    687 non-null    object \n",
      " 58  GarageType     1241 non-null   object \n",
      " 59  GarageYrBlt    1241 non-null   float64\n",
      " 60  GarageFinish   1241 non-null   object \n",
      " 61  GarageCars     1314 non-null   int64  \n",
      " 62  GarageArea     1314 non-null   int64  \n",
      " 63  GarageQual     1241 non-null   object \n",
      " 64  GarageCond     1241 non-null   object \n",
      " 65  PavedDrive     1314 non-null   object \n",
      " 66  WoodDeckSF     1314 non-null   int64  \n",
      " 67  OpenPorchSF    1314 non-null   int64  \n",
      " 68  EnclosedPorch  1314 non-null   int64  \n",
      " 69  3SsnPorch      1314 non-null   int64  \n",
      " 70  ScreenPorch    1314 non-null   int64  \n",
      " 71  PoolArea       1314 non-null   int64  \n",
      " 72  PoolQC         7 non-null      object \n",
      " 73  Fence          259 non-null    object \n",
      " 74  MiscFeature    50 non-null     object \n",
      " 75  MiscVal        1314 non-null   int64  \n",
      " 76  MoSold         1314 non-null   int64  \n",
      " 77  YrSold         1314 non-null   int64  \n",
      " 78  SaleType       1314 non-null   object \n",
      " 79  SaleCondition  1314 non-null   object \n",
      " 80  SalePrice      1314 non-null   int64  \n",
      "dtypes: float64(3), int64(35), object(43)\n",
      "memory usage: 841.8+ KB\n"
     ]
    }
   ],
   "source": [
    "train_df.info()"
   ]
  },
  {
   "cell_type": "code",
   "execution_count": null,
   "id": "ea76cf7c",
   "metadata": {},
   "outputs": [],
   "source": []
  },
  {
   "cell_type": "markdown",
   "id": "81efc7c1",
   "metadata": {},
   "source": [
    "### Feature types \n",
    "\n",
    "- We have mixed feature types and a bunch of missing values. \n",
    "- Now, let's identify feature types and transformations. "
   ]
  },
  {
   "cell_type": "markdown",
   "id": "24994d32",
   "metadata": {},
   "source": [
    "- Let's get the numeric-looking columns. "
   ]
  },
  {
   "cell_type": "code",
   "execution_count": 34,
   "id": "6f2b8070",
   "metadata": {},
   "outputs": [
    {
     "name": "stdout",
     "output_type": "stream",
     "text": [
      "['Id', 'MSSubClass', 'LotFrontage', 'LotArea', 'OverallQual', 'OverallCond', 'YearBuilt', 'YearRemodAdd', 'MasVnrArea', 'BsmtFinSF1', 'BsmtFinSF2', 'BsmtUnfSF', 'TotalBsmtSF', '1stFlrSF', '2ndFlrSF', 'LowQualFinSF', 'GrLivArea', 'BsmtFullBath', 'BsmtHalfBath', 'FullBath', 'HalfBath', 'BedroomAbvGr', 'KitchenAbvGr', 'TotRmsAbvGrd', 'Fireplaces', 'GarageYrBlt', 'GarageCars', 'GarageArea', 'WoodDeckSF', 'OpenPorchSF', 'EnclosedPorch', '3SsnPorch', 'ScreenPorch', 'PoolArea', 'MiscVal', 'MoSold', 'YrSold']\n"
     ]
    }
   ],
   "source": [
    "numeric_looking_columns = X_train.select_dtypes(include=np.number).columns.tolist()\n",
    "print(numeric_looking_columns)"
   ]
  },
  {
   "cell_type": "code",
   "execution_count": null,
   "id": "6216d7c7",
   "metadata": {},
   "outputs": [],
   "source": []
  },
  {
   "cell_type": "markdown",
   "id": "68c16709",
   "metadata": {},
   "source": [
    "Not all numeric looking columns are necessarily numeric. "
   ]
  },
  {
   "cell_type": "code",
   "execution_count": 35,
   "id": "49a3ad1f",
   "metadata": {},
   "outputs": [
    {
     "data": {
      "text/plain": [
       "array([ 20,  50,  30,  60, 160,  85,  90, 120, 180,  80,  70,  75, 190,\n",
       "        45,  40], dtype=int64)"
      ]
     },
     "execution_count": 35,
     "metadata": {},
     "output_type": "execute_result"
    }
   ],
   "source": [
    "train_df[\"MSSubClass\"].unique()"
   ]
  },
  {
   "cell_type": "code",
   "execution_count": null,
   "id": "450b5296",
   "metadata": {},
   "outputs": [],
   "source": []
  },
  {
   "cell_type": "markdown",
   "id": "e222891b",
   "metadata": {},
   "source": [
    "MSSubClass: Identifies the type of dwelling involved in the sale.\t\n",
    "\n",
    "        20\t1-STORY 1946 & NEWER ALL STYLES\n",
    "        30\t1-STORY 1945 & OLDER\n",
    "        40\t1-STORY W/FINISHED ATTIC ALL AGES\n",
    "        45\t1-1/2 STORY - UNFINISHED ALL AGES\n",
    "        50\t1-1/2 STORY FINISHED ALL AGES\n",
    "        60\t2-STORY 1946 & NEWER\n",
    "        70\t2-STORY 1945 & OLDER\n",
    "        75\t2-1/2 STORY ALL AGES\n",
    "        80\tSPLIT OR MULTI-LEVEL\n",
    "        85\tSPLIT FOYER\n",
    "        90\tDUPLEX - ALL STYLES AND AGES\n",
    "       120\t1-STORY PUD (Planned Unit Development) - 1946 & NEWER\n",
    "       150\t1-1/2 STORY PUD - ALL AGES\n",
    "       160\t2-STORY PUD - 1946 & NEWER\n",
    "       180\tPUD - MULTILEVEL - INCL SPLIT LEV/FOYER\n",
    "       190\t2 FAMILY CONVERSION - ALL STYLES AND AGES"
   ]
  },
  {
   "cell_type": "code",
   "execution_count": null,
   "id": "c9a4777f",
   "metadata": {},
   "outputs": [],
   "source": []
  },
  {
   "cell_type": "markdown",
   "id": "83e88124",
   "metadata": {},
   "source": [
    "Also, month sold is more of a categorical feature than a numeric feature. "
   ]
  },
  {
   "cell_type": "code",
   "execution_count": 36,
   "id": "9c8805b1",
   "metadata": {},
   "outputs": [
    {
     "data": {
      "text/plain": [
       "array([ 1,  7,  3,  5,  8, 10,  6,  9, 12,  2,  4, 11], dtype=int64)"
      ]
     },
     "execution_count": 36,
     "metadata": {},
     "output_type": "execute_result"
    }
   ],
   "source": [
    "train_df[\"MoSold\"].unique() # Month Sold"
   ]
  },
  {
   "cell_type": "code",
   "execution_count": null,
   "id": "a07a0bf5",
   "metadata": {},
   "outputs": [],
   "source": []
  },
  {
   "cell_type": "code",
   "execution_count": 37,
   "id": "c8021e00",
   "metadata": {},
   "outputs": [],
   "source": [
    "drop_features = [\"Id\"]\n",
    "numeric_features = [\n",
    "    \"BedroomAbvGr\",\n",
    "    \"KitchenAbvGr\", \n",
    "    \"LotFrontage\",\n",
    "    \"LotArea\",\n",
    "    \"OverallQual\",\n",
    "    \"OverallCond\",\n",
    "    \"YearBuilt\",\n",
    "    \"YearRemodAdd\",\n",
    "    \"MasVnrArea\",\n",
    "    \"BsmtFinSF1\",\n",
    "    \"BsmtFinSF2\",\n",
    "    \"BsmtUnfSF\",\n",
    "    \"TotalBsmtSF\",\n",
    "    \"1stFlrSF\",\n",
    "    \"2ndFlrSF\",\n",
    "    \"LowQualFinSF\",\n",
    "    \"GrLivArea\",\n",
    "    \"BsmtFullBath\",\n",
    "    \"BsmtHalfBath\",\n",
    "    \"FullBath\",\n",
    "    \"HalfBath\",\n",
    "    \"TotRmsAbvGrd\",\n",
    "    \"Fireplaces\",\n",
    "    \"GarageYrBlt\",\n",
    "    \"GarageCars\",\n",
    "    \"GarageArea\",\n",
    "    \"WoodDeckSF\",\n",
    "    \"OpenPorchSF\",\n",
    "    \"EnclosedPorch\",\n",
    "    \"3SsnPorch\",\n",
    "    \"ScreenPorch\",\n",
    "    \"PoolArea\",\n",
    "    \"MiscVal\",\n",
    "    \"YrSold\",\n",
    "]"
   ]
  },
  {
   "cell_type": "code",
   "execution_count": 38,
   "id": "3eed4997",
   "metadata": {},
   "outputs": [
    {
     "data": {
      "text/plain": [
       "{'MSSubClass', 'MoSold'}"
      ]
     },
     "execution_count": 38,
     "metadata": {},
     "output_type": "execute_result"
    }
   ],
   "source": [
    "set(numeric_looking_columns) - set(numeric_features) - set(drop_features)"
   ]
  },
  {
   "cell_type": "markdown",
   "id": "379ee462",
   "metadata": {},
   "source": [
    "We'll treat the above numeric-looking features as categorical features. "
   ]
  },
  {
   "cell_type": "markdown",
   "id": "1ab598fb",
   "metadata": {},
   "source": [
    "- There are a bunch of ordinal features in this dataset. \n",
    "- Ordinal features with the same scale \n",
    "    - Poor (Po), Fair (Fa), Typical (TA), Good (Gd), Excellent (Ex)\n",
    "    - These we'll be calling `ordinal_features_reg`.\n",
    "- Ordinal features with different scales\n",
    "    - These we'll be calling `ordinal_features_oth`."
   ]
  },
  {
   "cell_type": "code",
   "execution_count": null,
   "id": "ed1eb6aa",
   "metadata": {},
   "outputs": [],
   "source": []
  },
  {
   "cell_type": "code",
   "execution_count": 39,
   "id": "0589431a",
   "metadata": {},
   "outputs": [
    {
     "data": {
      "text/plain": [
       "[['Po', 'Fa', 'TA', 'Gd', 'Ex'],\n",
       " ['Po', 'Fa', 'TA', 'Gd', 'Ex'],\n",
       " ['Po', 'Fa', 'TA', 'Gd', 'Ex'],\n",
       " ['Po', 'Fa', 'TA', 'Gd', 'Ex'],\n",
       " ['Po', 'Fa', 'TA', 'Gd', 'Ex'],\n",
       " ['Po', 'Fa', 'TA', 'Gd', 'Ex'],\n",
       " ['Po', 'Fa', 'TA', 'Gd', 'Ex'],\n",
       " ['Po', 'Fa', 'TA', 'Gd', 'Ex'],\n",
       " ['Po', 'Fa', 'TA', 'Gd', 'Ex'],\n",
       " ['Po', 'Fa', 'TA', 'Gd', 'Ex']]"
      ]
     },
     "execution_count": 39,
     "metadata": {},
     "output_type": "execute_result"
    }
   ],
   "source": [
    "ordinal_features_reg = [\n",
    "    \"ExterQual\",\n",
    "    \"ExterCond\",\n",
    "    \"BsmtQual\",\n",
    "    \"BsmtCond\",\n",
    "    \"HeatingQC\",\n",
    "    \"KitchenQual\",\n",
    "    \"FireplaceQu\",\n",
    "    \"GarageQual\",\n",
    "    \"GarageCond\",\n",
    "    \"PoolQC\",\n",
    "]\n",
    "ordering = [\n",
    "    \"Po\",\n",
    "    \"Fa\",\n",
    "    \"TA\",\n",
    "    \"Gd\",\n",
    "    \"Ex\",\n",
    "]  # if N/A it will just impute something, per below\n",
    "ordering_ordinal_reg = [ordering] * len(ordinal_features_reg)\n",
    "ordering_ordinal_reg"
   ]
  },
  {
   "cell_type": "code",
   "execution_count": null,
   "id": "09ab4846",
   "metadata": {},
   "outputs": [],
   "source": []
  },
  {
   "cell_type": "markdown",
   "id": "80ea06bc",
   "metadata": {},
   "source": [
    "We'll pass the above as categories in our `OrdinalEncoder`. "
   ]
  },
  {
   "cell_type": "code",
   "execution_count": null,
   "id": "94166426",
   "metadata": {},
   "outputs": [],
   "source": []
  },
  {
   "cell_type": "markdown",
   "id": "612467da",
   "metadata": {},
   "source": [
    "- There are a bunch more ordinal features using different scales.\n",
    "  - These we'll be calling `ordinal_features_oth`. \n",
    "  - We are encoding them separately. "
   ]
  },
  {
   "cell_type": "code",
   "execution_count": 40,
   "id": "abb0ee8f",
   "metadata": {},
   "outputs": [],
   "source": [
    "ordinal_features_oth = [\n",
    "    \"BsmtExposure\",\n",
    "    \"BsmtFinType1\",\n",
    "    \"BsmtFinType2\",\n",
    "    \"Functional\",\n",
    "    \"Fence\",\n",
    "]\n",
    "ordering_ordinal_oth = [\n",
    "    ['NA', 'No', 'Mn', 'Av', 'Gd'],\n",
    "    ['NA', 'Unf', 'LwQ', 'Rec', 'BLQ', 'ALQ', 'GLQ'],\n",
    "    ['NA', 'Unf', 'LwQ', 'Rec', 'BLQ', 'ALQ', 'GLQ'],\n",
    "    ['Sal','Sev','Maj2','Maj1','Mod','Min2','Min1','Typ'],    \n",
    "    ['NA', 'MnWw', 'GdWo', 'MnPrv', 'GdPrv']\n",
    "]"
   ]
  },
  {
   "cell_type": "code",
   "execution_count": null,
   "id": "850c85e5",
   "metadata": {},
   "outputs": [],
   "source": []
  },
  {
   "cell_type": "markdown",
   "id": "419177cc",
   "metadata": {},
   "source": [
    "The remaining features are categorical features."
   ]
  },
  {
   "cell_type": "code",
   "execution_count": 41,
   "id": "83eee9e1",
   "metadata": {},
   "outputs": [
    {
     "data": {
      "text/plain": [
       "['Heating',\n",
       " 'CentralAir',\n",
       " 'MoSold',\n",
       " 'LotShape',\n",
       " 'RoofStyle',\n",
       " 'SaleCondition',\n",
       " 'Street',\n",
       " 'Exterior2nd',\n",
       " 'LandSlope',\n",
       " 'LotConfig',\n",
       " 'MSSubClass',\n",
       " 'Alley',\n",
       " 'RoofMatl',\n",
       " 'Foundation',\n",
       " 'Utilities',\n",
       " 'MSZoning',\n",
       " 'Condition1',\n",
       " 'Condition2',\n",
       " 'Exterior1st',\n",
       " 'Neighborhood',\n",
       " 'SaleType',\n",
       " 'MiscFeature',\n",
       " 'HouseStyle',\n",
       " 'MasVnrType',\n",
       " 'GarageFinish',\n",
       " 'PavedDrive',\n",
       " 'Electrical',\n",
       " 'GarageType',\n",
       " 'LandContour',\n",
       " 'BldgType']"
      ]
     },
     "execution_count": 41,
     "metadata": {},
     "output_type": "execute_result"
    }
   ],
   "source": [
    "categorical_features = list(\n",
    "    set(X_train.columns)\n",
    "    - set(numeric_features)\n",
    "    - set(ordinal_features_reg)\n",
    "    - set(ordinal_features_oth)    \n",
    "    - set(drop_features)\n",
    ")\n",
    "categorical_features"
   ]
  },
  {
   "cell_type": "code",
   "execution_count": null,
   "id": "670b22c4",
   "metadata": {},
   "outputs": [],
   "source": []
  },
  {
   "cell_type": "markdown",
   "id": "745ccf7a",
   "metadata": {},
   "source": [
    "- We are not doing it here but we can engineer our own features too. \n",
    "- Would price per square foot be a good feature to add in here?"
   ]
  },
  {
   "cell_type": "code",
   "execution_count": null,
   "id": "b03d8c86",
   "metadata": {},
   "outputs": [],
   "source": []
  },
  {
   "cell_type": "markdown",
   "id": "2bb4a3f7",
   "metadata": {},
   "source": [
    "### Applying feature transformations\n",
    "\n",
    "- Since we have mixed feature types, let's use `ColumnTransformer` to apply different transformations on different features types.  "
   ]
  },
  {
   "cell_type": "code",
   "execution_count": 46,
   "id": "ab1f76b2",
   "metadata": {},
   "outputs": [],
   "source": [
    "from sklearn.compose import ColumnTransformer, make_column_transformer\n",
    "\n",
    "numeric_transformer = make_pipeline(SimpleImputer(strategy=\"median\"), StandardScaler())\n",
    "ordinal_transformer_reg = make_pipeline(\n",
    "    SimpleImputer(strategy=\"most_frequent\"),\n",
    "    OrdinalEncoder(categories=ordering_ordinal_reg),\n",
    ")\n",
    "\n",
    "ordinal_transformer_oth = make_pipeline(\n",
    "    SimpleImputer(strategy=\"most_frequent\"),\n",
    "    OrdinalEncoder(categories=ordering_ordinal_oth),\n",
    ")\n",
    "\n",
    "categorical_transformer = make_pipeline(\n",
    "    SimpleImputer(strategy=\"constant\", fill_value=\"missing\"),\n",
    "    OneHotEncoder(handle_unknown=\"ignore\", sparse=False),\n",
    ")\n",
    "\n",
    "preprocessor = make_column_transformer(\n",
    "    (\"drop\", drop_features),\n",
    "    (numeric_transformer, numeric_features),\n",
    "    (ordinal_transformer_reg, ordinal_features_reg),\n",
    "    (ordinal_transformer_oth, ordinal_features_oth),    \n",
    "    (categorical_transformer, categorical_features),\n",
    ")"
   ]
  },
  {
   "cell_type": "code",
   "execution_count": 47,
   "id": "51cf5bfc",
   "metadata": {},
   "outputs": [
    {
     "name": "stderr",
     "output_type": "stream",
     "text": [
      "C:\\Users\\sanjay\\anaconda3\\envs\\pytorch_cuda\\lib\\site-packages\\sklearn\\preprocessing\\_encoders.py:868: FutureWarning: `sparse` was renamed to `sparse_output` in version 1.2 and will be removed in 1.4. `sparse_output` is ignored unless you leave `sparse` to its default value.\n",
      "  warnings.warn(\n"
     ]
    },
    {
     "data": {
      "text/plain": [
       "{'drop': 'drop',\n",
       " 'pipeline-1': Pipeline(steps=[('simpleimputer', SimpleImputer(strategy='median')),\n",
       "                 ('standardscaler', StandardScaler())]),\n",
       " 'pipeline-2': Pipeline(steps=[('simpleimputer', SimpleImputer(strategy='most_frequent')),\n",
       "                 ('ordinalencoder',\n",
       "                  OrdinalEncoder(categories=[['Po', 'Fa', 'TA', 'Gd', 'Ex'],\n",
       "                                             ['Po', 'Fa', 'TA', 'Gd', 'Ex'],\n",
       "                                             ['Po', 'Fa', 'TA', 'Gd', 'Ex'],\n",
       "                                             ['Po', 'Fa', 'TA', 'Gd', 'Ex'],\n",
       "                                             ['Po', 'Fa', 'TA', 'Gd', 'Ex'],\n",
       "                                             ['Po', 'Fa', 'TA', 'Gd', 'Ex'],\n",
       "                                             ['Po', 'Fa', 'TA', 'Gd', 'Ex'],\n",
       "                                             ['Po', 'Fa', 'TA', 'Gd', 'Ex'],\n",
       "                                             ['Po', 'Fa', 'TA', 'Gd', 'Ex'],\n",
       "                                             ['Po', 'Fa', 'TA', 'Gd', 'Ex']]))]),\n",
       " 'pipeline-3': Pipeline(steps=[('simpleimputer', SimpleImputer(strategy='most_frequent')),\n",
       "                 ('ordinalencoder',\n",
       "                  OrdinalEncoder(categories=[['NA', 'No', 'Mn', 'Av', 'Gd'],\n",
       "                                             ['NA', 'Unf', 'LwQ', 'Rec', 'BLQ',\n",
       "                                              'ALQ', 'GLQ'],\n",
       "                                             ['NA', 'Unf', 'LwQ', 'Rec', 'BLQ',\n",
       "                                              'ALQ', 'GLQ'],\n",
       "                                             ['Sal', 'Sev', 'Maj2', 'Maj1',\n",
       "                                              'Mod', 'Min2', 'Min1', 'Typ'],\n",
       "                                             ['NA', 'MnWw', 'GdWo', 'MnPrv',\n",
       "                                              'GdPrv']]))]),\n",
       " 'pipeline-4': Pipeline(steps=[('simpleimputer',\n",
       "                  SimpleImputer(fill_value='missing', strategy='constant')),\n",
       "                 ('onehotencoder',\n",
       "                  OneHotEncoder(handle_unknown='ignore', sparse=False,\n",
       "                                sparse_output=False))])}"
      ]
     },
     "execution_count": 47,
     "metadata": {},
     "output_type": "execute_result"
    }
   ],
   "source": [
    "preprocessor.fit(X_train) # Calling fit to examine all the transformers.\n",
    "preprocessor.named_transformers_"
   ]
  },
  {
   "cell_type": "code",
   "execution_count": 48,
   "id": "436956d0",
   "metadata": {},
   "outputs": [],
   "source": [
    "ohe_columns = list(\n",
    "    preprocessor.named_transformers_[\"pipeline-4\"]\n",
    "    .named_steps[\"onehotencoder\"]\n",
    "    .get_feature_names_out(categorical_features)\n",
    ")\n",
    "new_columns = numeric_features + ordinal_features_reg + ordinal_features_oth + ohe_columns"
   ]
  },
  {
   "cell_type": "code",
   "execution_count": 49,
   "id": "8f8e75f0",
   "metadata": {},
   "outputs": [
    {
     "data": {
      "text/html": [
       "<div>\n",
       "<style scoped>\n",
       "    .dataframe tbody tr th:only-of-type {\n",
       "        vertical-align: middle;\n",
       "    }\n",
       "\n",
       "    .dataframe tbody tr th {\n",
       "        vertical-align: top;\n",
       "    }\n",
       "\n",
       "    .dataframe thead th {\n",
       "        text-align: right;\n",
       "    }\n",
       "</style>\n",
       "<table border=\"1\" class=\"dataframe\">\n",
       "  <thead>\n",
       "    <tr style=\"text-align: right;\">\n",
       "      <th></th>\n",
       "      <th>BedroomAbvGr</th>\n",
       "      <th>KitchenAbvGr</th>\n",
       "      <th>LotFrontage</th>\n",
       "      <th>LotArea</th>\n",
       "      <th>OverallQual</th>\n",
       "      <th>OverallCond</th>\n",
       "      <th>YearBuilt</th>\n",
       "      <th>YearRemodAdd</th>\n",
       "      <th>MasVnrArea</th>\n",
       "      <th>BsmtFinSF1</th>\n",
       "      <th>...</th>\n",
       "      <th>GarageType_missing</th>\n",
       "      <th>LandContour_Bnk</th>\n",
       "      <th>LandContour_HLS</th>\n",
       "      <th>LandContour_Low</th>\n",
       "      <th>LandContour_Lvl</th>\n",
       "      <th>BldgType_1Fam</th>\n",
       "      <th>BldgType_2fmCon</th>\n",
       "      <th>BldgType_Duplex</th>\n",
       "      <th>BldgType_Twnhs</th>\n",
       "      <th>BldgType_TwnhsE</th>\n",
       "    </tr>\n",
       "  </thead>\n",
       "  <tbody>\n",
       "    <tr>\n",
       "      <th>302</th>\n",
       "      <td>0.154795</td>\n",
       "      <td>-0.222647</td>\n",
       "      <td>2.312501</td>\n",
       "      <td>0.381428</td>\n",
       "      <td>0.663680</td>\n",
       "      <td>-0.512408</td>\n",
       "      <td>0.993969</td>\n",
       "      <td>0.840492</td>\n",
       "      <td>0.269972</td>\n",
       "      <td>-0.961498</td>\n",
       "      <td>...</td>\n",
       "      <td>0.0</td>\n",
       "      <td>0.0</td>\n",
       "      <td>0.0</td>\n",
       "      <td>0.0</td>\n",
       "      <td>1.0</td>\n",
       "      <td>1.0</td>\n",
       "      <td>0.0</td>\n",
       "      <td>0.0</td>\n",
       "      <td>0.0</td>\n",
       "      <td>0.0</td>\n",
       "    </tr>\n",
       "    <tr>\n",
       "      <th>767</th>\n",
       "      <td>1.372763</td>\n",
       "      <td>-0.222647</td>\n",
       "      <td>0.260890</td>\n",
       "      <td>0.248457</td>\n",
       "      <td>-0.054669</td>\n",
       "      <td>1.285467</td>\n",
       "      <td>-1.026793</td>\n",
       "      <td>0.016525</td>\n",
       "      <td>-0.573129</td>\n",
       "      <td>0.476092</td>\n",
       "      <td>...</td>\n",
       "      <td>0.0</td>\n",
       "      <td>0.0</td>\n",
       "      <td>0.0</td>\n",
       "      <td>0.0</td>\n",
       "      <td>1.0</td>\n",
       "      <td>1.0</td>\n",
       "      <td>0.0</td>\n",
       "      <td>0.0</td>\n",
       "      <td>0.0</td>\n",
       "      <td>0.0</td>\n",
       "    </tr>\n",
       "    <tr>\n",
       "      <th>429</th>\n",
       "      <td>0.154795</td>\n",
       "      <td>-0.222647</td>\n",
       "      <td>2.885044</td>\n",
       "      <td>0.131607</td>\n",
       "      <td>-0.054669</td>\n",
       "      <td>-0.512408</td>\n",
       "      <td>0.563314</td>\n",
       "      <td>0.161931</td>\n",
       "      <td>-0.573129</td>\n",
       "      <td>1.227559</td>\n",
       "      <td>...</td>\n",
       "      <td>0.0</td>\n",
       "      <td>0.0</td>\n",
       "      <td>0.0</td>\n",
       "      <td>0.0</td>\n",
       "      <td>1.0</td>\n",
       "      <td>1.0</td>\n",
       "      <td>0.0</td>\n",
       "      <td>0.0</td>\n",
       "      <td>0.0</td>\n",
       "      <td>0.0</td>\n",
       "    </tr>\n",
       "    <tr>\n",
       "      <th>1139</th>\n",
       "      <td>0.154795</td>\n",
       "      <td>-0.222647</td>\n",
       "      <td>1.358264</td>\n",
       "      <td>-0.171468</td>\n",
       "      <td>-0.773017</td>\n",
       "      <td>-0.512408</td>\n",
       "      <td>-1.689338</td>\n",
       "      <td>-1.679877</td>\n",
       "      <td>-0.573129</td>\n",
       "      <td>0.443419</td>\n",
       "      <td>...</td>\n",
       "      <td>0.0</td>\n",
       "      <td>0.0</td>\n",
       "      <td>0.0</td>\n",
       "      <td>0.0</td>\n",
       "      <td>1.0</td>\n",
       "      <td>1.0</td>\n",
       "      <td>0.0</td>\n",
       "      <td>0.0</td>\n",
       "      <td>0.0</td>\n",
       "      <td>0.0</td>\n",
       "    </tr>\n",
       "    <tr>\n",
       "      <th>558</th>\n",
       "      <td>0.154795</td>\n",
       "      <td>-0.222647</td>\n",
       "      <td>-0.597924</td>\n",
       "      <td>1.289541</td>\n",
       "      <td>0.663680</td>\n",
       "      <td>-0.512408</td>\n",
       "      <td>0.828332</td>\n",
       "      <td>0.598149</td>\n",
       "      <td>-0.573129</td>\n",
       "      <td>0.354114</td>\n",
       "      <td>...</td>\n",
       "      <td>0.0</td>\n",
       "      <td>0.0</td>\n",
       "      <td>1.0</td>\n",
       "      <td>0.0</td>\n",
       "      <td>0.0</td>\n",
       "      <td>1.0</td>\n",
       "      <td>0.0</td>\n",
       "      <td>0.0</td>\n",
       "      <td>0.0</td>\n",
       "      <td>0.0</td>\n",
       "    </tr>\n",
       "  </tbody>\n",
       "</table>\n",
       "<p>5 rows × 263 columns</p>\n",
       "</div>"
      ],
      "text/plain": [
       "      BedroomAbvGr  KitchenAbvGr  LotFrontage   LotArea  OverallQual  \\\n",
       "302       0.154795     -0.222647     2.312501  0.381428     0.663680   \n",
       "767       1.372763     -0.222647     0.260890  0.248457    -0.054669   \n",
       "429       0.154795     -0.222647     2.885044  0.131607    -0.054669   \n",
       "1139      0.154795     -0.222647     1.358264 -0.171468    -0.773017   \n",
       "558       0.154795     -0.222647    -0.597924  1.289541     0.663680   \n",
       "\n",
       "      OverallCond  YearBuilt  YearRemodAdd  MasVnrArea  BsmtFinSF1  ...  \\\n",
       "302     -0.512408   0.993969      0.840492    0.269972   -0.961498  ...   \n",
       "767      1.285467  -1.026793      0.016525   -0.573129    0.476092  ...   \n",
       "429     -0.512408   0.563314      0.161931   -0.573129    1.227559  ...   \n",
       "1139    -0.512408  -1.689338     -1.679877   -0.573129    0.443419  ...   \n",
       "558     -0.512408   0.828332      0.598149   -0.573129    0.354114  ...   \n",
       "\n",
       "      GarageType_missing  LandContour_Bnk  LandContour_HLS  LandContour_Low  \\\n",
       "302                  0.0              0.0              0.0              0.0   \n",
       "767                  0.0              0.0              0.0              0.0   \n",
       "429                  0.0              0.0              0.0              0.0   \n",
       "1139                 0.0              0.0              0.0              0.0   \n",
       "558                  0.0              0.0              1.0              0.0   \n",
       "\n",
       "      LandContour_Lvl  BldgType_1Fam  BldgType_2fmCon  BldgType_Duplex  \\\n",
       "302               1.0            1.0              0.0              0.0   \n",
       "767               1.0            1.0              0.0              0.0   \n",
       "429               1.0            1.0              0.0              0.0   \n",
       "1139              1.0            1.0              0.0              0.0   \n",
       "558               0.0            1.0              0.0              0.0   \n",
       "\n",
       "      BldgType_Twnhs  BldgType_TwnhsE  \n",
       "302              0.0              0.0  \n",
       "767              0.0              0.0  \n",
       "429              0.0              0.0  \n",
       "1139             0.0              0.0  \n",
       "558              0.0              0.0  \n",
       "\n",
       "[5 rows x 263 columns]"
      ]
     },
     "execution_count": 49,
     "metadata": {},
     "output_type": "execute_result"
    }
   ],
   "source": [
    "X_train_enc = pd.DataFrame(\n",
    "    preprocessor.transform(X_train), index=X_train.index, columns=new_columns\n",
    ")\n",
    "X_train_enc.head()"
   ]
  },
  {
   "cell_type": "code",
   "execution_count": 50,
   "id": "014fe2cb",
   "metadata": {},
   "outputs": [
    {
     "data": {
      "text/plain": [
       "(1314, 80)"
      ]
     },
     "execution_count": 50,
     "metadata": {},
     "output_type": "execute_result"
    }
   ],
   "source": [
    "X_train.shape"
   ]
  },
  {
   "cell_type": "code",
   "execution_count": 51,
   "id": "f8ff2d87",
   "metadata": {},
   "outputs": [
    {
     "data": {
      "text/plain": [
       "(1314, 263)"
      ]
     },
     "execution_count": 51,
     "metadata": {},
     "output_type": "execute_result"
    }
   ],
   "source": [
    "X_train_enc.shape"
   ]
  },
  {
   "cell_type": "code",
   "execution_count": null,
   "id": "0f03b6db",
   "metadata": {},
   "outputs": [],
   "source": []
  },
  {
   "cell_type": "markdown",
   "id": "95f15895",
   "metadata": {},
   "source": [
    "We went from 80 features to 263 features!! "
   ]
  },
  {
   "cell_type": "code",
   "execution_count": null,
   "id": "894bf106",
   "metadata": {},
   "outputs": [],
   "source": []
  },
  {
   "cell_type": "markdown",
   "id": "ebc3cef3",
   "metadata": {},
   "source": [
    "### Other possible preprocessing?  \n",
    "\n",
    "- There is a lot of room for improvement ...\n",
    "- We're just using `SimpleImputer`.\n",
    "    - In reality we'd want to go through this more carefully.\n",
    "    - We may also want to drop some columns that are almost entirely missing.    \n",
    "- We could also check for outliers, and do other exploratory data analysis (EDA).\n",
    "- But for academic purposes, this is good enough ...    "
   ]
  },
  {
   "cell_type": "code",
   "execution_count": null,
   "id": "36ae9a57",
   "metadata": {},
   "outputs": [],
   "source": []
  },
  {
   "cell_type": "markdown",
   "id": "6a7be6ed",
   "metadata": {},
   "source": [
    "### `DummyRegressor`"
   ]
  },
  {
   "cell_type": "code",
   "execution_count": 54,
   "id": "c7ca8052",
   "metadata": {},
   "outputs": [
    {
     "data": {
      "text/html": [
       "<div>\n",
       "<style scoped>\n",
       "    .dataframe tbody tr th:only-of-type {\n",
       "        vertical-align: middle;\n",
       "    }\n",
       "\n",
       "    .dataframe tbody tr th {\n",
       "        vertical-align: top;\n",
       "    }\n",
       "\n",
       "    .dataframe thead th {\n",
       "        text-align: right;\n",
       "    }\n",
       "</style>\n",
       "<table border=\"1\" class=\"dataframe\">\n",
       "  <thead>\n",
       "    <tr style=\"text-align: right;\">\n",
       "      <th></th>\n",
       "      <th>fit_time</th>\n",
       "      <th>score_time</th>\n",
       "      <th>test_score</th>\n",
       "      <th>train_score</th>\n",
       "    </tr>\n",
       "  </thead>\n",
       "  <tbody>\n",
       "    <tr>\n",
       "      <th>0</th>\n",
       "      <td>0.000999</td>\n",
       "      <td>0.000000</td>\n",
       "      <td>-0.003547</td>\n",
       "      <td>0.0</td>\n",
       "    </tr>\n",
       "    <tr>\n",
       "      <th>1</th>\n",
       "      <td>0.000999</td>\n",
       "      <td>0.000000</td>\n",
       "      <td>-0.001266</td>\n",
       "      <td>0.0</td>\n",
       "    </tr>\n",
       "    <tr>\n",
       "      <th>2</th>\n",
       "      <td>0.001001</td>\n",
       "      <td>0.000000</td>\n",
       "      <td>-0.011767</td>\n",
       "      <td>0.0</td>\n",
       "    </tr>\n",
       "    <tr>\n",
       "      <th>3</th>\n",
       "      <td>0.000998</td>\n",
       "      <td>0.000000</td>\n",
       "      <td>-0.006744</td>\n",
       "      <td>0.0</td>\n",
       "    </tr>\n",
       "    <tr>\n",
       "      <th>4</th>\n",
       "      <td>0.000000</td>\n",
       "      <td>0.001001</td>\n",
       "      <td>-0.076533</td>\n",
       "      <td>0.0</td>\n",
       "    </tr>\n",
       "    <tr>\n",
       "      <th>5</th>\n",
       "      <td>0.001001</td>\n",
       "      <td>0.000000</td>\n",
       "      <td>-0.003133</td>\n",
       "      <td>0.0</td>\n",
       "    </tr>\n",
       "    <tr>\n",
       "      <th>6</th>\n",
       "      <td>0.001000</td>\n",
       "      <td>0.000000</td>\n",
       "      <td>-0.000397</td>\n",
       "      <td>0.0</td>\n",
       "    </tr>\n",
       "    <tr>\n",
       "      <th>7</th>\n",
       "      <td>0.001000</td>\n",
       "      <td>0.000000</td>\n",
       "      <td>-0.003785</td>\n",
       "      <td>0.0</td>\n",
       "    </tr>\n",
       "    <tr>\n",
       "      <th>8</th>\n",
       "      <td>0.001000</td>\n",
       "      <td>0.000000</td>\n",
       "      <td>-0.001740</td>\n",
       "      <td>0.0</td>\n",
       "    </tr>\n",
       "    <tr>\n",
       "      <th>9</th>\n",
       "      <td>0.000999</td>\n",
       "      <td>0.000000</td>\n",
       "      <td>-0.000117</td>\n",
       "      <td>0.0</td>\n",
       "    </tr>\n",
       "  </tbody>\n",
       "</table>\n",
       "</div>"
      ],
      "text/plain": [
       "   fit_time  score_time  test_score  train_score\n",
       "0  0.000999    0.000000   -0.003547          0.0\n",
       "1  0.000999    0.000000   -0.001266          0.0\n",
       "2  0.001001    0.000000   -0.011767          0.0\n",
       "3  0.000998    0.000000   -0.006744          0.0\n",
       "4  0.000000    0.001001   -0.076533          0.0\n",
       "5  0.001001    0.000000   -0.003133          0.0\n",
       "6  0.001000    0.000000   -0.000397          0.0\n",
       "7  0.001000    0.000000   -0.003785          0.0\n",
       "8  0.001000    0.000000   -0.001740          0.0\n",
       "9  0.000999    0.000000   -0.000117          0.0"
      ]
     },
     "execution_count": 54,
     "metadata": {},
     "output_type": "execute_result"
    }
   ],
   "source": [
    "dummy = DummyRegressor()\n",
    "pd.DataFrame(cross_validate(dummy, X_train, y_train, cv=10, return_train_score=True))"
   ]
  },
  {
   "cell_type": "markdown",
   "id": "b4802d27",
   "metadata": {},
   "source": [
    "## `LinearRegression()`"
   ]
  },
  {
   "cell_type": "markdown",
   "id": "e1a938d4",
   "metadata": {},
   "source": [
    "Ordinary least squares Linear Regression.\n",
    "\n",
    "- LinearRegression fits a linear model with coefficients w = (w1, …, wp) to minimize the residual sum of squares between the observed targets in the dataset, and the targets predicted by the linear approximation."
   ]
  },
  {
   "cell_type": "code",
   "execution_count": 57,
   "id": "76295b8b",
   "metadata": {},
   "outputs": [
    {
     "name": "stderr",
     "output_type": "stream",
     "text": [
      "C:\\Users\\sanjay\\anaconda3\\envs\\pytorch_cuda\\lib\\site-packages\\sklearn\\preprocessing\\_encoders.py:868: FutureWarning: `sparse` was renamed to `sparse_output` in version 1.2 and will be removed in 1.4. `sparse_output` is ignored unless you leave `sparse` to its default value.\n",
      "  warnings.warn(\n",
      "C:\\Users\\sanjay\\anaconda3\\envs\\pytorch_cuda\\lib\\site-packages\\sklearn\\preprocessing\\_encoders.py:868: FutureWarning: `sparse` was renamed to `sparse_output` in version 1.2 and will be removed in 1.4. `sparse_output` is ignored unless you leave `sparse` to its default value.\n",
      "  warnings.warn(\n",
      "C:\\Users\\sanjay\\anaconda3\\envs\\pytorch_cuda\\lib\\site-packages\\sklearn\\preprocessing\\_encoders.py:868: FutureWarning: `sparse` was renamed to `sparse_output` in version 1.2 and will be removed in 1.4. `sparse_output` is ignored unless you leave `sparse` to its default value.\n",
      "  warnings.warn(\n",
      "C:\\Users\\sanjay\\anaconda3\\envs\\pytorch_cuda\\lib\\site-packages\\sklearn\\preprocessing\\_encoders.py:868: FutureWarning: `sparse` was renamed to `sparse_output` in version 1.2 and will be removed in 1.4. `sparse_output` is ignored unless you leave `sparse` to its default value.\n",
      "  warnings.warn(\n",
      "C:\\Users\\sanjay\\anaconda3\\envs\\pytorch_cuda\\lib\\site-packages\\sklearn\\preprocessing\\_encoders.py:868: FutureWarning: `sparse` was renamed to `sparse_output` in version 1.2 and will be removed in 1.4. `sparse_output` is ignored unless you leave `sparse` to its default value.\n",
      "  warnings.warn(\n",
      "C:\\Users\\sanjay\\anaconda3\\envs\\pytorch_cuda\\lib\\site-packages\\sklearn\\preprocessing\\_encoders.py:868: FutureWarning: `sparse` was renamed to `sparse_output` in version 1.2 and will be removed in 1.4. `sparse_output` is ignored unless you leave `sparse` to its default value.\n",
      "  warnings.warn(\n",
      "C:\\Users\\sanjay\\anaconda3\\envs\\pytorch_cuda\\lib\\site-packages\\sklearn\\preprocessing\\_encoders.py:868: FutureWarning: `sparse` was renamed to `sparse_output` in version 1.2 and will be removed in 1.4. `sparse_output` is ignored unless you leave `sparse` to its default value.\n",
      "  warnings.warn(\n",
      "C:\\Users\\sanjay\\anaconda3\\envs\\pytorch_cuda\\lib\\site-packages\\sklearn\\preprocessing\\_encoders.py:868: FutureWarning: `sparse` was renamed to `sparse_output` in version 1.2 and will be removed in 1.4. `sparse_output` is ignored unless you leave `sparse` to its default value.\n",
      "  warnings.warn(\n",
      "C:\\Users\\sanjay\\anaconda3\\envs\\pytorch_cuda\\lib\\site-packages\\sklearn\\preprocessing\\_encoders.py:868: FutureWarning: `sparse` was renamed to `sparse_output` in version 1.2 and will be removed in 1.4. `sparse_output` is ignored unless you leave `sparse` to its default value.\n",
      "  warnings.warn(\n",
      "C:\\Users\\sanjay\\anaconda3\\envs\\pytorch_cuda\\lib\\site-packages\\sklearn\\preprocessing\\_encoders.py:868: FutureWarning: `sparse` was renamed to `sparse_output` in version 1.2 and will be removed in 1.4. `sparse_output` is ignored unless you leave `sparse` to its default value.\n",
      "  warnings.warn(\n"
     ]
    },
    {
     "data": {
      "text/html": [
       "<div>\n",
       "<style scoped>\n",
       "    .dataframe tbody tr th:only-of-type {\n",
       "        vertical-align: middle;\n",
       "    }\n",
       "\n",
       "    .dataframe tbody tr th {\n",
       "        vertical-align: top;\n",
       "    }\n",
       "\n",
       "    .dataframe thead th {\n",
       "        text-align: right;\n",
       "    }\n",
       "</style>\n",
       "<table border=\"1\" class=\"dataframe\">\n",
       "  <thead>\n",
       "    <tr style=\"text-align: right;\">\n",
       "      <th></th>\n",
       "      <th>fit_time</th>\n",
       "      <th>score_time</th>\n",
       "      <th>test_score</th>\n",
       "      <th>train_score</th>\n",
       "    </tr>\n",
       "  </thead>\n",
       "  <tbody>\n",
       "    <tr>\n",
       "      <th>0</th>\n",
       "      <td>0.145145</td>\n",
       "      <td>0.012001</td>\n",
       "      <td>-1.909981e+16</td>\n",
       "      <td>0.925595</td>\n",
       "    </tr>\n",
       "    <tr>\n",
       "      <th>1</th>\n",
       "      <td>0.138000</td>\n",
       "      <td>0.011000</td>\n",
       "      <td>-4.241646e+17</td>\n",
       "      <td>0.925987</td>\n",
       "    </tr>\n",
       "    <tr>\n",
       "      <th>2</th>\n",
       "      <td>0.132000</td>\n",
       "      <td>0.012000</td>\n",
       "      <td>-9.787982e+17</td>\n",
       "      <td>0.930772</td>\n",
       "    </tr>\n",
       "    <tr>\n",
       "      <th>3</th>\n",
       "      <td>0.137002</td>\n",
       "      <td>0.012004</td>\n",
       "      <td>8.685904e-01</td>\n",
       "      <td>0.924401</td>\n",
       "    </tr>\n",
       "    <tr>\n",
       "      <th>4</th>\n",
       "      <td>0.135995</td>\n",
       "      <td>0.011000</td>\n",
       "      <td>-3.614989e+16</td>\n",
       "      <td>0.930455</td>\n",
       "    </tr>\n",
       "    <tr>\n",
       "      <th>5</th>\n",
       "      <td>0.135002</td>\n",
       "      <td>0.015000</td>\n",
       "      <td>-7.891841e+18</td>\n",
       "      <td>0.921917</td>\n",
       "    </tr>\n",
       "    <tr>\n",
       "      <th>6</th>\n",
       "      <td>0.144000</td>\n",
       "      <td>0.010999</td>\n",
       "      <td>8.410984e-01</td>\n",
       "      <td>0.926939</td>\n",
       "    </tr>\n",
       "    <tr>\n",
       "      <th>7</th>\n",
       "      <td>0.135997</td>\n",
       "      <td>0.012004</td>\n",
       "      <td>-3.930159e+16</td>\n",
       "      <td>0.923892</td>\n",
       "    </tr>\n",
       "    <tr>\n",
       "      <th>8</th>\n",
       "      <td>0.145001</td>\n",
       "      <td>0.011000</td>\n",
       "      <td>-3.327886e+17</td>\n",
       "      <td>0.924451</td>\n",
       "    </tr>\n",
       "    <tr>\n",
       "      <th>9</th>\n",
       "      <td>0.135999</td>\n",
       "      <td>0.014000</td>\n",
       "      <td>-1.403822e+19</td>\n",
       "      <td>0.921558</td>\n",
       "    </tr>\n",
       "  </tbody>\n",
       "</table>\n",
       "</div>"
      ],
      "text/plain": [
       "   fit_time  score_time    test_score  train_score\n",
       "0  0.145145    0.012001 -1.909981e+16     0.925595\n",
       "1  0.138000    0.011000 -4.241646e+17     0.925987\n",
       "2  0.132000    0.012000 -9.787982e+17     0.930772\n",
       "3  0.137002    0.012004  8.685904e-01     0.924401\n",
       "4  0.135995    0.011000 -3.614989e+16     0.930455\n",
       "5  0.135002    0.015000 -7.891841e+18     0.921917\n",
       "6  0.144000    0.010999  8.410984e-01     0.926939\n",
       "7  0.135997    0.012004 -3.930159e+16     0.923892\n",
       "8  0.145001    0.011000 -3.327886e+17     0.924451\n",
       "9  0.135999    0.014000 -1.403822e+19     0.921558"
      ]
     },
     "execution_count": 57,
     "metadata": {},
     "output_type": "execute_result"
    }
   ],
   "source": [
    "lr_pipe = make_pipeline(preprocessor, LinearRegression())\n",
    "pd.DataFrame(cross_validate(lr_pipe, X_train, y_train, cv=10, return_train_score=True))"
   ]
  },
  {
   "cell_type": "code",
   "execution_count": 59,
   "id": "ae42f455",
   "metadata": {},
   "outputs": [
    {
     "name": "stderr",
     "output_type": "stream",
     "text": [
      "C:\\Users\\sanjay\\anaconda3\\envs\\pytorch_cuda\\lib\\site-packages\\sklearn\\preprocessing\\_encoders.py:868: FutureWarning: `sparse` was renamed to `sparse_output` in version 1.2 and will be removed in 1.4. `sparse_output` is ignored unless you leave `sparse` to its default value.\n",
      "  warnings.warn(\n"
     ]
    },
    {
     "data": {
      "text/html": [
       "<style>#sk-container-id-1 {color: black;background-color: white;}#sk-container-id-1 pre{padding: 0;}#sk-container-id-1 div.sk-toggleable {background-color: white;}#sk-container-id-1 label.sk-toggleable__label {cursor: pointer;display: block;width: 100%;margin-bottom: 0;padding: 0.3em;box-sizing: border-box;text-align: center;}#sk-container-id-1 label.sk-toggleable__label-arrow:before {content: \"▸\";float: left;margin-right: 0.25em;color: #696969;}#sk-container-id-1 label.sk-toggleable__label-arrow:hover:before {color: black;}#sk-container-id-1 div.sk-estimator:hover label.sk-toggleable__label-arrow:before {color: black;}#sk-container-id-1 div.sk-toggleable__content {max-height: 0;max-width: 0;overflow: hidden;text-align: left;background-color: #f0f8ff;}#sk-container-id-1 div.sk-toggleable__content pre {margin: 0.2em;color: black;border-radius: 0.25em;background-color: #f0f8ff;}#sk-container-id-1 input.sk-toggleable__control:checked~div.sk-toggleable__content {max-height: 200px;max-width: 100%;overflow: auto;}#sk-container-id-1 input.sk-toggleable__control:checked~label.sk-toggleable__label-arrow:before {content: \"▾\";}#sk-container-id-1 div.sk-estimator input.sk-toggleable__control:checked~label.sk-toggleable__label {background-color: #d4ebff;}#sk-container-id-1 div.sk-label input.sk-toggleable__control:checked~label.sk-toggleable__label {background-color: #d4ebff;}#sk-container-id-1 input.sk-hidden--visually {border: 0;clip: rect(1px 1px 1px 1px);clip: rect(1px, 1px, 1px, 1px);height: 1px;margin: -1px;overflow: hidden;padding: 0;position: absolute;width: 1px;}#sk-container-id-1 div.sk-estimator {font-family: monospace;background-color: #f0f8ff;border: 1px dotted black;border-radius: 0.25em;box-sizing: border-box;margin-bottom: 0.5em;}#sk-container-id-1 div.sk-estimator:hover {background-color: #d4ebff;}#sk-container-id-1 div.sk-parallel-item::after {content: \"\";width: 100%;border-bottom: 1px solid gray;flex-grow: 1;}#sk-container-id-1 div.sk-label:hover label.sk-toggleable__label {background-color: #d4ebff;}#sk-container-id-1 div.sk-serial::before {content: \"\";position: absolute;border-left: 1px solid gray;box-sizing: border-box;top: 0;bottom: 0;left: 50%;z-index: 0;}#sk-container-id-1 div.sk-serial {display: flex;flex-direction: column;align-items: center;background-color: white;padding-right: 0.2em;padding-left: 0.2em;position: relative;}#sk-container-id-1 div.sk-item {position: relative;z-index: 1;}#sk-container-id-1 div.sk-parallel {display: flex;align-items: stretch;justify-content: center;background-color: white;position: relative;}#sk-container-id-1 div.sk-item::before, #sk-container-id-1 div.sk-parallel-item::before {content: \"\";position: absolute;border-left: 1px solid gray;box-sizing: border-box;top: 0;bottom: 0;left: 50%;z-index: -1;}#sk-container-id-1 div.sk-parallel-item {display: flex;flex-direction: column;z-index: 1;position: relative;background-color: white;}#sk-container-id-1 div.sk-parallel-item:first-child::after {align-self: flex-end;width: 50%;}#sk-container-id-1 div.sk-parallel-item:last-child::after {align-self: flex-start;width: 50%;}#sk-container-id-1 div.sk-parallel-item:only-child::after {width: 0;}#sk-container-id-1 div.sk-dashed-wrapped {border: 1px dashed gray;margin: 0 0.4em 0.5em 0.4em;box-sizing: border-box;padding-bottom: 0.4em;background-color: white;}#sk-container-id-1 div.sk-label label {font-family: monospace;font-weight: bold;display: inline-block;line-height: 1.2em;}#sk-container-id-1 div.sk-label-container {text-align: center;}#sk-container-id-1 div.sk-container {/* jupyter's `normalize.less` sets `[hidden] { display: none; }` but bootstrap.min.css set `[hidden] { display: none !important; }` so we also need the `!important` here to be able to override the default hidden behavior on the sphinx rendered scikit-learn.org. See: https://github.com/scikit-learn/scikit-learn/issues/21755 */display: inline-block !important;position: relative;}#sk-container-id-1 div.sk-text-repr-fallback {display: none;}</style><div id=\"sk-container-id-1\" class=\"sk-top-container\"><div class=\"sk-text-repr-fallback\"><pre>Pipeline(steps=[(&#x27;columntransformer&#x27;,\n",
       "                 ColumnTransformer(transformers=[(&#x27;drop&#x27;, &#x27;drop&#x27;, [&#x27;Id&#x27;]),\n",
       "                                                 (&#x27;pipeline-1&#x27;,\n",
       "                                                  Pipeline(steps=[(&#x27;simpleimputer&#x27;,\n",
       "                                                                   SimpleImputer(strategy=&#x27;median&#x27;)),\n",
       "                                                                  (&#x27;standardscaler&#x27;,\n",
       "                                                                   StandardScaler())]),\n",
       "                                                  [&#x27;BedroomAbvGr&#x27;,\n",
       "                                                   &#x27;KitchenAbvGr&#x27;,\n",
       "                                                   &#x27;LotFrontage&#x27;, &#x27;LotArea&#x27;,\n",
       "                                                   &#x27;OverallQual&#x27;, &#x27;OverallCond&#x27;,\n",
       "                                                   &#x27;YearBuilt&#x27;, &#x27;YearRemodAdd&#x27;,\n",
       "                                                   &#x27;MasVnrArea&#x27;, &#x27;BsmtFinSF1&#x27;,\n",
       "                                                   &#x27;Bs...\n",
       "                                                   &#x27;RoofStyle&#x27;, &#x27;SaleCondition&#x27;,\n",
       "                                                   &#x27;Street&#x27;, &#x27;Exterior2nd&#x27;,\n",
       "                                                   &#x27;LandSlope&#x27;, &#x27;LotConfig&#x27;,\n",
       "                                                   &#x27;MSSubClass&#x27;, &#x27;Alley&#x27;,\n",
       "                                                   &#x27;RoofMatl&#x27;, &#x27;Foundation&#x27;,\n",
       "                                                   &#x27;Utilities&#x27;, &#x27;MSZoning&#x27;,\n",
       "                                                   &#x27;Condition1&#x27;, &#x27;Condition2&#x27;,\n",
       "                                                   &#x27;Exterior1st&#x27;,\n",
       "                                                   &#x27;Neighborhood&#x27;, &#x27;SaleType&#x27;,\n",
       "                                                   &#x27;MiscFeature&#x27;, &#x27;HouseStyle&#x27;,\n",
       "                                                   &#x27;MasVnrType&#x27;, &#x27;GarageFinish&#x27;,\n",
       "                                                   &#x27;PavedDrive&#x27;, &#x27;Electrical&#x27;,\n",
       "                                                   &#x27;GarageType&#x27;, &#x27;LandContour&#x27;,\n",
       "                                                   &#x27;BldgType&#x27;])])),\n",
       "                (&#x27;linearregression&#x27;, LinearRegression())])</pre><b>In a Jupyter environment, please rerun this cell to show the HTML representation or trust the notebook. <br />On GitHub, the HTML representation is unable to render, please try loading this page with nbviewer.org.</b></div><div class=\"sk-container\" hidden><div class=\"sk-item sk-dashed-wrapped\"><div class=\"sk-label-container\"><div class=\"sk-label sk-toggleable\"><input class=\"sk-toggleable__control sk-hidden--visually\" id=\"sk-estimator-id-1\" type=\"checkbox\" ><label for=\"sk-estimator-id-1\" class=\"sk-toggleable__label sk-toggleable__label-arrow\">Pipeline</label><div class=\"sk-toggleable__content\"><pre>Pipeline(steps=[(&#x27;columntransformer&#x27;,\n",
       "                 ColumnTransformer(transformers=[(&#x27;drop&#x27;, &#x27;drop&#x27;, [&#x27;Id&#x27;]),\n",
       "                                                 (&#x27;pipeline-1&#x27;,\n",
       "                                                  Pipeline(steps=[(&#x27;simpleimputer&#x27;,\n",
       "                                                                   SimpleImputer(strategy=&#x27;median&#x27;)),\n",
       "                                                                  (&#x27;standardscaler&#x27;,\n",
       "                                                                   StandardScaler())]),\n",
       "                                                  [&#x27;BedroomAbvGr&#x27;,\n",
       "                                                   &#x27;KitchenAbvGr&#x27;,\n",
       "                                                   &#x27;LotFrontage&#x27;, &#x27;LotArea&#x27;,\n",
       "                                                   &#x27;OverallQual&#x27;, &#x27;OverallCond&#x27;,\n",
       "                                                   &#x27;YearBuilt&#x27;, &#x27;YearRemodAdd&#x27;,\n",
       "                                                   &#x27;MasVnrArea&#x27;, &#x27;BsmtFinSF1&#x27;,\n",
       "                                                   &#x27;Bs...\n",
       "                                                   &#x27;RoofStyle&#x27;, &#x27;SaleCondition&#x27;,\n",
       "                                                   &#x27;Street&#x27;, &#x27;Exterior2nd&#x27;,\n",
       "                                                   &#x27;LandSlope&#x27;, &#x27;LotConfig&#x27;,\n",
       "                                                   &#x27;MSSubClass&#x27;, &#x27;Alley&#x27;,\n",
       "                                                   &#x27;RoofMatl&#x27;, &#x27;Foundation&#x27;,\n",
       "                                                   &#x27;Utilities&#x27;, &#x27;MSZoning&#x27;,\n",
       "                                                   &#x27;Condition1&#x27;, &#x27;Condition2&#x27;,\n",
       "                                                   &#x27;Exterior1st&#x27;,\n",
       "                                                   &#x27;Neighborhood&#x27;, &#x27;SaleType&#x27;,\n",
       "                                                   &#x27;MiscFeature&#x27;, &#x27;HouseStyle&#x27;,\n",
       "                                                   &#x27;MasVnrType&#x27;, &#x27;GarageFinish&#x27;,\n",
       "                                                   &#x27;PavedDrive&#x27;, &#x27;Electrical&#x27;,\n",
       "                                                   &#x27;GarageType&#x27;, &#x27;LandContour&#x27;,\n",
       "                                                   &#x27;BldgType&#x27;])])),\n",
       "                (&#x27;linearregression&#x27;, LinearRegression())])</pre></div></div></div><div class=\"sk-serial\"><div class=\"sk-item sk-dashed-wrapped\"><div class=\"sk-label-container\"><div class=\"sk-label sk-toggleable\"><input class=\"sk-toggleable__control sk-hidden--visually\" id=\"sk-estimator-id-2\" type=\"checkbox\" ><label for=\"sk-estimator-id-2\" class=\"sk-toggleable__label sk-toggleable__label-arrow\">columntransformer: ColumnTransformer</label><div class=\"sk-toggleable__content\"><pre>ColumnTransformer(transformers=[(&#x27;drop&#x27;, &#x27;drop&#x27;, [&#x27;Id&#x27;]),\n",
       "                                (&#x27;pipeline-1&#x27;,\n",
       "                                 Pipeline(steps=[(&#x27;simpleimputer&#x27;,\n",
       "                                                  SimpleImputer(strategy=&#x27;median&#x27;)),\n",
       "                                                 (&#x27;standardscaler&#x27;,\n",
       "                                                  StandardScaler())]),\n",
       "                                 [&#x27;BedroomAbvGr&#x27;, &#x27;KitchenAbvGr&#x27;, &#x27;LotFrontage&#x27;,\n",
       "                                  &#x27;LotArea&#x27;, &#x27;OverallQual&#x27;, &#x27;OverallCond&#x27;,\n",
       "                                  &#x27;YearBuilt&#x27;, &#x27;YearRemodAdd&#x27;, &#x27;MasVnrArea&#x27;,\n",
       "                                  &#x27;BsmtFinSF1&#x27;, &#x27;BsmtFinSF2&#x27;, &#x27;BsmtUnfSF&#x27;,\n",
       "                                  &#x27;TotalBsmtSF&#x27;, &#x27;...\n",
       "                                 [&#x27;Heating&#x27;, &#x27;CentralAir&#x27;, &#x27;MoSold&#x27;, &#x27;LotShape&#x27;,\n",
       "                                  &#x27;RoofStyle&#x27;, &#x27;SaleCondition&#x27;, &#x27;Street&#x27;,\n",
       "                                  &#x27;Exterior2nd&#x27;, &#x27;LandSlope&#x27;, &#x27;LotConfig&#x27;,\n",
       "                                  &#x27;MSSubClass&#x27;, &#x27;Alley&#x27;, &#x27;RoofMatl&#x27;,\n",
       "                                  &#x27;Foundation&#x27;, &#x27;Utilities&#x27;, &#x27;MSZoning&#x27;,\n",
       "                                  &#x27;Condition1&#x27;, &#x27;Condition2&#x27;, &#x27;Exterior1st&#x27;,\n",
       "                                  &#x27;Neighborhood&#x27;, &#x27;SaleType&#x27;, &#x27;MiscFeature&#x27;,\n",
       "                                  &#x27;HouseStyle&#x27;, &#x27;MasVnrType&#x27;, &#x27;GarageFinish&#x27;,\n",
       "                                  &#x27;PavedDrive&#x27;, &#x27;Electrical&#x27;, &#x27;GarageType&#x27;,\n",
       "                                  &#x27;LandContour&#x27;, &#x27;BldgType&#x27;])])</pre></div></div></div><div class=\"sk-parallel\"><div class=\"sk-parallel-item\"><div class=\"sk-item\"><div class=\"sk-label-container\"><div class=\"sk-label sk-toggleable\"><input class=\"sk-toggleable__control sk-hidden--visually\" id=\"sk-estimator-id-3\" type=\"checkbox\" ><label for=\"sk-estimator-id-3\" class=\"sk-toggleable__label sk-toggleable__label-arrow\">drop</label><div class=\"sk-toggleable__content\"><pre>[&#x27;Id&#x27;]</pre></div></div></div><div class=\"sk-serial\"><div class=\"sk-item\"><div class=\"sk-estimator sk-toggleable\"><input class=\"sk-toggleable__control sk-hidden--visually\" id=\"sk-estimator-id-4\" type=\"checkbox\" ><label for=\"sk-estimator-id-4\" class=\"sk-toggleable__label sk-toggleable__label-arrow\">drop</label><div class=\"sk-toggleable__content\"><pre>drop</pre></div></div></div></div></div></div><div class=\"sk-parallel-item\"><div class=\"sk-item\"><div class=\"sk-label-container\"><div class=\"sk-label sk-toggleable\"><input class=\"sk-toggleable__control sk-hidden--visually\" id=\"sk-estimator-id-5\" type=\"checkbox\" ><label for=\"sk-estimator-id-5\" class=\"sk-toggleable__label sk-toggleable__label-arrow\">pipeline-1</label><div class=\"sk-toggleable__content\"><pre>[&#x27;BedroomAbvGr&#x27;, &#x27;KitchenAbvGr&#x27;, &#x27;LotFrontage&#x27;, &#x27;LotArea&#x27;, &#x27;OverallQual&#x27;, &#x27;OverallCond&#x27;, &#x27;YearBuilt&#x27;, &#x27;YearRemodAdd&#x27;, &#x27;MasVnrArea&#x27;, &#x27;BsmtFinSF1&#x27;, &#x27;BsmtFinSF2&#x27;, &#x27;BsmtUnfSF&#x27;, &#x27;TotalBsmtSF&#x27;, &#x27;1stFlrSF&#x27;, &#x27;2ndFlrSF&#x27;, &#x27;LowQualFinSF&#x27;, &#x27;GrLivArea&#x27;, &#x27;BsmtFullBath&#x27;, &#x27;BsmtHalfBath&#x27;, &#x27;FullBath&#x27;, &#x27;HalfBath&#x27;, &#x27;TotRmsAbvGrd&#x27;, &#x27;Fireplaces&#x27;, &#x27;GarageYrBlt&#x27;, &#x27;GarageCars&#x27;, &#x27;GarageArea&#x27;, &#x27;WoodDeckSF&#x27;, &#x27;OpenPorchSF&#x27;, &#x27;EnclosedPorch&#x27;, &#x27;3SsnPorch&#x27;, &#x27;ScreenPorch&#x27;, &#x27;PoolArea&#x27;, &#x27;MiscVal&#x27;, &#x27;YrSold&#x27;]</pre></div></div></div><div class=\"sk-serial\"><div class=\"sk-item\"><div class=\"sk-serial\"><div class=\"sk-item\"><div class=\"sk-estimator sk-toggleable\"><input class=\"sk-toggleable__control sk-hidden--visually\" id=\"sk-estimator-id-6\" type=\"checkbox\" ><label for=\"sk-estimator-id-6\" class=\"sk-toggleable__label sk-toggleable__label-arrow\">SimpleImputer</label><div class=\"sk-toggleable__content\"><pre>SimpleImputer(strategy=&#x27;median&#x27;)</pre></div></div></div><div class=\"sk-item\"><div class=\"sk-estimator sk-toggleable\"><input class=\"sk-toggleable__control sk-hidden--visually\" id=\"sk-estimator-id-7\" type=\"checkbox\" ><label for=\"sk-estimator-id-7\" class=\"sk-toggleable__label sk-toggleable__label-arrow\">StandardScaler</label><div class=\"sk-toggleable__content\"><pre>StandardScaler()</pre></div></div></div></div></div></div></div></div><div class=\"sk-parallel-item\"><div class=\"sk-item\"><div class=\"sk-label-container\"><div class=\"sk-label sk-toggleable\"><input class=\"sk-toggleable__control sk-hidden--visually\" id=\"sk-estimator-id-8\" type=\"checkbox\" ><label for=\"sk-estimator-id-8\" class=\"sk-toggleable__label sk-toggleable__label-arrow\">pipeline-2</label><div class=\"sk-toggleable__content\"><pre>[&#x27;ExterQual&#x27;, &#x27;ExterCond&#x27;, &#x27;BsmtQual&#x27;, &#x27;BsmtCond&#x27;, &#x27;HeatingQC&#x27;, &#x27;KitchenQual&#x27;, &#x27;FireplaceQu&#x27;, &#x27;GarageQual&#x27;, &#x27;GarageCond&#x27;, &#x27;PoolQC&#x27;]</pre></div></div></div><div class=\"sk-serial\"><div class=\"sk-item\"><div class=\"sk-serial\"><div class=\"sk-item\"><div class=\"sk-estimator sk-toggleable\"><input class=\"sk-toggleable__control sk-hidden--visually\" id=\"sk-estimator-id-9\" type=\"checkbox\" ><label for=\"sk-estimator-id-9\" class=\"sk-toggleable__label sk-toggleable__label-arrow\">SimpleImputer</label><div class=\"sk-toggleable__content\"><pre>SimpleImputer(strategy=&#x27;most_frequent&#x27;)</pre></div></div></div><div class=\"sk-item\"><div class=\"sk-estimator sk-toggleable\"><input class=\"sk-toggleable__control sk-hidden--visually\" id=\"sk-estimator-id-10\" type=\"checkbox\" ><label for=\"sk-estimator-id-10\" class=\"sk-toggleable__label sk-toggleable__label-arrow\">OrdinalEncoder</label><div class=\"sk-toggleable__content\"><pre>OrdinalEncoder(categories=[[&#x27;Po&#x27;, &#x27;Fa&#x27;, &#x27;TA&#x27;, &#x27;Gd&#x27;, &#x27;Ex&#x27;],\n",
       "                           [&#x27;Po&#x27;, &#x27;Fa&#x27;, &#x27;TA&#x27;, &#x27;Gd&#x27;, &#x27;Ex&#x27;],\n",
       "                           [&#x27;Po&#x27;, &#x27;Fa&#x27;, &#x27;TA&#x27;, &#x27;Gd&#x27;, &#x27;Ex&#x27;],\n",
       "                           [&#x27;Po&#x27;, &#x27;Fa&#x27;, &#x27;TA&#x27;, &#x27;Gd&#x27;, &#x27;Ex&#x27;],\n",
       "                           [&#x27;Po&#x27;, &#x27;Fa&#x27;, &#x27;TA&#x27;, &#x27;Gd&#x27;, &#x27;Ex&#x27;],\n",
       "                           [&#x27;Po&#x27;, &#x27;Fa&#x27;, &#x27;TA&#x27;, &#x27;Gd&#x27;, &#x27;Ex&#x27;],\n",
       "                           [&#x27;Po&#x27;, &#x27;Fa&#x27;, &#x27;TA&#x27;, &#x27;Gd&#x27;, &#x27;Ex&#x27;],\n",
       "                           [&#x27;Po&#x27;, &#x27;Fa&#x27;, &#x27;TA&#x27;, &#x27;Gd&#x27;, &#x27;Ex&#x27;],\n",
       "                           [&#x27;Po&#x27;, &#x27;Fa&#x27;, &#x27;TA&#x27;, &#x27;Gd&#x27;, &#x27;Ex&#x27;],\n",
       "                           [&#x27;Po&#x27;, &#x27;Fa&#x27;, &#x27;TA&#x27;, &#x27;Gd&#x27;, &#x27;Ex&#x27;]])</pre></div></div></div></div></div></div></div></div><div class=\"sk-parallel-item\"><div class=\"sk-item\"><div class=\"sk-label-container\"><div class=\"sk-label sk-toggleable\"><input class=\"sk-toggleable__control sk-hidden--visually\" id=\"sk-estimator-id-11\" type=\"checkbox\" ><label for=\"sk-estimator-id-11\" class=\"sk-toggleable__label sk-toggleable__label-arrow\">pipeline-3</label><div class=\"sk-toggleable__content\"><pre>[&#x27;BsmtExposure&#x27;, &#x27;BsmtFinType1&#x27;, &#x27;BsmtFinType2&#x27;, &#x27;Functional&#x27;, &#x27;Fence&#x27;]</pre></div></div></div><div class=\"sk-serial\"><div class=\"sk-item\"><div class=\"sk-serial\"><div class=\"sk-item\"><div class=\"sk-estimator sk-toggleable\"><input class=\"sk-toggleable__control sk-hidden--visually\" id=\"sk-estimator-id-12\" type=\"checkbox\" ><label for=\"sk-estimator-id-12\" class=\"sk-toggleable__label sk-toggleable__label-arrow\">SimpleImputer</label><div class=\"sk-toggleable__content\"><pre>SimpleImputer(strategy=&#x27;most_frequent&#x27;)</pre></div></div></div><div class=\"sk-item\"><div class=\"sk-estimator sk-toggleable\"><input class=\"sk-toggleable__control sk-hidden--visually\" id=\"sk-estimator-id-13\" type=\"checkbox\" ><label for=\"sk-estimator-id-13\" class=\"sk-toggleable__label sk-toggleable__label-arrow\">OrdinalEncoder</label><div class=\"sk-toggleable__content\"><pre>OrdinalEncoder(categories=[[&#x27;NA&#x27;, &#x27;No&#x27;, &#x27;Mn&#x27;, &#x27;Av&#x27;, &#x27;Gd&#x27;],\n",
       "                           [&#x27;NA&#x27;, &#x27;Unf&#x27;, &#x27;LwQ&#x27;, &#x27;Rec&#x27;, &#x27;BLQ&#x27;, &#x27;ALQ&#x27;, &#x27;GLQ&#x27;],\n",
       "                           [&#x27;NA&#x27;, &#x27;Unf&#x27;, &#x27;LwQ&#x27;, &#x27;Rec&#x27;, &#x27;BLQ&#x27;, &#x27;ALQ&#x27;, &#x27;GLQ&#x27;],\n",
       "                           [&#x27;Sal&#x27;, &#x27;Sev&#x27;, &#x27;Maj2&#x27;, &#x27;Maj1&#x27;, &#x27;Mod&#x27;, &#x27;Min2&#x27;, &#x27;Min1&#x27;,\n",
       "                            &#x27;Typ&#x27;],\n",
       "                           [&#x27;NA&#x27;, &#x27;MnWw&#x27;, &#x27;GdWo&#x27;, &#x27;MnPrv&#x27;, &#x27;GdPrv&#x27;]])</pre></div></div></div></div></div></div></div></div><div class=\"sk-parallel-item\"><div class=\"sk-item\"><div class=\"sk-label-container\"><div class=\"sk-label sk-toggleable\"><input class=\"sk-toggleable__control sk-hidden--visually\" id=\"sk-estimator-id-14\" type=\"checkbox\" ><label for=\"sk-estimator-id-14\" class=\"sk-toggleable__label sk-toggleable__label-arrow\">pipeline-4</label><div class=\"sk-toggleable__content\"><pre>[&#x27;Heating&#x27;, &#x27;CentralAir&#x27;, &#x27;MoSold&#x27;, &#x27;LotShape&#x27;, &#x27;RoofStyle&#x27;, &#x27;SaleCondition&#x27;, &#x27;Street&#x27;, &#x27;Exterior2nd&#x27;, &#x27;LandSlope&#x27;, &#x27;LotConfig&#x27;, &#x27;MSSubClass&#x27;, &#x27;Alley&#x27;, &#x27;RoofMatl&#x27;, &#x27;Foundation&#x27;, &#x27;Utilities&#x27;, &#x27;MSZoning&#x27;, &#x27;Condition1&#x27;, &#x27;Condition2&#x27;, &#x27;Exterior1st&#x27;, &#x27;Neighborhood&#x27;, &#x27;SaleType&#x27;, &#x27;MiscFeature&#x27;, &#x27;HouseStyle&#x27;, &#x27;MasVnrType&#x27;, &#x27;GarageFinish&#x27;, &#x27;PavedDrive&#x27;, &#x27;Electrical&#x27;, &#x27;GarageType&#x27;, &#x27;LandContour&#x27;, &#x27;BldgType&#x27;]</pre></div></div></div><div class=\"sk-serial\"><div class=\"sk-item\"><div class=\"sk-serial\"><div class=\"sk-item\"><div class=\"sk-estimator sk-toggleable\"><input class=\"sk-toggleable__control sk-hidden--visually\" id=\"sk-estimator-id-15\" type=\"checkbox\" ><label for=\"sk-estimator-id-15\" class=\"sk-toggleable__label sk-toggleable__label-arrow\">SimpleImputer</label><div class=\"sk-toggleable__content\"><pre>SimpleImputer(fill_value=&#x27;missing&#x27;, strategy=&#x27;constant&#x27;)</pre></div></div></div><div class=\"sk-item\"><div class=\"sk-estimator sk-toggleable\"><input class=\"sk-toggleable__control sk-hidden--visually\" id=\"sk-estimator-id-16\" type=\"checkbox\" ><label for=\"sk-estimator-id-16\" class=\"sk-toggleable__label sk-toggleable__label-arrow\">OneHotEncoder</label><div class=\"sk-toggleable__content\"><pre>OneHotEncoder(handle_unknown=&#x27;ignore&#x27;, sparse=False)</pre></div></div></div></div></div></div></div></div></div></div><div class=\"sk-item\"><div class=\"sk-estimator sk-toggleable\"><input class=\"sk-toggleable__control sk-hidden--visually\" id=\"sk-estimator-id-17\" type=\"checkbox\" ><label for=\"sk-estimator-id-17\" class=\"sk-toggleable__label sk-toggleable__label-arrow\">LinearRegression</label><div class=\"sk-toggleable__content\"><pre>LinearRegression()</pre></div></div></div></div></div></div></div>"
      ],
      "text/plain": [
       "Pipeline(steps=[('columntransformer',\n",
       "                 ColumnTransformer(transformers=[('drop', 'drop', ['Id']),\n",
       "                                                 ('pipeline-1',\n",
       "                                                  Pipeline(steps=[('simpleimputer',\n",
       "                                                                   SimpleImputer(strategy='median')),\n",
       "                                                                  ('standardscaler',\n",
       "                                                                   StandardScaler())]),\n",
       "                                                  ['BedroomAbvGr',\n",
       "                                                   'KitchenAbvGr',\n",
       "                                                   'LotFrontage', 'LotArea',\n",
       "                                                   'OverallQual', 'OverallCond',\n",
       "                                                   'YearBuilt', 'YearRemodAdd',\n",
       "                                                   'MasVnrArea', 'BsmtFinSF1',\n",
       "                                                   'Bs...\n",
       "                                                   'RoofStyle', 'SaleCondition',\n",
       "                                                   'Street', 'Exterior2nd',\n",
       "                                                   'LandSlope', 'LotConfig',\n",
       "                                                   'MSSubClass', 'Alley',\n",
       "                                                   'RoofMatl', 'Foundation',\n",
       "                                                   'Utilities', 'MSZoning',\n",
       "                                                   'Condition1', 'Condition2',\n",
       "                                                   'Exterior1st',\n",
       "                                                   'Neighborhood', 'SaleType',\n",
       "                                                   'MiscFeature', 'HouseStyle',\n",
       "                                                   'MasVnrType', 'GarageFinish',\n",
       "                                                   'PavedDrive', 'Electrical',\n",
       "                                                   'GarageType', 'LandContour',\n",
       "                                                   'BldgType'])])),\n",
       "                ('linearregression', LinearRegression())])"
      ]
     },
     "execution_count": 59,
     "metadata": {},
     "output_type": "execute_result"
    }
   ],
   "source": [
    "lr_pipe.fit(X_train, y_train)"
   ]
  },
  {
   "cell_type": "code",
   "execution_count": 60,
   "id": "6c5dab0d",
   "metadata": {},
   "outputs": [
    {
     "data": {
      "text/plain": [
       "array([208052., 166204., 194596., ..., 265618., 120056., 132812.])"
      ]
     },
     "execution_count": 60,
     "metadata": {},
     "output_type": "execute_result"
    }
   ],
   "source": [
    "lr_preds=lr_pipe.predict(X_train)\n",
    "lr_preds"
   ]
  },
  {
   "cell_type": "code",
   "execution_count": 61,
   "id": "639e7ba4",
   "metadata": {},
   "outputs": [
    {
     "data": {
      "text/plain": [
       "302     False\n",
       "767     False\n",
       "429     False\n",
       "1139    False\n",
       "558     False\n",
       "        ...  \n",
       "1041    False\n",
       "1122    False\n",
       "1346    False\n",
       "1406    False\n",
       "1389    False\n",
       "Name: SalePrice, Length: 1314, dtype: bool"
      ]
     },
     "execution_count": 61,
     "metadata": {},
     "output_type": "execute_result"
    }
   ],
   "source": [
    "lr_pipe.predict(X_train) == y_train"
   ]
  },
  {
   "cell_type": "code",
   "execution_count": 62,
   "id": "e672683c",
   "metadata": {},
   "outputs": [
    {
     "data": {
      "text/plain": [
       "array([205000, 160000, 175000, ..., 262500, 133000, 131000], dtype=int64)"
      ]
     },
     "execution_count": 62,
     "metadata": {},
     "output_type": "execute_result"
    }
   ],
   "source": [
    "y_train.values"
   ]
  },
  {
   "cell_type": "code",
   "execution_count": null,
   "id": "02decdc4",
   "metadata": {},
   "outputs": [],
   "source": []
  },
  {
   "cell_type": "markdown",
   "id": "7f4cded6",
   "metadata": {},
   "source": [
    "We need a score that reflects how right/wrong each prediction is."
   ]
  },
  {
   "cell_type": "markdown",
   "id": "3a2b8bb1",
   "metadata": {},
   "source": [
    "Here you have a number of popular scoring functions for regression. We are going to look at some common metrics: \n",
    "\n",
    "- mean squared error (MSE)\n",
    "- $R^2$\n",
    "- root mean squared error (RMSE)\n",
    "- MAPE\n",
    "\n",
    "See [sklearn documentation](https://scikit-learn.org/stable/modules/model_evaluation.html#regression-metrics) for more details. "
   ]
  },
  {
   "cell_type": "code",
   "execution_count": null,
   "id": "92dd927e",
   "metadata": {},
   "outputs": [],
   "source": []
  },
  {
   "cell_type": "markdown",
   "id": "1587ebe7",
   "metadata": {},
   "source": [
    "### Mean squared error (MSE)\n",
    "\n",
    "- A common metric is mean squared error:"
   ]
  },
  {
   "cell_type": "code",
   "execution_count": null,
   "id": "1e23f9b7",
   "metadata": {},
   "outputs": [],
   "source": []
  },
  {
   "cell_type": "code",
   "execution_count": 63,
   "id": "65f02d5b",
   "metadata": {},
   "outputs": [],
   "source": [
    "preds = lr_pipe.predict(X_train)"
   ]
  },
  {
   "cell_type": "code",
   "execution_count": 64,
   "id": "d9cb8adb",
   "metadata": {},
   "outputs": [
    {
     "data": {
      "text/plain": [
       "485633899.21156776"
      ]
     },
     "execution_count": 64,
     "metadata": {},
     "output_type": "execute_result"
    }
   ],
   "source": [
    "np.mean((y_train - preds) ** 2)"
   ]
  },
  {
   "cell_type": "markdown",
   "id": "d1d0d9d1",
   "metadata": {},
   "source": [
    "Perfect predictions would have MSE=0."
   ]
  },
  {
   "cell_type": "code",
   "execution_count": 65,
   "id": "e175bd95",
   "metadata": {},
   "outputs": [
    {
     "data": {
      "text/plain": [
       "0.0"
      ]
     },
     "execution_count": 65,
     "metadata": {},
     "output_type": "execute_result"
    }
   ],
   "source": [
    "np.mean((y_train - y_train) ** 2)"
   ]
  },
  {
   "cell_type": "code",
   "execution_count": null,
   "id": "28956234",
   "metadata": {},
   "outputs": [],
   "source": []
  },
  {
   "cell_type": "markdown",
   "id": "a5ba5b06",
   "metadata": {},
   "source": [
    "This is also implemented in sklearn:"
   ]
  },
  {
   "cell_type": "code",
   "execution_count": 66,
   "id": "121b8365",
   "metadata": {},
   "outputs": [
    {
     "data": {
      "text/plain": [
       "485633899.21156776"
      ]
     },
     "execution_count": 66,
     "metadata": {},
     "output_type": "execute_result"
    }
   ],
   "source": [
    "from sklearn.metrics import mean_squared_error\n",
    "\n",
    "mean_squared_error(y_train, preds)"
   ]
  },
  {
   "cell_type": "code",
   "execution_count": null,
   "id": "14928a42",
   "metadata": {},
   "outputs": [],
   "source": []
  },
  {
   "cell_type": "markdown",
   "id": "12eac24a",
   "metadata": {},
   "source": [
    "- MSE looks huge and unreasonable. \n",
    "- Is this score good or bad?"
   ]
  },
  {
   "cell_type": "markdown",
   "id": "ff7e379f",
   "metadata": {},
   "source": [
    "- Unlike classification, with regression **our target has units**. \n",
    "- The target is in dollars, the mean squared error is in $dollars^2$ \n",
    "- The score also depends on the scale of the targets. \n",
    "- If we were working in cents instead of dollars, our MSE would be $10,000 \\times (100^2$) higher!"
   ]
  },
  {
   "cell_type": "code",
   "execution_count": null,
   "id": "c2fd827f",
   "metadata": {},
   "outputs": [],
   "source": []
  },
  {
   "cell_type": "code",
   "execution_count": 67,
   "id": "9e11e925",
   "metadata": {},
   "outputs": [
    {
     "data": {
      "text/plain": [
       "4856338992115.678"
      ]
     },
     "execution_count": 67,
     "metadata": {},
     "output_type": "execute_result"
    }
   ],
   "source": [
    "np.mean((y_train * 100 - preds * 100) ** 2)"
   ]
  },
  {
   "cell_type": "code",
   "execution_count": null,
   "id": "764b581f",
   "metadata": {},
   "outputs": [],
   "source": []
  },
  {
   "cell_type": "markdown",
   "id": "2e065ce5",
   "metadata": {},
   "source": [
    "### Root mean squared error or RMSE\n",
    "\n",
    "- The MSE above is in $dollars^2$.\n",
    "- A more relatable metric would be the root mean squared error, or RMSE"
   ]
  },
  {
   "cell_type": "code",
   "execution_count": null,
   "id": "f18b8532",
   "metadata": {},
   "outputs": [],
   "source": []
  },
  {
   "cell_type": "code",
   "execution_count": 69,
   "id": "efa59892",
   "metadata": {},
   "outputs": [
    {
     "data": {
      "text/plain": [
       "22037.102786245923"
      ]
     },
     "execution_count": 69,
     "metadata": {},
     "output_type": "execute_result"
    }
   ],
   "source": [
    "np.sqrt(mean_squared_error(y_train, lr_pipe.predict(X_train)))"
   ]
  },
  {
   "cell_type": "code",
   "execution_count": null,
   "id": "fb0ecedc",
   "metadata": {},
   "outputs": [],
   "source": []
  },
  {
   "cell_type": "markdown",
   "id": "3e3db024",
   "metadata": {},
   "source": [
    "- Error of \\$22,000 makes more sense.\n",
    "- Can we dig deeper?"
   ]
  },
  {
   "cell_type": "code",
   "execution_count": null,
   "id": "46ff205e",
   "metadata": {},
   "outputs": [],
   "source": []
  },
  {
   "cell_type": "code",
   "execution_count": 71,
   "id": "2d843309",
   "metadata": {},
   "outputs": [
    {
     "data": {
      "image/png": "[encoded data removed]",
      "text/plain": [
       "<Figure size 640x480 with 1 Axes>"
      ]
     },
     "metadata": {},
     "output_type": "display_data"
    }
   ],
   "source": [
    "plt.scatter(y_train, lr_pipe.predict(X_train), alpha=0.3)\n",
    "grid = np.linspace(y_train.min(), y_train.max(), 1000)\n",
    "plt.plot(grid, grid, \"--k\")\n",
    "plt.xlabel(\"true price\")\n",
    "plt.ylabel(\"predicte price\");"
   ]
  },
  {
   "cell_type": "markdown",
   "id": "049cc46d",
   "metadata": {},
   "source": [
    "- Here we can see a few cases where our prediction is way off.\n",
    "- Is there something weird about those houses, perhaps? Outliers? \n",
    "- Under the line means we're under-prediction, over the line means we're over-predicting."
   ]
  },
  {
   "cell_type": "code",
   "execution_count": null,
   "id": "211b3185",
   "metadata": {},
   "outputs": [],
   "source": []
  },
  {
   "cell_type": "markdown",
   "id": "7a2b7181",
   "metadata": {},
   "source": [
    "### $R^2$ (not in detail)\n",
    "\n",
    "A common score is the $R^2$, AKA Coefficient of determination\n",
    "\n",
    "- This is the score that `sklearn` uses by default when you call score():\n",
    "- You can [read about it](https://en.wikipedia.org/wiki/Coefficient_of_determination) if interested.\n",
    "- Intuition: similar to mean squared error, but flipped (higher is better), and normalized so the max is 1.\n",
    "- Is a statistical measure that represents the goodness of fit of a regression model.\n",
    "- 1 when the model perfectly fits the data and there is no difference between the predicted value and actual value."
   ]
  },
  {
   "cell_type": "code",
   "execution_count": null,
   "id": "139fd6a5",
   "metadata": {},
   "outputs": [],
   "source": []
  },
  {
   "cell_type": "markdown",
   "id": "b80513c3",
   "metadata": {},
   "source": [
    "$$R^2(y, \\hat{y}) = 1 - \\frac{\\sum_{i=1}^n (y_i - \\hat{y_i})^2}{\\sum_{i=1}^n (y_i - \\bar{y})^2}$$"
   ]
  },
  {
   "cell_type": "code",
   "execution_count": null,
   "id": "26b5b8c8",
   "metadata": {},
   "outputs": [],
   "source": []
  },
  {
   "cell_type": "markdown",
   "id": "26d5528f",
   "metadata": {},
   "source": [
    "Key points:\n",
    "- The maximum is 1 for perfect predictions\n",
    "- Negative values are very bad: \"worse than DummyRegressor\" (very bad)\n"
   ]
  },
  {
   "cell_type": "code",
   "execution_count": null,
   "id": "78e4121b",
   "metadata": {},
   "outputs": [],
   "source": []
  },
  {
   "cell_type": "markdown",
   "id": "4d98502d",
   "metadata": {},
   "source": [
    "(optional) Warning: MSE is \"reversible\" but $R^2$ is not:"
   ]
  },
  {
   "cell_type": "code",
   "execution_count": null,
   "id": "97c09b43",
   "metadata": {},
   "outputs": [],
   "source": []
  },
  {
   "cell_type": "code",
   "execution_count": 72,
   "id": "fbb959ec",
   "metadata": {},
   "outputs": [
    {
     "data": {
      "text/plain": [
       "485633899.21156776"
      ]
     },
     "execution_count": 72,
     "metadata": {},
     "output_type": "execute_result"
    }
   ],
   "source": [
    "mean_squared_error(y_train, preds)"
   ]
  },
  {
   "cell_type": "code",
   "execution_count": 73,
   "id": "4d13a213",
   "metadata": {},
   "outputs": [
    {
     "data": {
      "text/plain": [
       "485633899.21156776"
      ]
     },
     "execution_count": 73,
     "metadata": {},
     "output_type": "execute_result"
    }
   ],
   "source": [
    "mean_squared_error(preds, y_train)"
   ]
  },
  {
   "cell_type": "code",
   "execution_count": null,
   "id": "6b7bc70f",
   "metadata": {},
   "outputs": [],
   "source": []
  },
  {
   "cell_type": "code",
   "execution_count": 77,
   "id": "205d9d66",
   "metadata": {},
   "outputs": [
    {
     "data": {
      "text/plain": [
       "0.9222085407989993"
      ]
     },
     "execution_count": 77,
     "metadata": {},
     "output_type": "execute_result"
    }
   ],
   "source": [
    "r2_score(y_train, preds)"
   ]
  },
  {
   "cell_type": "code",
   "execution_count": 76,
   "id": "b8da47a9",
   "metadata": {},
   "outputs": [
    {
     "data": {
      "text/plain": [
       "0.9156801484036222"
      ]
     },
     "execution_count": 76,
     "metadata": {},
     "output_type": "execute_result"
    }
   ],
   "source": [
    "r2_score(preds, y_train)"
   ]
  },
  {
   "cell_type": "markdown",
   "id": "4a739fa1",
   "metadata": {},
   "source": [
    "- When you call `fit` it minimizes MSE / maximizes $R^2$ (or something like that) by default.\n",
    "- Just like in classification, this isn't always what you want!!"
   ]
  },
  {
   "cell_type": "code",
   "execution_count": null,
   "id": "0b39d946",
   "metadata": {},
   "outputs": [],
   "source": []
  },
  {
   "cell_type": "markdown",
   "id": "3a8d17ad",
   "metadata": {},
   "source": [
    "### MAPE (Mean absolute percentage error)\n",
    "\n",
    "- We got an RMSE of ~$22,000 before. \n",
    "\n",
    "Question: Is an error of \\$22,000 acceptable?"
   ]
  },
  {
   "cell_type": "code",
   "execution_count": null,
   "id": "665d6304",
   "metadata": {},
   "outputs": [],
   "source": []
  },
  {
   "cell_type": "code",
   "execution_count": 78,
   "id": "f65a304d",
   "metadata": {},
   "outputs": [
    {
     "data": {
      "text/plain": [
       "22037.102786245923"
      ]
     },
     "execution_count": 78,
     "metadata": {},
     "output_type": "execute_result"
    }
   ],
   "source": [
    "np.sqrt(mean_squared_error(y_train, lr_pipe.predict(X_train)))"
   ]
  },
  {
   "cell_type": "code",
   "execution_count": null,
   "id": "e2ee7678",
   "metadata": {},
   "outputs": [],
   "source": []
  },
  {
   "cell_type": "markdown",
   "id": "159582b5",
   "metadata": {},
   "source": [
    "- For a house worth \\$600k, it seems reasonable! That's 3.5% error.\n",
    "- For a house worth \\$60k, that is terrible. It's 35% error.\n",
    "\n",
    "We have both of these cases in our dataset."
   ]
  },
  {
   "cell_type": "code",
   "execution_count": null,
   "id": "efc9bc0c",
   "metadata": {},
   "outputs": [],
   "source": []
  },
  {
   "cell_type": "code",
   "execution_count": 79,
   "id": "4506c90d",
   "metadata": {},
   "outputs": [
    {
     "data": {
      "image/png": "[encoded data removed]",
      "text/plain": [
       "<Figure size 640x480 with 1 Axes>"
      ]
     },
     "metadata": {},
     "output_type": "display_data"
    }
   ],
   "source": [
    "plt.hist(y_train, bins=100);"
   ]
  },
  {
   "cell_type": "code",
   "execution_count": null,
   "id": "abf8eb0e",
   "metadata": {},
   "outputs": [],
   "source": []
  },
  {
   "cell_type": "markdown",
   "id": "e31a5b71",
   "metadata": {},
   "source": [
    "How about looking at percent error? "
   ]
  },
  {
   "cell_type": "code",
   "execution_count": null,
   "id": "5bac8691",
   "metadata": {},
   "outputs": [],
   "source": []
  },
  {
   "cell_type": "code",
   "execution_count": 81,
   "id": "809dc950",
   "metadata": {},
   "outputs": [
    {
     "data": {
      "text/plain": [
       "302      1.488780\n",
       "767      3.877500\n",
       "429     11.197714\n",
       "1139   -18.605556\n",
       "558     13.728000\n",
       "          ...    \n",
       "1041    -2.776879\n",
       "1122   -27.650000\n",
       "1346     1.187810\n",
       "1406    -9.732331\n",
       "1389     1.383206\n",
       "Name: SalePrice, Length: 1314, dtype: float64"
      ]
     },
     "execution_count": 81,
     "metadata": {},
     "output_type": "execute_result"
    }
   ],
   "source": [
    "pred_train = lr_pipe.predict(X_train)\n",
    "percent_errors = (pred_train - y_train) / y_train * 100.0\n",
    "percent_errors"
   ]
  },
  {
   "cell_type": "code",
   "execution_count": null,
   "id": "269bec5c",
   "metadata": {},
   "outputs": [],
   "source": []
  },
  {
   "cell_type": "markdown",
   "id": "03afb59b",
   "metadata": {},
   "source": [
    "These are both positive (predict too high) and negative (predict too low)."
   ]
  },
  {
   "cell_type": "markdown",
   "id": "fb392238",
   "metadata": {},
   "source": [
    "We can look at the absolute percent error:"
   ]
  },
  {
   "cell_type": "code",
   "execution_count": 82,
   "id": "a47c2564",
   "metadata": {},
   "outputs": [
    {
     "data": {
      "text/plain": [
       "302      1.488780\n",
       "767      3.877500\n",
       "429     11.197714\n",
       "1139    18.605556\n",
       "558     13.728000\n",
       "          ...    \n",
       "1041     2.776879\n",
       "1122    27.650000\n",
       "1346     1.187810\n",
       "1406     9.732331\n",
       "1389     1.383206\n",
       "Name: SalePrice, Length: 1314, dtype: float64"
      ]
     },
     "execution_count": 82,
     "metadata": {},
     "output_type": "execute_result"
    }
   ],
   "source": [
    "np.abs(percent_errors)"
   ]
  },
  {
   "cell_type": "code",
   "execution_count": null,
   "id": "09ae30bf",
   "metadata": {},
   "outputs": [],
   "source": []
  },
  {
   "cell_type": "markdown",
   "id": "e1465cca",
   "metadata": {},
   "source": [
    "And, like MSE, we can take the average over examples. This is called mean absolute percent error (MAPE)."
   ]
  },
  {
   "cell_type": "code",
   "execution_count": 83,
   "id": "4ce6a4f4",
   "metadata": {},
   "outputs": [],
   "source": [
    "def my_mape(true, pred):\n",
    "    return np.mean(np.abs((pred - true) / true))"
   ]
  },
  {
   "cell_type": "code",
   "execution_count": 84,
   "id": "731d0825",
   "metadata": {},
   "outputs": [
    {
     "data": {
      "text/plain": [
       "0.0885614397286022"
      ]
     },
     "execution_count": 84,
     "metadata": {},
     "output_type": "execute_result"
    }
   ],
   "source": [
    "my_mape(y_train, pred_train)"
   ]
  },
  {
   "cell_type": "markdown",
   "id": "34a90ec3",
   "metadata": {},
   "source": [
    "Let's use `sklearn` to calculate MAPE. "
   ]
  },
  {
   "cell_type": "code",
   "execution_count": null,
   "id": "8eb249c9",
   "metadata": {},
   "outputs": [],
   "source": []
  },
  {
   "cell_type": "code",
   "execution_count": 85,
   "id": "0776f64c",
   "metadata": {},
   "outputs": [],
   "source": [
    "from sklearn.metrics import mean_absolute_percentage_error"
   ]
  },
  {
   "cell_type": "code",
   "execution_count": 86,
   "id": "01c5f09e",
   "metadata": {},
   "outputs": [
    {
     "data": {
      "text/plain": [
       "0.0885614397286022"
      ]
     },
     "execution_count": 86,
     "metadata": {},
     "output_type": "execute_result"
    }
   ],
   "source": [
    "mean_absolute_percentage_error(y_train, pred_train)"
   ]
  },
  {
   "cell_type": "code",
   "execution_count": null,
   "id": "6a9910c7",
   "metadata": {},
   "outputs": [],
   "source": []
  },
  {
   "cell_type": "markdown",
   "id": "a9866e3f",
   "metadata": {},
   "source": [
    "- Ok, this is quite interpretable.\n",
    "- On average, we have around 8% error."
   ]
  },
  {
   "cell_type": "code",
   "execution_count": null,
   "id": "7b04dd34",
   "metadata": {},
   "outputs": [],
   "source": []
  },
  {
   "cell_type": "markdown",
   "id": "de24ae92",
   "metadata": {},
   "source": [
    "- Does `.fit()` know we care about MAPE?\n",
    "- No, it doesn't. Why are we minimizing MSE (or something similar) if we care about MAPE??\n",
    "- When minimizing MSE, the expensive houses will dominate because they have the biggest error."
   ]
  },
  {
   "cell_type": "markdown",
   "id": "d401f9b6",
   "metadata": {},
   "source": [
    "- Which is better for RMSE?"
   ]
  },
  {
   "cell_type": "markdown",
   "id": "fa395c53",
   "metadata": {},
   "source": [
    "Model A\n",
    "\n",
    "- Example 1: Truth: \\$50k, Prediction: \\\\$100k\n",
    "- Example 2: Truth: \\$500k, Prediction: \\\\$550k\n",
    "- RMSE: $50k\n",
    "- MAPE: 45%\n",
    "\n",
    "\n",
    "Model B\n",
    "\n",
    "- Example 1: Truth: \\$50k, Prediction: \\\\$60k\n",
    "- Example 2: Truth: \\$500k, Prediction: \\\\$600k\n",
    "- RMSE: $71k\n",
    "- MAPE: 20%"
   ]
  },
  {
   "cell_type": "code",
   "execution_count": null,
   "id": "c6ed589b",
   "metadata": {},
   "outputs": [],
   "source": []
  },
  {
   "cell_type": "markdown",
   "id": "dc98f2f4",
   "metadata": {},
   "source": [
    "- How can we get `.fit()` to think about MAPE?\n",
    "- A common practice which tends to work is log transforming the targets.\n",
    "- That is, transform $y\\rightarrow \\log(y)$."
   ]
  },
  {
   "cell_type": "code",
   "execution_count": null,
   "id": "d265c287",
   "metadata": {},
   "outputs": [],
   "source": []
  },
  {
   "cell_type": "code",
   "execution_count": 88,
   "id": "84163eec",
   "metadata": {},
   "outputs": [
    {
     "data": {
      "image/png": "[encoded data removed]",
      "text/plain": [
       "<Figure size 640x480 with 1 Axes>"
      ]
     },
     "metadata": {},
     "output_type": "display_data"
    }
   ],
   "source": [
    "plt.hist(y_train, bins=100);"
   ]
  },
  {
   "cell_type": "code",
   "execution_count": null,
   "id": "d096f2be",
   "metadata": {},
   "outputs": [],
   "source": []
  },
  {
   "cell_type": "code",
   "execution_count": 89,
   "id": "a648a649",
   "metadata": {},
   "outputs": [
    {
     "data": {
      "image/png": "[encoded data removed]",
      "text/plain": [
       "<Figure size 640x480 with 1 Axes>"
      ]
     },
     "metadata": {},
     "output_type": "display_data"
    }
   ],
   "source": [
    "plt.hist(np.log10(y_train), bins=100);"
   ]
  },
  {
   "cell_type": "code",
   "execution_count": null,
   "id": "dbc93827",
   "metadata": {},
   "outputs": [],
   "source": []
  },
  {
   "cell_type": "markdown",
   "id": "e5e086bb",
   "metadata": {},
   "source": [
    "We can incorporate this in our pipeline using `sklearn`. "
   ]
  },
  {
   "cell_type": "code",
   "execution_count": null,
   "id": "12828196",
   "metadata": {},
   "outputs": [],
   "source": []
  },
  {
   "cell_type": "code",
   "execution_count": 90,
   "id": "88678f86",
   "metadata": {},
   "outputs": [],
   "source": [
    "from sklearn.compose import TransformedTargetRegressor"
   ]
  },
  {
   "cell_type": "code",
   "execution_count": 92,
   "id": "3f88a06c",
   "metadata": {},
   "outputs": [],
   "source": [
    "ttr = TransformedTargetRegressor(\n",
    "    LinearRegression(), func=np.log1p, inverse_func=np.expm1\n",
    ") "
   ]
  },
  {
   "cell_type": "code",
   "execution_count": 93,
   "id": "d6ef4259",
   "metadata": {},
   "outputs": [],
   "source": [
    "ttr_pipe = make_pipeline(preprocessor, ttr)"
   ]
  },
  {
   "cell_type": "code",
   "execution_count": 94,
   "id": "9d281f44",
   "metadata": {},
   "outputs": [
    {
     "name": "stderr",
     "output_type": "stream",
     "text": [
      "C:\\Users\\sanjay\\anaconda3\\envs\\pytorch_cuda\\lib\\site-packages\\sklearn\\preprocessing\\_encoders.py:868: FutureWarning: `sparse` was renamed to `sparse_output` in version 1.2 and will be removed in 1.4. `sparse_output` is ignored unless you leave `sparse` to its default value.\n",
      "  warnings.warn(\n"
     ]
    }
   ],
   "source": [
    "ttr_pipe.fit(X_train, y_train); # y_train automatically transformed"
   ]
  },
  {
   "cell_type": "code",
   "execution_count": 95,
   "id": "c7a65565",
   "metadata": {},
   "outputs": [
    {
     "data": {
      "text/plain": [
       "array([216487.68875004, 157565.9286541 , 190464.53956242, ...,\n",
       "       278332.50095071, 129489.43607445, 133703.9122068 ])"
      ]
     },
     "execution_count": 95,
     "metadata": {},
     "output_type": "execute_result"
    }
   ],
   "source": [
    "ttr_pipe.predict(X_train)  # predictions automatically un-transformed"
   ]
  },
  {
   "cell_type": "code",
   "execution_count": 96,
   "id": "bc3285fc",
   "metadata": {},
   "outputs": [
    {
     "data": {
      "text/plain": [
       "0.08170117914327234"
      ]
     },
     "execution_count": 96,
     "metadata": {},
     "output_type": "execute_result"
    }
   ],
   "source": [
    "mean_absolute_percentage_error(y_test, ttr_pipe.predict(X_test))"
   ]
  },
  {
   "cell_type": "markdown",
   "id": "f5b7e456",
   "metadata": {},
   "source": [
    "We reduced MAPE from ~8.8% to ~8.1% with this trick! "
   ]
  },
  {
   "cell_type": "code",
   "execution_count": null,
   "id": "3a5fbd2a",
   "metadata": {},
   "outputs": [],
   "source": []
  },
  {
   "cell_type": "code",
   "execution_count": null,
   "id": "67a17967",
   "metadata": {},
   "outputs": [],
   "source": []
  },
  {
   "attachments": {
    "image.png": {
     "image/png": "[encoded data removed]"
    }
   },
   "cell_type": "markdown",
   "id": "badef758",
   "metadata": {},
   "source": [
    "## IoU (Intersection over Union)\n",
    "![image.png](attachment:image.png)"
   ]
  },
  {
   "cell_type": "code",
   "execution_count": null,
   "id": "c7691b71",
   "metadata": {},
   "outputs": [],
   "source": []
  },
  {
   "cell_type": "code",
   "execution_count": null,
   "id": "a9b13d55",
   "metadata": {},
   "outputs": [],
   "source": []
  },
  {
   "cell_type": "code",
   "execution_count": 122,
   "id": "5d3076e6",
   "metadata": {},
   "outputs": [
    {
     "data": {
      "text/plain": [
       "<matplotlib.image.AxesImage at 0x1c666486310>"
      ]
     },
     "execution_count": 122,
     "metadata": {},
     "output_type": "execute_result"
    },
    {
     "data": {
      "image/png": "[encoded data removed]",
      "text/plain": [
       "<Figure size 640x480 with 1 Axes>"
      ]
     },
     "metadata": {},
     "output_type": "display_data"
    }
   ],
   "source": [
    "zeros_array = np.zeros((128, 128, 1), dtype=np.int8)\n",
    "plt.imshow(zeros_array, 'gray')"
   ]
  },
  {
   "cell_type": "code",
   "execution_count": 117,
   "id": "fe75d20d",
   "metadata": {},
   "outputs": [],
   "source": [
    "pred=np.load('data/prediction_sample.npy')\n",
    "label=np.load('data/test_sample.npy')\n",
    "img=np.load('data/testInput_sample.npy')"
   ]
  },
  {
   "cell_type": "code",
   "execution_count": 125,
   "id": "deac85e1",
   "metadata": {},
   "outputs": [
    {
     "data": {
      "text/plain": [
       "(128, 128, 1)"
      ]
     },
     "execution_count": 125,
     "metadata": {},
     "output_type": "execute_result"
    }
   ],
   "source": [
    "zeros_array.shape"
   ]
  },
  {
   "cell_type": "code",
   "execution_count": 126,
   "id": "31d92c05",
   "metadata": {},
   "outputs": [
    {
     "data": {
      "text/plain": [
       "array([0], dtype=int8)"
      ]
     },
     "execution_count": 126,
     "metadata": {},
     "output_type": "execute_result"
    }
   ],
   "source": [
    "np.unique(zeros_array)"
   ]
  },
  {
   "cell_type": "code",
   "execution_count": 118,
   "id": "e10cc830",
   "metadata": {},
   "outputs": [
    {
     "data": {
      "text/plain": [
       "<matplotlib.image.AxesImage at 0x1c665ce65e0>"
      ]
     },
     "execution_count": 118,
     "metadata": {},
     "output_type": "execute_result"
    },
    {
     "data": {
      "image/png": "[encoded data removed]",
      "text/plain": [
       "<Figure size 640x480 with 3 Axes>"
      ]
     },
     "metadata": {},
     "output_type": "display_data"
    }
   ],
   "source": [
    "plt.subplot(1, 3, 1) \n",
    "plt.imshow(pred)\n",
    "plt.subplot(1, 3, 2)\n",
    "plt.imshow(label)\n",
    "plt.subplot(1, 3, 3)\n",
    "plt.imshow(img)"
   ]
  },
  {
   "cell_type": "code",
   "execution_count": 135,
   "id": "33843522",
   "metadata": {},
   "outputs": [],
   "source": [
    "def iou(predictions, masks):\n",
    "    intersection = np.logical_and(predictions, masks)\n",
    "    union = np.logical_or(predictions, masks)\n",
    "    iou = np.sum(intersection) / np.sum(union)\n",
    "    return iou\n"
   ]
  },
  {
   "cell_type": "code",
   "execution_count": 127,
   "id": "88d2d09a",
   "metadata": {},
   "outputs": [
    {
     "data": {
      "text/plain": [
       "0.9180908203125"
      ]
     },
     "execution_count": 127,
     "metadata": {},
     "output_type": "execute_result"
    }
   ],
   "source": [
    "from sklearn.metrics import accuracy_score\n",
    "\n",
    "acc=accuracy_score(label.ravel(), zeros_array.ravel())\n",
    "acc"
   ]
  },
  {
   "cell_type": "code",
   "execution_count": 131,
   "id": "77b4a216",
   "metadata": {},
   "outputs": [
    {
     "data": {
      "image/png": "[encoded data removed]",
      "text/plain": [
       "<Figure size 640x480 with 2 Axes>"
      ]
     },
     "metadata": {},
     "output_type": "display_data"
    }
   ],
   "source": [
    "plt.subplot(1, 2, 1) \n",
    "plt.imshow(label)\n",
    "plt.subplot(1, 2, 2)\n",
    "plt.imshow(zeros_array)\n",
    "plt.show()"
   ]
  },
  {
   "cell_type": "code",
   "execution_count": 132,
   "id": "93ad8e0b",
   "metadata": {},
   "outputs": [
    {
     "data": {
      "text/plain": [
       "0.77587890625"
      ]
     },
     "execution_count": 132,
     "metadata": {},
     "output_type": "execute_result"
    }
   ],
   "source": [
    "acc=accuracy_score(label.ravel(), pred.ravel())\n",
    "acc"
   ]
  },
  {
   "cell_type": "code",
   "execution_count": 133,
   "id": "ca960f13",
   "metadata": {},
   "outputs": [
    {
     "data": {
      "image/png": "[encoded data removed]",
      "text/plain": [
       "<Figure size 640x480 with 2 Axes>"
      ]
     },
     "metadata": {},
     "output_type": "display_data"
    }
   ],
   "source": [
    "plt.subplot(1, 2, 1) \n",
    "plt.imshow(label)\n",
    "plt.subplot(1, 2, 2)\n",
    "plt.imshow(pred)\n",
    "plt.show()"
   ]
  },
  {
   "cell_type": "code",
   "execution_count": 136,
   "id": "d0bd5e94",
   "metadata": {},
   "outputs": [
    {
     "data": {
      "text/plain": [
       "0.0"
      ]
     },
     "execution_count": 136,
     "metadata": {},
     "output_type": "execute_result"
    }
   ],
   "source": [
    "iou_1=iou(label, zeros_array)\n",
    "iou_1"
   ]
  },
  {
   "cell_type": "code",
   "execution_count": 137,
   "id": "9f33d1e0",
   "metadata": {},
   "outputs": [
    {
     "data": {
      "text/plain": [
       "0.2645703985579812"
      ]
     },
     "execution_count": 137,
     "metadata": {},
     "output_type": "execute_result"
    }
   ],
   "source": [
    "iou_2=iou(label, pred)\n",
    "iou_2"
   ]
  },
  {
   "cell_type": "code",
   "execution_count": null,
   "id": "09ff5d76",
   "metadata": {},
   "outputs": [],
   "source": []
  },
  {
   "cell_type": "code",
   "execution_count": null,
   "id": "adaf839b",
   "metadata": {},
   "outputs": [],
   "source": []
  },
  {
   "cell_type": "code",
   "execution_count": null,
   "id": "93d534ca",
   "metadata": {},
   "outputs": [],
   "source": []
  },
  {
   "cell_type": "markdown",
   "id": "ebe4c9f1",
   "metadata": {},
   "source": [
    "# Data fitting types"
   ]
  },
  {
   "cell_type": "markdown",
   "id": "9a35dc3b",
   "metadata": {},
   "source": [
    "## Underfitting, overfitting, the fundamental trade-off"
   ]
  },
  {
   "cell_type": "markdown",
   "id": "52585891",
   "metadata": {},
   "source": [
    "### Types of errors\n",
    "\n",
    "Imagine that your train and validation errors do not align with each other. How do you diagnose the problem?  \n",
    "\n",
    "We're going to think about 4 types of errors:\n",
    "\n",
    "- $E_\\textrm{train}$ is your training error (or mean train error from cross-validation).\n",
    "- $E_\\textrm{valid}$ is your validation error (or mean validation error from cross-validation).\n",
    "- $E_\\textrm{test}$ is your test error.\n",
    "- $E_\\textrm{best}$ is the best possible error you could get for a given problem."
   ]
  },
  {
   "cell_type": "markdown",
   "id": "396dedd8",
   "metadata": {},
   "source": [
    "### Underfitting "
   ]
  },
  {
   "cell_type": "code",
   "execution_count": 98,
   "id": "b5a26ff7",
   "metadata": {},
   "outputs": [],
   "source": [
    "df = pd.read_csv(\"data/canada_usa_cities.csv\")\n",
    "X = df.drop(columns=[\"country\"])\n",
    "y = df[\"country\"]"
   ]
  },
  {
   "cell_type": "code",
   "execution_count": 99,
   "id": "43bc6bfb",
   "metadata": {},
   "outputs": [],
   "source": [
    "X_train, X_test, y_train, y_test = train_test_split(X, y, random_state=42)\n"
   ]
  },
  {
   "cell_type": "code",
   "execution_count": 100,
   "id": "1bb3c098",
   "metadata": {},
   "outputs": [
    {
     "name": "stdout",
     "output_type": "stream",
     "text": [
      "Train error:   0.188\n",
      "Validation error:   0.212\n"
     ]
    }
   ],
   "source": [
    "model = DecisionTreeClassifier(max_depth=1)  # decision stump\n",
    "scores = cross_validate(model, X_train, y_train, cv=10, return_train_score=True)\n",
    "print(\"Train error:   %0.3f\" % (1 - np.mean(scores[\"train_score\"])))\n",
    "print(\"Validation error:   %0.3f\" % (1 - np.mean(scores[\"test_score\"])))"
   ]
  },
  {
   "cell_type": "markdown",
   "id": "3fce6f7c",
   "metadata": {},
   "source": [
    "- If your model is too simple, like `DummyClassifier` or `DecisionTreeClassifier` with `max_depth=1`, it's not going to pick up on some random quirks in the data but it won't even capture useful patterns in the training data.\n",
    "- The model won't be very good in general. Both train and validation errors would be high. This is **underfitting**.\n",
    "- The gap between train and validation error is going to be lower.\n",
    "- $E_\\textrm{best} \\lt E_\\textrm{train} \\lesssim E_\\textrm{valid}$"
   ]
  },
  {
   "cell_type": "code",
   "execution_count": null,
   "id": "845d38b4",
   "metadata": {},
   "outputs": [],
   "source": []
  },
  {
   "cell_type": "markdown",
   "id": "999d941b",
   "metadata": {},
   "source": [
    "### Overfitting "
   ]
  },
  {
   "cell_type": "code",
   "execution_count": 101,
   "id": "b1a7779d",
   "metadata": {},
   "outputs": [
    {
     "name": "stdout",
     "output_type": "stream",
     "text": [
      "Train error:   0.000\n",
      "Validation error:   0.213\n"
     ]
    }
   ],
   "source": [
    "model = DecisionTreeClassifier(max_depth=None)\n",
    "scores = cross_validate(model, X_train, y_train, cv=10, return_train_score=True)\n",
    "print(\"Train error:   %0.3f\" % (1 - np.mean(scores[\"train_score\"])))\n",
    "print(\"Validation error:   %0.3f\" % (1 - np.mean(scores[\"test_score\"])))"
   ]
  },
  {
   "cell_type": "code",
   "execution_count": null,
   "id": "a05e6188",
   "metadata": {},
   "outputs": [],
   "source": []
  },
  {
   "cell_type": "markdown",
   "id": "392ad95e",
   "metadata": {},
   "source": [
    "- If your model is very complex, like a `DecisionTreeClassifier(max_depth=None)`, then you will learn unreliable patterns in order to get every single training example correct.\n",
    "- The training error is going to be very low but there will be a big gap between the training error and the validation error. This is **overfitting**.\n",
    "- In overfitting scenario, usually we'll see: \n",
    "$E_\\textrm{train} \\lt E_\\textrm{best}  \\lt E_\\textrm{valid}$\n",
    "- In general, if $E_\\textrm{train}$ is low, we are likely to be in the overfitting scenario. It is fairly common to have at least a bit of this."
   ]
  },
  {
   "cell_type": "code",
   "execution_count": null,
   "id": "8a03dc4e",
   "metadata": {},
   "outputs": [],
   "source": []
  },
  {
   "cell_type": "markdown",
   "id": "f9a84239",
   "metadata": {},
   "source": [
    "- So the validation error does not necessarily decrease with the training error. "
   ]
  },
  {
   "cell_type": "code",
   "execution_count": 102,
   "id": "8d95259a",
   "metadata": {},
   "outputs": [],
   "source": [
    "X_train, X_test, y_train, y_test = train_test_split(X, y, random_state=1)\n",
    "results_dict = {\n",
    "    \"depth\": [],\n",
    "    \"mean_train_error\": [],\n",
    "    \"mean_cv_error\": [],\n",
    "    \"std_cv_error\": [],\n",
    "    \"std_train_error\": [],\n",
    "}\n",
    "param_grid = {\"max_depth\": np.arange(1, 16)}\n",
    "\n",
    "for depth in param_grid[\"max_depth\"]:\n",
    "    model = DecisionTreeClassifier(max_depth=depth)\n",
    "    scores = cross_validate(model, X_train, y_train, cv=10, return_train_score=True)\n",
    "    results_dict[\"depth\"].append(depth)\n",
    "    results_dict[\"mean_cv_error\"].append(1 - np.mean(scores[\"test_score\"]))\n",
    "    results_dict[\"mean_train_error\"].append(1 - np.mean(scores[\"train_score\"]))\n",
    "    results_dict[\"std_cv_error\"].append(scores[\"test_score\"].std())\n",
    "    results_dict[\"std_train_error\"].append(scores[\"train_score\"].std())\n",
    "\n",
    "results_df = pd.DataFrame(results_dict)\n",
    "results_df = results_df.set_index(\"depth\")"
   ]
  },
  {
   "cell_type": "code",
   "execution_count": 103,
   "id": "74b947b5",
   "metadata": {},
   "outputs": [
    {
     "data": {
      "image/png": "[encoded data removed]",
      "text/plain": [
       "<Figure size 640x480 with 1 Axes>"
      ]
     },
     "metadata": {},
     "output_type": "display_data"
    }
   ],
   "source": [
    "results_df[[\"mean_train_error\", \"mean_cv_error\"]].plot();"
   ]
  },
  {
   "cell_type": "markdown",
   "id": "f3c2f745",
   "metadata": {},
   "source": [
    "- Here, for larger depths we observe that the training error is close to 0 but validation error goes up and down. \n",
    "- As we make more complex models we start encoding random quirks in the data, which are not grounded in reality.  \n",
    "- These random quirks do not generalize well to new data. \n",
    "- This problem of failing to be able to generalize to the validation data or test data is called **overfitting**."
   ]
  },
  {
   "cell_type": "code",
   "execution_count": null,
   "id": "c75f03bb",
   "metadata": {},
   "outputs": [],
   "source": []
  },
  {
   "cell_type": "markdown",
   "id": "3738fd0d",
   "metadata": {},
   "source": [
    "### The \"fundamental tradeoff\" of supervised learning:\n",
    "\n",
    "\n",
    "**As you increase model complexity, $E_\\textrm{train}$ tends to go down but $E_\\textrm{valid}-E_\\textrm{train}$ tends to go up.**\n"
   ]
  },
  {
   "cell_type": "code",
   "execution_count": null,
   "id": "162f2076",
   "metadata": {},
   "outputs": [],
   "source": []
  },
  {
   "cell_type": "markdown",
   "id": "4d819530",
   "metadata": {},
   "source": [
    "### Bias vs variance tradeoff \n",
    "\n",
    "- The fundamental trade-off is also called the bias/variance tradeoff in supervised machine learning.\n",
    "\n",
    "**Bias**\n",
    ": the tendency to consistently learn the same wrong thing (high bias corresponds to underfitting)\n",
    "\n",
    "**Variance** \n",
    ": the tendency to learn random things irrespective of the real signal (high variance corresponds to overfitting)"
   ]
  },
  {
   "cell_type": "code",
   "execution_count": null,
   "id": "42e0c898",
   "metadata": {},
   "outputs": [],
   "source": []
  },
  {
   "cell_type": "markdown",
   "id": "212d0eee",
   "metadata": {},
   "source": [
    "\n",
    "Check out [this article by Pedro Domingos](https://homes.cs.washington.edu/~pedrod/papers/cacm12.pdf) for some approachable explanation on machine learning fundamentals and bias-variance tradeoff. \n"
   ]
  },
  {
   "cell_type": "markdown",
   "id": "de7e0b55",
   "metadata": {},
   "source": [
    "### How to pick a model that would generalize better?\n",
    "\n",
    "- We want to avoid both underfitting and overfitting. \n",
    "- We want to be consistent with the training data but we don't to rely too much on it. \n",
    "\n",
    "<!-- <center>\n",
    "<img src='img/malp_0201.png' width=\"800\" height=\"800\" />\n",
    "</center>    \n",
    " -->\n",
    "![](img/malp_0201.png)\n",
    "\n",
    "[source](https://learning.oreilly.com/library/view/introduction-to-machine/9781449369880/ch02.html#relation-of-model-complexity-to-dataset-size)"
   ]
  },
  {
   "cell_type": "code",
   "execution_count": null,
   "id": "6c765ece",
   "metadata": {},
   "outputs": [],
   "source": []
  },
  {
   "cell_type": "markdown",
   "id": "0f076f10",
   "metadata": {},
   "source": [
    "- There are many subtleties here and there is no perfect answer but a  common practice is to pick the model with minimum cross-validation error. "
   ]
  },
  {
   "cell_type": "code",
   "execution_count": null,
   "id": "961f1b5b",
   "metadata": {},
   "outputs": [],
   "source": []
  },
  {
   "cell_type": "code",
   "execution_count": 104,
   "id": "b127c11a",
   "metadata": {},
   "outputs": [],
   "source": [
    "def cross_validate_std(*args, **kwargs):\n",
    "    \"\"\"Like cross_validate, except also gives the standard deviation of the score\"\"\"\n",
    "    res = pd.DataFrame(cross_validate(*args, **kwargs))\n",
    "    res_mean = res.mean()\n",
    "    res_mean[\"std_test_score\"] = res[\"test_score\"].std()\n",
    "    if \"train_score\" in res:\n",
    "        res_mean[\"std_train_score\"] = res[\"train_score\"].std()\n",
    "    return res_mean"
   ]
  },
  {
   "cell_type": "code",
   "execution_count": 105,
   "id": "96156a2a",
   "metadata": {},
   "outputs": [
    {
     "data": {
      "text/html": [
       "<div>\n",
       "<style scoped>\n",
       "    .dataframe tbody tr th:only-of-type {\n",
       "        vertical-align: middle;\n",
       "    }\n",
       "\n",
       "    .dataframe tbody tr th {\n",
       "        vertical-align: top;\n",
       "    }\n",
       "\n",
       "    .dataframe thead th {\n",
       "        text-align: right;\n",
       "    }\n",
       "</style>\n",
       "<table border=\"1\" class=\"dataframe\">\n",
       "  <thead>\n",
       "    <tr style=\"text-align: right;\">\n",
       "      <th></th>\n",
       "      <th>mean_train_error</th>\n",
       "      <th>mean_cv_error</th>\n",
       "      <th>std_cv_error</th>\n",
       "      <th>std_train_error</th>\n",
       "    </tr>\n",
       "    <tr>\n",
       "      <th>depth</th>\n",
       "      <th></th>\n",
       "      <th></th>\n",
       "      <th></th>\n",
       "      <th></th>\n",
       "    </tr>\n",
       "  </thead>\n",
       "  <tbody>\n",
       "    <tr>\n",
       "      <th>1</th>\n",
       "      <td>0.171657</td>\n",
       "      <td>0.211250</td>\n",
       "      <td>0.048378</td>\n",
       "      <td>0.006805</td>\n",
       "    </tr>\n",
       "    <tr>\n",
       "      <th>2</th>\n",
       "      <td>0.160258</td>\n",
       "      <td>0.223750</td>\n",
       "      <td>0.062723</td>\n",
       "      <td>0.007316</td>\n",
       "    </tr>\n",
       "    <tr>\n",
       "      <th>3</th>\n",
       "      <td>0.142467</td>\n",
       "      <td>0.210833</td>\n",
       "      <td>0.067757</td>\n",
       "      <td>0.022848</td>\n",
       "    </tr>\n",
       "    <tr>\n",
       "      <th>4</th>\n",
       "      <td>0.092604</td>\n",
       "      <td>0.197917</td>\n",
       "      <td>0.056955</td>\n",
       "      <td>0.006531</td>\n",
       "    </tr>\n",
       "    <tr>\n",
       "      <th>5</th>\n",
       "      <td>0.083338</td>\n",
       "      <td>0.185000</td>\n",
       "      <td>0.064205</td>\n",
       "      <td>0.010650</td>\n",
       "    </tr>\n",
       "    <tr>\n",
       "      <th>6</th>\n",
       "      <td>0.066960</td>\n",
       "      <td>0.197500</td>\n",
       "      <td>0.074773</td>\n",
       "      <td>0.012065</td>\n",
       "    </tr>\n",
       "    <tr>\n",
       "      <th>7</th>\n",
       "      <td>0.044873</td>\n",
       "      <td>0.210417</td>\n",
       "      <td>0.084641</td>\n",
       "      <td>0.009059</td>\n",
       "    </tr>\n",
       "    <tr>\n",
       "      <th>8</th>\n",
       "      <td>0.029909</td>\n",
       "      <td>0.210000</td>\n",
       "      <td>0.092331</td>\n",
       "      <td>0.009422</td>\n",
       "    </tr>\n",
       "    <tr>\n",
       "      <th>9</th>\n",
       "      <td>0.020653</td>\n",
       "      <td>0.197083</td>\n",
       "      <td>0.093950</td>\n",
       "      <td>0.010294</td>\n",
       "    </tr>\n",
       "    <tr>\n",
       "      <th>10</th>\n",
       "      <td>0.010679</td>\n",
       "      <td>0.235417</td>\n",
       "      <td>0.096990</td>\n",
       "      <td>0.007938</td>\n",
       "    </tr>\n",
       "    <tr>\n",
       "      <th>11</th>\n",
       "      <td>0.005699</td>\n",
       "      <td>0.222500</td>\n",
       "      <td>0.105577</td>\n",
       "      <td>0.004264</td>\n",
       "    </tr>\n",
       "    <tr>\n",
       "      <th>12</th>\n",
       "      <td>0.003561</td>\n",
       "      <td>0.242083</td>\n",
       "      <td>0.086932</td>\n",
       "      <td>0.004769</td>\n",
       "    </tr>\n",
       "    <tr>\n",
       "      <th>13</th>\n",
       "      <td>0.000000</td>\n",
       "      <td>0.235833</td>\n",
       "      <td>0.092687</td>\n",
       "      <td>0.000000</td>\n",
       "    </tr>\n",
       "    <tr>\n",
       "      <th>14</th>\n",
       "      <td>0.000000</td>\n",
       "      <td>0.235833</td>\n",
       "      <td>0.092687</td>\n",
       "      <td>0.000000</td>\n",
       "    </tr>\n",
       "    <tr>\n",
       "      <th>15</th>\n",
       "      <td>0.000000</td>\n",
       "      <td>0.235833</td>\n",
       "      <td>0.088373</td>\n",
       "      <td>0.000000</td>\n",
       "    </tr>\n",
       "  </tbody>\n",
       "</table>\n",
       "</div>"
      ],
      "text/plain": [
       "       mean_train_error  mean_cv_error  std_cv_error  std_train_error\n",
       "depth                                                                \n",
       "1              0.171657       0.211250      0.048378         0.006805\n",
       "2              0.160258       0.223750      0.062723         0.007316\n",
       "3              0.142467       0.210833      0.067757         0.022848\n",
       "4              0.092604       0.197917      0.056955         0.006531\n",
       "5              0.083338       0.185000      0.064205         0.010650\n",
       "6              0.066960       0.197500      0.074773         0.012065\n",
       "7              0.044873       0.210417      0.084641         0.009059\n",
       "8              0.029909       0.210000      0.092331         0.009422\n",
       "9              0.020653       0.197083      0.093950         0.010294\n",
       "10             0.010679       0.235417      0.096990         0.007938\n",
       "11             0.005699       0.222500      0.105577         0.004264\n",
       "12             0.003561       0.242083      0.086932         0.004769\n",
       "13             0.000000       0.235833      0.092687         0.000000\n",
       "14             0.000000       0.235833      0.092687         0.000000\n",
       "15             0.000000       0.235833      0.088373         0.000000"
      ]
     },
     "execution_count": 105,
     "metadata": {},
     "output_type": "execute_result"
    }
   ],
   "source": [
    "results_df"
   ]
  },
  {
   "cell_type": "code",
   "execution_count": null,
   "id": "a9956ca9",
   "metadata": {},
   "outputs": [],
   "source": []
  },
  {
   "cell_type": "markdown",
   "id": "5662ce4b",
   "metadata": {},
   "source": [
    "### test score vs. cross-validation score"
   ]
  },
  {
   "cell_type": "code",
   "execution_count": 106,
   "id": "f774e589",
   "metadata": {},
   "outputs": [
    {
     "name": "stdout",
     "output_type": "stream",
     "text": [
      "The minimum validation error is 0.185 at max_depth = 5 \n"
     ]
    }
   ],
   "source": [
    "best_depth = results_df.index.values[np.argmin(results_df[\"mean_cv_error\"])]\n",
    "print(\n",
    "    \"The minimum validation error is %0.3f at max_depth = %d \"\n",
    "    % (\n",
    "        np.min(results_df[\"mean_cv_error\"]),\n",
    "        best_depth,\n",
    "    )\n",
    ")"
   ]
  },
  {
   "cell_type": "markdown",
   "id": "0cf781b4",
   "metadata": {},
   "source": [
    "- Let's pick `max_depth`= 5 and try this model on the test set. "
   ]
  },
  {
   "cell_type": "code",
   "execution_count": 107,
   "id": "72a1bb33",
   "metadata": {},
   "outputs": [
    {
     "name": "stdout",
     "output_type": "stream",
     "text": [
      "Error on test set: 0.19\n"
     ]
    }
   ],
   "source": [
    "model = DecisionTreeClassifier(max_depth=best_depth)\n",
    "model.fit(X_train, y_train)\n",
    "print(f\"Error on test set: {1 - model.score(X_test, y_test):.2f}\")"
   ]
  },
  {
   "cell_type": "markdown",
   "id": "ac826134",
   "metadata": {},
   "source": [
    "- The test error is comparable with the cross-validation error. \n",
    "- Do we feel confident that this model would give similar performace when deployed? "
   ]
  },
  {
   "cell_type": "markdown",
   "id": "6ac89508",
   "metadata": {},
   "source": [
    "### The golden rule <a name=\"4\"></a>\n",
    "\n",
    "- Even though we care the most about test error **THE TEST DATA CANNOT INFLUENCE THE TRAINING PHASE IN ANY WAY**. \n",
    "- We have to be very careful not to violate it while developing our ML pipeline. \n",
    "- Even experts end up breaking it sometimes which leads to misleading results and lack of generalization on the real data. "
   ]
  }
 ],
 "metadata": {
  "kernelspec": {
   "display_name": "Python 3 (ipykernel)",
   "language": "python",
   "name": "python3"
  },
  "language_info": {
   "codemirror_mode": {
    "name": "ipython",
    "version": 3
   },
   "file_extension": ".py",
   "mimetype": "text/x-python",
   "name": "python",
   "nbconvert_exporter": "python",
   "pygments_lexer": "ipython3",
   "version": "3.8.16"
  }
 },
 "nbformat": 4,
 "nbformat_minor": 5
}
